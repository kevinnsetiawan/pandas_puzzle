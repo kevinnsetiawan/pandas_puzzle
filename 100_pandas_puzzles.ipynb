{
  "cells": [
    {
      "cell_type": "markdown",
      "metadata": {
        "id": "GqyiwCLPUtqK"
      },
      "source": [
        "# 100 pandas puzzles\n",
        "\n",
        "Inspired by [100 Numpy exerises](https://github.com/rougier/numpy-100), here are 100* short puzzles for testing your knowledge of [pandas'](http://pandas.pydata.org/) power.\n",
        "\n",
        "Since pandas is a large library with many different specialist features and functions, these excercises focus mainly on the fundamentals of manipulating data (indexing, grouping, aggregating, cleaning), making use of the core DataFrame and Series objects.\n",
        "\n",
        "Many of the excerises here are stright-forward in that the solutions require no more than a few lines of code (in pandas or NumPy... don't go using pure Python or Cython!). Choosing the right methods and following best practices is the underlying goal.\n",
        "\n",
        "The exercises are loosely divided in sections. Each section has a difficulty rating; these ratings are subjective, of course, but should be a seen as a rough guide as to how inventive the required solution is.\n",
        "\n",
        "If you're just starting out with pandas and you are looking for some other resources, the official documentation  is very extensive. In particular, some good places get a broader overview of pandas are...\n",
        "\n",
        "- [10 minutes to pandas](http://pandas.pydata.org/pandas-docs/stable/10min.html)\n",
        "- [pandas basics](http://pandas.pydata.org/pandas-docs/stable/basics.html)\n",
        "- [tutorials](http://pandas.pydata.org/pandas-docs/stable/tutorials.html)\n",
        "- [cookbook and idioms](http://pandas.pydata.org/pandas-docs/stable/cookbook.html#cookbook)\n",
        "\n",
        "Enjoy the puzzles!\n",
        "\n",
        "\\* *the list of exercises is not yet complete! Pull requests or suggestions for additional exercises, corrections and improvements are welcomed.*"
      ]
    },
    {
      "cell_type": "markdown",
      "metadata": {
        "id": "08ZBFGBJUtqQ"
      },
      "source": [
        "## Importing pandas\n",
        "\n",
        "### Getting started and checking your pandas setup\n",
        "\n",
        "Difficulty: *easy*\n",
        "\n",
        "**1.** Import pandas under the alias `pd`."
      ]
    },
    {
      "cell_type": "code",
      "execution_count": 1,
      "metadata": {
        "collapsed": true,
        "id": "4spMTeeIUtqR"
      },
      "outputs": [],
      "source": [
        "import pandas as pd\n"
      ]
    },
    {
      "cell_type": "markdown",
      "metadata": {
        "id": "RWI7PETUUtqR"
      },
      "source": [
        "**2.** Print the version of pandas that has been imported."
      ]
    },
    {
      "cell_type": "code",
      "execution_count": 2,
      "metadata": {
        "collapsed": true,
        "colab": {
          "base_uri": "https://localhost:8080/"
        },
        "id": "5Y2J6b_fUtqS",
        "outputId": "a4696996-7d23-46c9-8526-9400be145bd7"
      },
      "outputs": [
        {
          "output_type": "stream",
          "name": "stdout",
          "text": [
            "2.2.2\n"
          ]
        }
      ],
      "source": [
        "print(pd.__version__)"
      ]
    },
    {
      "cell_type": "markdown",
      "metadata": {
        "id": "Nf_u1GcCUtqT"
      },
      "source": [
        "**3.** Print out all the *version* information of the libraries that are required by the pandas library."
      ]
    },
    {
      "cell_type": "code",
      "execution_count": 3,
      "metadata": {
        "collapsed": true,
        "colab": {
          "base_uri": "https://localhost:8080/"
        },
        "id": "qfsLYaAaUtqT",
        "outputId": "f3e0c4d5-2566-4e35-94f8-349701a430fa"
      },
      "outputs": [
        {
          "output_type": "stream",
          "name": "stderr",
          "text": [
            "/usr/local/lib/python3.10/dist-packages/_distutils_hack/__init__.py:31: UserWarning: Setuptools is replacing distutils. Support for replacing an already imported distutils is deprecated. In the future, this condition will fail. Register concerns at https://github.com/pypa/setuptools/issues/new?template=distutils-deprecation.yml\n",
            "  warnings.warn(\n"
          ]
        },
        {
          "output_type": "stream",
          "name": "stdout",
          "text": [
            "\n",
            "INSTALLED VERSIONS\n",
            "------------------\n",
            "commit                : d9cdd2ee5a58015ef6f4d15c7226110c9aab8140\n",
            "python                : 3.10.12.final.0\n",
            "python-bits           : 64\n",
            "OS                    : Linux\n",
            "OS-release            : 6.1.85+\n",
            "Version               : #1 SMP PREEMPT_DYNAMIC Thu Jun 27 21:05:47 UTC 2024\n",
            "machine               : x86_64\n",
            "processor             : x86_64\n",
            "byteorder             : little\n",
            "LC_ALL                : en_US.UTF-8\n",
            "LANG                  : en_US.UTF-8\n",
            "LOCALE                : en_US.UTF-8\n",
            "\n",
            "pandas                : 2.2.2\n",
            "numpy                 : 1.26.4\n",
            "pytz                  : 2024.2\n",
            "dateutil              : 2.8.2\n",
            "setuptools            : 75.1.0\n",
            "pip                   : 24.1.2\n",
            "Cython                : 3.0.11\n",
            "pytest                : 8.3.3\n",
            "hypothesis            : None\n",
            "sphinx                : 8.1.3\n",
            "blosc                 : None\n",
            "feather               : None\n",
            "xlsxwriter            : None\n",
            "lxml.etree            : 5.3.0\n",
            "html5lib              : 1.1\n",
            "pymysql               : None\n",
            "psycopg2              : 2.9.10\n",
            "jinja2                : 3.1.4\n",
            "IPython               : 7.34.0\n",
            "pandas_datareader     : 0.10.0\n",
            "adbc-driver-postgresql: None\n",
            "adbc-driver-sqlite    : None\n",
            "bs4                   : 4.12.3\n",
            "bottleneck            : 1.4.2\n",
            "dataframe-api-compat  : None\n",
            "fastparquet           : None\n",
            "fsspec                : 2024.10.0\n",
            "gcsfs                 : 2024.10.0\n",
            "matplotlib            : 3.8.0\n",
            "numba                 : 0.60.0\n",
            "numexpr               : 2.10.1\n",
            "odfpy                 : None\n",
            "openpyxl              : 3.1.5\n",
            "pandas_gbq            : 0.24.0\n",
            "pyarrow               : 17.0.0\n",
            "pyreadstat            : None\n",
            "python-calamine       : None\n",
            "pyxlsb                : None\n",
            "s3fs                  : None\n",
            "scipy                 : 1.13.1\n",
            "sqlalchemy            : 2.0.36\n",
            "tables                : 3.10.1\n",
            "tabulate              : 0.9.0\n",
            "xarray                : 2024.10.0\n",
            "xlrd                  : 2.0.1\n",
            "zstandard             : None\n",
            "tzdata                : 2024.2\n",
            "qtpy                  : None\n",
            "pyqt5                 : None\n"
          ]
        }
      ],
      "source": [
        "pd.show_versions()"
      ]
    },
    {
      "cell_type": "markdown",
      "metadata": {
        "id": "JMXReu63UtqU"
      },
      "source": [
        "## DataFrame basics\n",
        "\n",
        "### A few of the fundamental routines for selecting, sorting, adding and aggregating data in DataFrames\n",
        "\n",
        "Difficulty: *easy*\n",
        "\n",
        "Note: remember to import numpy using:\n",
        "```python\n",
        "import numpy as np\n",
        "```\n",
        "\n",
        "Consider the following Python dictionary `data` and Python list `labels`:\n",
        "\n",
        "``` python\n",
        "data = {'animal': ['cat', 'cat', 'snake', 'dog', 'dog', 'cat', 'snake', 'cat', 'dog', 'dog'],\n",
        "        'age': [2.5, 3, 0.5, np.nan, 5, 2, 4.5, np.nan, 7, 3],\n",
        "        'visits': [1, 3, 2, 3, 2, 3, 1, 1, 2, 1],\n",
        "        'priority': ['yes', 'yes', 'no', 'yes', 'no', 'no', 'no', 'yes', 'no', 'no']}\n",
        "\n",
        "labels = ['a', 'b', 'c', 'd', 'e', 'f', 'g', 'h', 'i', 'j']\n",
        "```\n",
        "(This is just some meaningless data I made up with the theme of animals and trips to a vet.)\n",
        "\n",
        "**4.** Create a DataFrame `df` from this dictionary `data` which has the index `labels`."
      ]
    },
    {
      "cell_type": "code",
      "execution_count": 6,
      "metadata": {
        "collapsed": true,
        "id": "z0MRbRB8UtqV"
      },
      "outputs": [],
      "source": [
        "import numpy as np\n",
        "\n",
        "data = {'animal': ['cat', 'cat', 'snake', 'dog', 'dog', 'cat', 'snake', 'cat', 'dog', 'dog'],\n",
        "        'age': [2.5, 3, 0.5, np.nan, 5, 2, 4.5, np.nan, 7, 3],\n",
        "        'visits': [1, 3, 2, 3, 2, 3, 1, 1, 2, 1],\n",
        "        'priority': ['yes', 'yes', 'no', 'yes', 'no', 'no', 'no', 'yes', 'no', 'no']}\n",
        "\n",
        "labels = ['a', 'b', 'c', 'd', 'e', 'f', 'g', 'h', 'i', 'j']\n",
        "\n",
        "df = pd.DataFrame(data, index=labels)"
      ]
    },
    {
      "cell_type": "markdown",
      "metadata": {
        "id": "qdMZ3_ntUtqW"
      },
      "source": [
        "**5.** Display a summary of the basic information about this DataFrame and its data (*hint: there is a single method that can be called on the DataFrame*)."
      ]
    },
    {
      "cell_type": "code",
      "execution_count": 7,
      "metadata": {
        "collapsed": true,
        "colab": {
          "base_uri": "https://localhost:8080/"
        },
        "id": "_wzP_S7GUtqX",
        "outputId": "3bd8a39b-565a-4a1e-bc64-725ed737bcf1"
      },
      "outputs": [
        {
          "output_type": "stream",
          "name": "stdout",
          "text": [
            "<class 'pandas.core.frame.DataFrame'>\n",
            "Index: 10 entries, a to j\n",
            "Data columns (total 4 columns):\n",
            " #   Column    Non-Null Count  Dtype  \n",
            "---  ------    --------------  -----  \n",
            " 0   animal    10 non-null     object \n",
            " 1   age       8 non-null      float64\n",
            " 2   visits    10 non-null     int64  \n",
            " 3   priority  10 non-null     object \n",
            "dtypes: float64(1), int64(1), object(2)\n",
            "memory usage: 400.0+ bytes\n"
          ]
        }
      ],
      "source": [
        "# Menampilkan ringkasan informasi dasar tentang DataFrame\n",
        "df.info()\n"
      ]
    },
    {
      "cell_type": "markdown",
      "metadata": {
        "id": "Y_U6sWPsUtqX"
      },
      "source": [
        "**6.** Return the first 3 rows of the DataFrame `df`."
      ]
    },
    {
      "cell_type": "code",
      "execution_count": 8,
      "metadata": {
        "collapsed": true,
        "colab": {
          "base_uri": "https://localhost:8080/",
          "height": 143
        },
        "id": "9NFyoa72UtqY",
        "outputId": "afdaad7f-b4c1-4b8f-d074-98238571081f"
      },
      "outputs": [
        {
          "output_type": "execute_result",
          "data": {
            "text/plain": [
              "  animal  age  visits priority\n",
              "a    cat  2.5       1      yes\n",
              "b    cat  3.0       3      yes\n",
              "c  snake  0.5       2       no"
            ],
            "text/html": [
              "\n",
              "  <div id=\"df-fa1867f9-702c-4329-a23b-044afc5367d2\" class=\"colab-df-container\">\n",
              "    <div>\n",
              "<style scoped>\n",
              "    .dataframe tbody tr th:only-of-type {\n",
              "        vertical-align: middle;\n",
              "    }\n",
              "\n",
              "    .dataframe tbody tr th {\n",
              "        vertical-align: top;\n",
              "    }\n",
              "\n",
              "    .dataframe thead th {\n",
              "        text-align: right;\n",
              "    }\n",
              "</style>\n",
              "<table border=\"1\" class=\"dataframe\">\n",
              "  <thead>\n",
              "    <tr style=\"text-align: right;\">\n",
              "      <th></th>\n",
              "      <th>animal</th>\n",
              "      <th>age</th>\n",
              "      <th>visits</th>\n",
              "      <th>priority</th>\n",
              "    </tr>\n",
              "  </thead>\n",
              "  <tbody>\n",
              "    <tr>\n",
              "      <th>a</th>\n",
              "      <td>cat</td>\n",
              "      <td>2.5</td>\n",
              "      <td>1</td>\n",
              "      <td>yes</td>\n",
              "    </tr>\n",
              "    <tr>\n",
              "      <th>b</th>\n",
              "      <td>cat</td>\n",
              "      <td>3.0</td>\n",
              "      <td>3</td>\n",
              "      <td>yes</td>\n",
              "    </tr>\n",
              "    <tr>\n",
              "      <th>c</th>\n",
              "      <td>snake</td>\n",
              "      <td>0.5</td>\n",
              "      <td>2</td>\n",
              "      <td>no</td>\n",
              "    </tr>\n",
              "  </tbody>\n",
              "</table>\n",
              "</div>\n",
              "    <div class=\"colab-df-buttons\">\n",
              "\n",
              "  <div class=\"colab-df-container\">\n",
              "    <button class=\"colab-df-convert\" onclick=\"convertToInteractive('df-fa1867f9-702c-4329-a23b-044afc5367d2')\"\n",
              "            title=\"Convert this dataframe to an interactive table.\"\n",
              "            style=\"display:none;\">\n",
              "\n",
              "  <svg xmlns=\"http://www.w3.org/2000/svg\" height=\"24px\" viewBox=\"0 -960 960 960\">\n",
              "    <path d=\"M120-120v-720h720v720H120Zm60-500h600v-160H180v160Zm220 220h160v-160H400v160Zm0 220h160v-160H400v160ZM180-400h160v-160H180v160Zm440 0h160v-160H620v160ZM180-180h160v-160H180v160Zm440 0h160v-160H620v160Z\"/>\n",
              "  </svg>\n",
              "    </button>\n",
              "\n",
              "  <style>\n",
              "    .colab-df-container {\n",
              "      display:flex;\n",
              "      gap: 12px;\n",
              "    }\n",
              "\n",
              "    .colab-df-convert {\n",
              "      background-color: #E8F0FE;\n",
              "      border: none;\n",
              "      border-radius: 50%;\n",
              "      cursor: pointer;\n",
              "      display: none;\n",
              "      fill: #1967D2;\n",
              "      height: 32px;\n",
              "      padding: 0 0 0 0;\n",
              "      width: 32px;\n",
              "    }\n",
              "\n",
              "    .colab-df-convert:hover {\n",
              "      background-color: #E2EBFA;\n",
              "      box-shadow: 0px 1px 2px rgba(60, 64, 67, 0.3), 0px 1px 3px 1px rgba(60, 64, 67, 0.15);\n",
              "      fill: #174EA6;\n",
              "    }\n",
              "\n",
              "    .colab-df-buttons div {\n",
              "      margin-bottom: 4px;\n",
              "    }\n",
              "\n",
              "    [theme=dark] .colab-df-convert {\n",
              "      background-color: #3B4455;\n",
              "      fill: #D2E3FC;\n",
              "    }\n",
              "\n",
              "    [theme=dark] .colab-df-convert:hover {\n",
              "      background-color: #434B5C;\n",
              "      box-shadow: 0px 1px 3px 1px rgba(0, 0, 0, 0.15);\n",
              "      filter: drop-shadow(0px 1px 2px rgba(0, 0, 0, 0.3));\n",
              "      fill: #FFFFFF;\n",
              "    }\n",
              "  </style>\n",
              "\n",
              "    <script>\n",
              "      const buttonEl =\n",
              "        document.querySelector('#df-fa1867f9-702c-4329-a23b-044afc5367d2 button.colab-df-convert');\n",
              "      buttonEl.style.display =\n",
              "        google.colab.kernel.accessAllowed ? 'block' : 'none';\n",
              "\n",
              "      async function convertToInteractive(key) {\n",
              "        const element = document.querySelector('#df-fa1867f9-702c-4329-a23b-044afc5367d2');\n",
              "        const dataTable =\n",
              "          await google.colab.kernel.invokeFunction('convertToInteractive',\n",
              "                                                    [key], {});\n",
              "        if (!dataTable) return;\n",
              "\n",
              "        const docLinkHtml = 'Like what you see? Visit the ' +\n",
              "          '<a target=\"_blank\" href=https://colab.research.google.com/notebooks/data_table.ipynb>data table notebook</a>'\n",
              "          + ' to learn more about interactive tables.';\n",
              "        element.innerHTML = '';\n",
              "        dataTable['output_type'] = 'display_data';\n",
              "        await google.colab.output.renderOutput(dataTable, element);\n",
              "        const docLink = document.createElement('div');\n",
              "        docLink.innerHTML = docLinkHtml;\n",
              "        element.appendChild(docLink);\n",
              "      }\n",
              "    </script>\n",
              "  </div>\n",
              "\n",
              "\n",
              "<div id=\"df-acfd898b-8af1-44bf-b648-ebd01e3808ce\">\n",
              "  <button class=\"colab-df-quickchart\" onclick=\"quickchart('df-acfd898b-8af1-44bf-b648-ebd01e3808ce')\"\n",
              "            title=\"Suggest charts\"\n",
              "            style=\"display:none;\">\n",
              "\n",
              "<svg xmlns=\"http://www.w3.org/2000/svg\" height=\"24px\"viewBox=\"0 0 24 24\"\n",
              "     width=\"24px\">\n",
              "    <g>\n",
              "        <path d=\"M19 3H5c-1.1 0-2 .9-2 2v14c0 1.1.9 2 2 2h14c1.1 0 2-.9 2-2V5c0-1.1-.9-2-2-2zM9 17H7v-7h2v7zm4 0h-2V7h2v10zm4 0h-2v-4h2v4z\"/>\n",
              "    </g>\n",
              "</svg>\n",
              "  </button>\n",
              "\n",
              "<style>\n",
              "  .colab-df-quickchart {\n",
              "      --bg-color: #E8F0FE;\n",
              "      --fill-color: #1967D2;\n",
              "      --hover-bg-color: #E2EBFA;\n",
              "      --hover-fill-color: #174EA6;\n",
              "      --disabled-fill-color: #AAA;\n",
              "      --disabled-bg-color: #DDD;\n",
              "  }\n",
              "\n",
              "  [theme=dark] .colab-df-quickchart {\n",
              "      --bg-color: #3B4455;\n",
              "      --fill-color: #D2E3FC;\n",
              "      --hover-bg-color: #434B5C;\n",
              "      --hover-fill-color: #FFFFFF;\n",
              "      --disabled-bg-color: #3B4455;\n",
              "      --disabled-fill-color: #666;\n",
              "  }\n",
              "\n",
              "  .colab-df-quickchart {\n",
              "    background-color: var(--bg-color);\n",
              "    border: none;\n",
              "    border-radius: 50%;\n",
              "    cursor: pointer;\n",
              "    display: none;\n",
              "    fill: var(--fill-color);\n",
              "    height: 32px;\n",
              "    padding: 0;\n",
              "    width: 32px;\n",
              "  }\n",
              "\n",
              "  .colab-df-quickchart:hover {\n",
              "    background-color: var(--hover-bg-color);\n",
              "    box-shadow: 0 1px 2px rgba(60, 64, 67, 0.3), 0 1px 3px 1px rgba(60, 64, 67, 0.15);\n",
              "    fill: var(--button-hover-fill-color);\n",
              "  }\n",
              "\n",
              "  .colab-df-quickchart-complete:disabled,\n",
              "  .colab-df-quickchart-complete:disabled:hover {\n",
              "    background-color: var(--disabled-bg-color);\n",
              "    fill: var(--disabled-fill-color);\n",
              "    box-shadow: none;\n",
              "  }\n",
              "\n",
              "  .colab-df-spinner {\n",
              "    border: 2px solid var(--fill-color);\n",
              "    border-color: transparent;\n",
              "    border-bottom-color: var(--fill-color);\n",
              "    animation:\n",
              "      spin 1s steps(1) infinite;\n",
              "  }\n",
              "\n",
              "  @keyframes spin {\n",
              "    0% {\n",
              "      border-color: transparent;\n",
              "      border-bottom-color: var(--fill-color);\n",
              "      border-left-color: var(--fill-color);\n",
              "    }\n",
              "    20% {\n",
              "      border-color: transparent;\n",
              "      border-left-color: var(--fill-color);\n",
              "      border-top-color: var(--fill-color);\n",
              "    }\n",
              "    30% {\n",
              "      border-color: transparent;\n",
              "      border-left-color: var(--fill-color);\n",
              "      border-top-color: var(--fill-color);\n",
              "      border-right-color: var(--fill-color);\n",
              "    }\n",
              "    40% {\n",
              "      border-color: transparent;\n",
              "      border-right-color: var(--fill-color);\n",
              "      border-top-color: var(--fill-color);\n",
              "    }\n",
              "    60% {\n",
              "      border-color: transparent;\n",
              "      border-right-color: var(--fill-color);\n",
              "    }\n",
              "    80% {\n",
              "      border-color: transparent;\n",
              "      border-right-color: var(--fill-color);\n",
              "      border-bottom-color: var(--fill-color);\n",
              "    }\n",
              "    90% {\n",
              "      border-color: transparent;\n",
              "      border-bottom-color: var(--fill-color);\n",
              "    }\n",
              "  }\n",
              "</style>\n",
              "\n",
              "  <script>\n",
              "    async function quickchart(key) {\n",
              "      const quickchartButtonEl =\n",
              "        document.querySelector('#' + key + ' button');\n",
              "      quickchartButtonEl.disabled = true;  // To prevent multiple clicks.\n",
              "      quickchartButtonEl.classList.add('colab-df-spinner');\n",
              "      try {\n",
              "        const charts = await google.colab.kernel.invokeFunction(\n",
              "            'suggestCharts', [key], {});\n",
              "      } catch (error) {\n",
              "        console.error('Error during call to suggestCharts:', error);\n",
              "      }\n",
              "      quickchartButtonEl.classList.remove('colab-df-spinner');\n",
              "      quickchartButtonEl.classList.add('colab-df-quickchart-complete');\n",
              "    }\n",
              "    (() => {\n",
              "      let quickchartButtonEl =\n",
              "        document.querySelector('#df-acfd898b-8af1-44bf-b648-ebd01e3808ce button');\n",
              "      quickchartButtonEl.style.display =\n",
              "        google.colab.kernel.accessAllowed ? 'block' : 'none';\n",
              "    })();\n",
              "  </script>\n",
              "</div>\n",
              "\n",
              "    </div>\n",
              "  </div>\n"
            ],
            "application/vnd.google.colaboratory.intrinsic+json": {
              "type": "dataframe",
              "variable_name": "df",
              "summary": "{\n  \"name\": \"df\",\n  \"rows\": 10,\n  \"fields\": [\n    {\n      \"column\": \"animal\",\n      \"properties\": {\n        \"dtype\": \"category\",\n        \"num_unique_values\": 3,\n        \"samples\": [\n          \"cat\",\n          \"snake\",\n          \"dog\"\n        ],\n        \"semantic_type\": \"\",\n        \"description\": \"\"\n      }\n    },\n    {\n      \"column\": \"age\",\n      \"properties\": {\n        \"dtype\": \"number\",\n        \"std\": 2.0077973005261263,\n        \"min\": 0.5,\n        \"max\": 7.0,\n        \"num_unique_values\": 7,\n        \"samples\": [\n          2.5,\n          3.0,\n          4.5\n        ],\n        \"semantic_type\": \"\",\n        \"description\": \"\"\n      }\n    },\n    {\n      \"column\": \"visits\",\n      \"properties\": {\n        \"dtype\": \"number\",\n        \"std\": 0,\n        \"min\": 1,\n        \"max\": 3,\n        \"num_unique_values\": 3,\n        \"samples\": [\n          1,\n          3,\n          2\n        ],\n        \"semantic_type\": \"\",\n        \"description\": \"\"\n      }\n    },\n    {\n      \"column\": \"priority\",\n      \"properties\": {\n        \"dtype\": \"category\",\n        \"num_unique_values\": 2,\n        \"samples\": [\n          \"no\",\n          \"yes\"\n        ],\n        \"semantic_type\": \"\",\n        \"description\": \"\"\n      }\n    }\n  ]\n}"
            }
          },
          "metadata": {},
          "execution_count": 8
        }
      ],
      "source": [
        "df.head(3)"
      ]
    },
    {
      "cell_type": "markdown",
      "metadata": {
        "id": "oO9RMeBaUtqY"
      },
      "source": [
        "**7.** Select just the 'animal' and 'age' columns from the DataFrame `df`."
      ]
    },
    {
      "cell_type": "code",
      "execution_count": 9,
      "metadata": {
        "collapsed": true,
        "colab": {
          "base_uri": "https://localhost:8080/",
          "height": 363
        },
        "id": "poYJ6_GNUtqY",
        "outputId": "fa477952-1df6-42a6-a7c5-d1786ebd8975"
      },
      "outputs": [
        {
          "output_type": "execute_result",
          "data": {
            "text/plain": [
              "  animal  age\n",
              "a    cat  2.5\n",
              "b    cat  3.0\n",
              "c  snake  0.5\n",
              "d    dog  NaN\n",
              "e    dog  5.0\n",
              "f    cat  2.0\n",
              "g  snake  4.5\n",
              "h    cat  NaN\n",
              "i    dog  7.0\n",
              "j    dog  3.0"
            ],
            "text/html": [
              "\n",
              "  <div id=\"df-6b206393-c05c-45e6-adc7-ec37f3ed5301\" class=\"colab-df-container\">\n",
              "    <div>\n",
              "<style scoped>\n",
              "    .dataframe tbody tr th:only-of-type {\n",
              "        vertical-align: middle;\n",
              "    }\n",
              "\n",
              "    .dataframe tbody tr th {\n",
              "        vertical-align: top;\n",
              "    }\n",
              "\n",
              "    .dataframe thead th {\n",
              "        text-align: right;\n",
              "    }\n",
              "</style>\n",
              "<table border=\"1\" class=\"dataframe\">\n",
              "  <thead>\n",
              "    <tr style=\"text-align: right;\">\n",
              "      <th></th>\n",
              "      <th>animal</th>\n",
              "      <th>age</th>\n",
              "    </tr>\n",
              "  </thead>\n",
              "  <tbody>\n",
              "    <tr>\n",
              "      <th>a</th>\n",
              "      <td>cat</td>\n",
              "      <td>2.5</td>\n",
              "    </tr>\n",
              "    <tr>\n",
              "      <th>b</th>\n",
              "      <td>cat</td>\n",
              "      <td>3.0</td>\n",
              "    </tr>\n",
              "    <tr>\n",
              "      <th>c</th>\n",
              "      <td>snake</td>\n",
              "      <td>0.5</td>\n",
              "    </tr>\n",
              "    <tr>\n",
              "      <th>d</th>\n",
              "      <td>dog</td>\n",
              "      <td>NaN</td>\n",
              "    </tr>\n",
              "    <tr>\n",
              "      <th>e</th>\n",
              "      <td>dog</td>\n",
              "      <td>5.0</td>\n",
              "    </tr>\n",
              "    <tr>\n",
              "      <th>f</th>\n",
              "      <td>cat</td>\n",
              "      <td>2.0</td>\n",
              "    </tr>\n",
              "    <tr>\n",
              "      <th>g</th>\n",
              "      <td>snake</td>\n",
              "      <td>4.5</td>\n",
              "    </tr>\n",
              "    <tr>\n",
              "      <th>h</th>\n",
              "      <td>cat</td>\n",
              "      <td>NaN</td>\n",
              "    </tr>\n",
              "    <tr>\n",
              "      <th>i</th>\n",
              "      <td>dog</td>\n",
              "      <td>7.0</td>\n",
              "    </tr>\n",
              "    <tr>\n",
              "      <th>j</th>\n",
              "      <td>dog</td>\n",
              "      <td>3.0</td>\n",
              "    </tr>\n",
              "  </tbody>\n",
              "</table>\n",
              "</div>\n",
              "    <div class=\"colab-df-buttons\">\n",
              "\n",
              "  <div class=\"colab-df-container\">\n",
              "    <button class=\"colab-df-convert\" onclick=\"convertToInteractive('df-6b206393-c05c-45e6-adc7-ec37f3ed5301')\"\n",
              "            title=\"Convert this dataframe to an interactive table.\"\n",
              "            style=\"display:none;\">\n",
              "\n",
              "  <svg xmlns=\"http://www.w3.org/2000/svg\" height=\"24px\" viewBox=\"0 -960 960 960\">\n",
              "    <path d=\"M120-120v-720h720v720H120Zm60-500h600v-160H180v160Zm220 220h160v-160H400v160Zm0 220h160v-160H400v160ZM180-400h160v-160H180v160Zm440 0h160v-160H620v160ZM180-180h160v-160H180v160Zm440 0h160v-160H620v160Z\"/>\n",
              "  </svg>\n",
              "    </button>\n",
              "\n",
              "  <style>\n",
              "    .colab-df-container {\n",
              "      display:flex;\n",
              "      gap: 12px;\n",
              "    }\n",
              "\n",
              "    .colab-df-convert {\n",
              "      background-color: #E8F0FE;\n",
              "      border: none;\n",
              "      border-radius: 50%;\n",
              "      cursor: pointer;\n",
              "      display: none;\n",
              "      fill: #1967D2;\n",
              "      height: 32px;\n",
              "      padding: 0 0 0 0;\n",
              "      width: 32px;\n",
              "    }\n",
              "\n",
              "    .colab-df-convert:hover {\n",
              "      background-color: #E2EBFA;\n",
              "      box-shadow: 0px 1px 2px rgba(60, 64, 67, 0.3), 0px 1px 3px 1px rgba(60, 64, 67, 0.15);\n",
              "      fill: #174EA6;\n",
              "    }\n",
              "\n",
              "    .colab-df-buttons div {\n",
              "      margin-bottom: 4px;\n",
              "    }\n",
              "\n",
              "    [theme=dark] .colab-df-convert {\n",
              "      background-color: #3B4455;\n",
              "      fill: #D2E3FC;\n",
              "    }\n",
              "\n",
              "    [theme=dark] .colab-df-convert:hover {\n",
              "      background-color: #434B5C;\n",
              "      box-shadow: 0px 1px 3px 1px rgba(0, 0, 0, 0.15);\n",
              "      filter: drop-shadow(0px 1px 2px rgba(0, 0, 0, 0.3));\n",
              "      fill: #FFFFFF;\n",
              "    }\n",
              "  </style>\n",
              "\n",
              "    <script>\n",
              "      const buttonEl =\n",
              "        document.querySelector('#df-6b206393-c05c-45e6-adc7-ec37f3ed5301 button.colab-df-convert');\n",
              "      buttonEl.style.display =\n",
              "        google.colab.kernel.accessAllowed ? 'block' : 'none';\n",
              "\n",
              "      async function convertToInteractive(key) {\n",
              "        const element = document.querySelector('#df-6b206393-c05c-45e6-adc7-ec37f3ed5301');\n",
              "        const dataTable =\n",
              "          await google.colab.kernel.invokeFunction('convertToInteractive',\n",
              "                                                    [key], {});\n",
              "        if (!dataTable) return;\n",
              "\n",
              "        const docLinkHtml = 'Like what you see? Visit the ' +\n",
              "          '<a target=\"_blank\" href=https://colab.research.google.com/notebooks/data_table.ipynb>data table notebook</a>'\n",
              "          + ' to learn more about interactive tables.';\n",
              "        element.innerHTML = '';\n",
              "        dataTable['output_type'] = 'display_data';\n",
              "        await google.colab.output.renderOutput(dataTable, element);\n",
              "        const docLink = document.createElement('div');\n",
              "        docLink.innerHTML = docLinkHtml;\n",
              "        element.appendChild(docLink);\n",
              "      }\n",
              "    </script>\n",
              "  </div>\n",
              "\n",
              "\n",
              "<div id=\"df-376f91df-5d68-4143-aa4b-5de88608a4da\">\n",
              "  <button class=\"colab-df-quickchart\" onclick=\"quickchart('df-376f91df-5d68-4143-aa4b-5de88608a4da')\"\n",
              "            title=\"Suggest charts\"\n",
              "            style=\"display:none;\">\n",
              "\n",
              "<svg xmlns=\"http://www.w3.org/2000/svg\" height=\"24px\"viewBox=\"0 0 24 24\"\n",
              "     width=\"24px\">\n",
              "    <g>\n",
              "        <path d=\"M19 3H5c-1.1 0-2 .9-2 2v14c0 1.1.9 2 2 2h14c1.1 0 2-.9 2-2V5c0-1.1-.9-2-2-2zM9 17H7v-7h2v7zm4 0h-2V7h2v10zm4 0h-2v-4h2v4z\"/>\n",
              "    </g>\n",
              "</svg>\n",
              "  </button>\n",
              "\n",
              "<style>\n",
              "  .colab-df-quickchart {\n",
              "      --bg-color: #E8F0FE;\n",
              "      --fill-color: #1967D2;\n",
              "      --hover-bg-color: #E2EBFA;\n",
              "      --hover-fill-color: #174EA6;\n",
              "      --disabled-fill-color: #AAA;\n",
              "      --disabled-bg-color: #DDD;\n",
              "  }\n",
              "\n",
              "  [theme=dark] .colab-df-quickchart {\n",
              "      --bg-color: #3B4455;\n",
              "      --fill-color: #D2E3FC;\n",
              "      --hover-bg-color: #434B5C;\n",
              "      --hover-fill-color: #FFFFFF;\n",
              "      --disabled-bg-color: #3B4455;\n",
              "      --disabled-fill-color: #666;\n",
              "  }\n",
              "\n",
              "  .colab-df-quickchart {\n",
              "    background-color: var(--bg-color);\n",
              "    border: none;\n",
              "    border-radius: 50%;\n",
              "    cursor: pointer;\n",
              "    display: none;\n",
              "    fill: var(--fill-color);\n",
              "    height: 32px;\n",
              "    padding: 0;\n",
              "    width: 32px;\n",
              "  }\n",
              "\n",
              "  .colab-df-quickchart:hover {\n",
              "    background-color: var(--hover-bg-color);\n",
              "    box-shadow: 0 1px 2px rgba(60, 64, 67, 0.3), 0 1px 3px 1px rgba(60, 64, 67, 0.15);\n",
              "    fill: var(--button-hover-fill-color);\n",
              "  }\n",
              "\n",
              "  .colab-df-quickchart-complete:disabled,\n",
              "  .colab-df-quickchart-complete:disabled:hover {\n",
              "    background-color: var(--disabled-bg-color);\n",
              "    fill: var(--disabled-fill-color);\n",
              "    box-shadow: none;\n",
              "  }\n",
              "\n",
              "  .colab-df-spinner {\n",
              "    border: 2px solid var(--fill-color);\n",
              "    border-color: transparent;\n",
              "    border-bottom-color: var(--fill-color);\n",
              "    animation:\n",
              "      spin 1s steps(1) infinite;\n",
              "  }\n",
              "\n",
              "  @keyframes spin {\n",
              "    0% {\n",
              "      border-color: transparent;\n",
              "      border-bottom-color: var(--fill-color);\n",
              "      border-left-color: var(--fill-color);\n",
              "    }\n",
              "    20% {\n",
              "      border-color: transparent;\n",
              "      border-left-color: var(--fill-color);\n",
              "      border-top-color: var(--fill-color);\n",
              "    }\n",
              "    30% {\n",
              "      border-color: transparent;\n",
              "      border-left-color: var(--fill-color);\n",
              "      border-top-color: var(--fill-color);\n",
              "      border-right-color: var(--fill-color);\n",
              "    }\n",
              "    40% {\n",
              "      border-color: transparent;\n",
              "      border-right-color: var(--fill-color);\n",
              "      border-top-color: var(--fill-color);\n",
              "    }\n",
              "    60% {\n",
              "      border-color: transparent;\n",
              "      border-right-color: var(--fill-color);\n",
              "    }\n",
              "    80% {\n",
              "      border-color: transparent;\n",
              "      border-right-color: var(--fill-color);\n",
              "      border-bottom-color: var(--fill-color);\n",
              "    }\n",
              "    90% {\n",
              "      border-color: transparent;\n",
              "      border-bottom-color: var(--fill-color);\n",
              "    }\n",
              "  }\n",
              "</style>\n",
              "\n",
              "  <script>\n",
              "    async function quickchart(key) {\n",
              "      const quickchartButtonEl =\n",
              "        document.querySelector('#' + key + ' button');\n",
              "      quickchartButtonEl.disabled = true;  // To prevent multiple clicks.\n",
              "      quickchartButtonEl.classList.add('colab-df-spinner');\n",
              "      try {\n",
              "        const charts = await google.colab.kernel.invokeFunction(\n",
              "            'suggestCharts', [key], {});\n",
              "      } catch (error) {\n",
              "        console.error('Error during call to suggestCharts:', error);\n",
              "      }\n",
              "      quickchartButtonEl.classList.remove('colab-df-spinner');\n",
              "      quickchartButtonEl.classList.add('colab-df-quickchart-complete');\n",
              "    }\n",
              "    (() => {\n",
              "      let quickchartButtonEl =\n",
              "        document.querySelector('#df-376f91df-5d68-4143-aa4b-5de88608a4da button');\n",
              "      quickchartButtonEl.style.display =\n",
              "        google.colab.kernel.accessAllowed ? 'block' : 'none';\n",
              "    })();\n",
              "  </script>\n",
              "</div>\n",
              "\n",
              "    </div>\n",
              "  </div>\n"
            ],
            "application/vnd.google.colaboratory.intrinsic+json": {
              "type": "dataframe",
              "summary": "{\n  \"name\": \"df[['animal', 'age']]\",\n  \"rows\": 10,\n  \"fields\": [\n    {\n      \"column\": \"animal\",\n      \"properties\": {\n        \"dtype\": \"category\",\n        \"num_unique_values\": 3,\n        \"samples\": [\n          \"cat\",\n          \"snake\",\n          \"dog\"\n        ],\n        \"semantic_type\": \"\",\n        \"description\": \"\"\n      }\n    },\n    {\n      \"column\": \"age\",\n      \"properties\": {\n        \"dtype\": \"number\",\n        \"std\": 2.0077973005261263,\n        \"min\": 0.5,\n        \"max\": 7.0,\n        \"num_unique_values\": 7,\n        \"samples\": [\n          2.5,\n          3.0,\n          4.5\n        ],\n        \"semantic_type\": \"\",\n        \"description\": \"\"\n      }\n    }\n  ]\n}"
            }
          },
          "metadata": {},
          "execution_count": 9
        }
      ],
      "source": [
        "# Memilih kolom 'animal' dan 'age'\n",
        "df[['animal', 'age']]\n"
      ]
    },
    {
      "cell_type": "markdown",
      "metadata": {
        "id": "lmCvzCmqUtqY"
      },
      "source": [
        "**8.** Select the data in rows `[3, 4, 8]` *and* in columns `['animal', 'age']`."
      ]
    },
    {
      "cell_type": "code",
      "execution_count": 10,
      "metadata": {
        "collapsed": true,
        "colab": {
          "base_uri": "https://localhost:8080/",
          "height": 143
        },
        "id": "I6TUTiCOUtqZ",
        "outputId": "3d3567f6-4bcd-4688-fd7d-d1097dca8ea3"
      },
      "outputs": [
        {
          "output_type": "execute_result",
          "data": {
            "text/plain": [
              "  animal  age\n",
              "d    dog  NaN\n",
              "e    dog  5.0\n",
              "i    dog  7.0"
            ],
            "text/html": [
              "\n",
              "  <div id=\"df-f492b09b-6946-4aa4-b106-7a8c8e080dc8\" class=\"colab-df-container\">\n",
              "    <div>\n",
              "<style scoped>\n",
              "    .dataframe tbody tr th:only-of-type {\n",
              "        vertical-align: middle;\n",
              "    }\n",
              "\n",
              "    .dataframe tbody tr th {\n",
              "        vertical-align: top;\n",
              "    }\n",
              "\n",
              "    .dataframe thead th {\n",
              "        text-align: right;\n",
              "    }\n",
              "</style>\n",
              "<table border=\"1\" class=\"dataframe\">\n",
              "  <thead>\n",
              "    <tr style=\"text-align: right;\">\n",
              "      <th></th>\n",
              "      <th>animal</th>\n",
              "      <th>age</th>\n",
              "    </tr>\n",
              "  </thead>\n",
              "  <tbody>\n",
              "    <tr>\n",
              "      <th>d</th>\n",
              "      <td>dog</td>\n",
              "      <td>NaN</td>\n",
              "    </tr>\n",
              "    <tr>\n",
              "      <th>e</th>\n",
              "      <td>dog</td>\n",
              "      <td>5.0</td>\n",
              "    </tr>\n",
              "    <tr>\n",
              "      <th>i</th>\n",
              "      <td>dog</td>\n",
              "      <td>7.0</td>\n",
              "    </tr>\n",
              "  </tbody>\n",
              "</table>\n",
              "</div>\n",
              "    <div class=\"colab-df-buttons\">\n",
              "\n",
              "  <div class=\"colab-df-container\">\n",
              "    <button class=\"colab-df-convert\" onclick=\"convertToInteractive('df-f492b09b-6946-4aa4-b106-7a8c8e080dc8')\"\n",
              "            title=\"Convert this dataframe to an interactive table.\"\n",
              "            style=\"display:none;\">\n",
              "\n",
              "  <svg xmlns=\"http://www.w3.org/2000/svg\" height=\"24px\" viewBox=\"0 -960 960 960\">\n",
              "    <path d=\"M120-120v-720h720v720H120Zm60-500h600v-160H180v160Zm220 220h160v-160H400v160Zm0 220h160v-160H400v160ZM180-400h160v-160H180v160Zm440 0h160v-160H620v160ZM180-180h160v-160H180v160Zm440 0h160v-160H620v160Z\"/>\n",
              "  </svg>\n",
              "    </button>\n",
              "\n",
              "  <style>\n",
              "    .colab-df-container {\n",
              "      display:flex;\n",
              "      gap: 12px;\n",
              "    }\n",
              "\n",
              "    .colab-df-convert {\n",
              "      background-color: #E8F0FE;\n",
              "      border: none;\n",
              "      border-radius: 50%;\n",
              "      cursor: pointer;\n",
              "      display: none;\n",
              "      fill: #1967D2;\n",
              "      height: 32px;\n",
              "      padding: 0 0 0 0;\n",
              "      width: 32px;\n",
              "    }\n",
              "\n",
              "    .colab-df-convert:hover {\n",
              "      background-color: #E2EBFA;\n",
              "      box-shadow: 0px 1px 2px rgba(60, 64, 67, 0.3), 0px 1px 3px 1px rgba(60, 64, 67, 0.15);\n",
              "      fill: #174EA6;\n",
              "    }\n",
              "\n",
              "    .colab-df-buttons div {\n",
              "      margin-bottom: 4px;\n",
              "    }\n",
              "\n",
              "    [theme=dark] .colab-df-convert {\n",
              "      background-color: #3B4455;\n",
              "      fill: #D2E3FC;\n",
              "    }\n",
              "\n",
              "    [theme=dark] .colab-df-convert:hover {\n",
              "      background-color: #434B5C;\n",
              "      box-shadow: 0px 1px 3px 1px rgba(0, 0, 0, 0.15);\n",
              "      filter: drop-shadow(0px 1px 2px rgba(0, 0, 0, 0.3));\n",
              "      fill: #FFFFFF;\n",
              "    }\n",
              "  </style>\n",
              "\n",
              "    <script>\n",
              "      const buttonEl =\n",
              "        document.querySelector('#df-f492b09b-6946-4aa4-b106-7a8c8e080dc8 button.colab-df-convert');\n",
              "      buttonEl.style.display =\n",
              "        google.colab.kernel.accessAllowed ? 'block' : 'none';\n",
              "\n",
              "      async function convertToInteractive(key) {\n",
              "        const element = document.querySelector('#df-f492b09b-6946-4aa4-b106-7a8c8e080dc8');\n",
              "        const dataTable =\n",
              "          await google.colab.kernel.invokeFunction('convertToInteractive',\n",
              "                                                    [key], {});\n",
              "        if (!dataTable) return;\n",
              "\n",
              "        const docLinkHtml = 'Like what you see? Visit the ' +\n",
              "          '<a target=\"_blank\" href=https://colab.research.google.com/notebooks/data_table.ipynb>data table notebook</a>'\n",
              "          + ' to learn more about interactive tables.';\n",
              "        element.innerHTML = '';\n",
              "        dataTable['output_type'] = 'display_data';\n",
              "        await google.colab.output.renderOutput(dataTable, element);\n",
              "        const docLink = document.createElement('div');\n",
              "        docLink.innerHTML = docLinkHtml;\n",
              "        element.appendChild(docLink);\n",
              "      }\n",
              "    </script>\n",
              "  </div>\n",
              "\n",
              "\n",
              "<div id=\"df-b800491a-e434-4248-83ca-eb44c2eae16c\">\n",
              "  <button class=\"colab-df-quickchart\" onclick=\"quickchart('df-b800491a-e434-4248-83ca-eb44c2eae16c')\"\n",
              "            title=\"Suggest charts\"\n",
              "            style=\"display:none;\">\n",
              "\n",
              "<svg xmlns=\"http://www.w3.org/2000/svg\" height=\"24px\"viewBox=\"0 0 24 24\"\n",
              "     width=\"24px\">\n",
              "    <g>\n",
              "        <path d=\"M19 3H5c-1.1 0-2 .9-2 2v14c0 1.1.9 2 2 2h14c1.1 0 2-.9 2-2V5c0-1.1-.9-2-2-2zM9 17H7v-7h2v7zm4 0h-2V7h2v10zm4 0h-2v-4h2v4z\"/>\n",
              "    </g>\n",
              "</svg>\n",
              "  </button>\n",
              "\n",
              "<style>\n",
              "  .colab-df-quickchart {\n",
              "      --bg-color: #E8F0FE;\n",
              "      --fill-color: #1967D2;\n",
              "      --hover-bg-color: #E2EBFA;\n",
              "      --hover-fill-color: #174EA6;\n",
              "      --disabled-fill-color: #AAA;\n",
              "      --disabled-bg-color: #DDD;\n",
              "  }\n",
              "\n",
              "  [theme=dark] .colab-df-quickchart {\n",
              "      --bg-color: #3B4455;\n",
              "      --fill-color: #D2E3FC;\n",
              "      --hover-bg-color: #434B5C;\n",
              "      --hover-fill-color: #FFFFFF;\n",
              "      --disabled-bg-color: #3B4455;\n",
              "      --disabled-fill-color: #666;\n",
              "  }\n",
              "\n",
              "  .colab-df-quickchart {\n",
              "    background-color: var(--bg-color);\n",
              "    border: none;\n",
              "    border-radius: 50%;\n",
              "    cursor: pointer;\n",
              "    display: none;\n",
              "    fill: var(--fill-color);\n",
              "    height: 32px;\n",
              "    padding: 0;\n",
              "    width: 32px;\n",
              "  }\n",
              "\n",
              "  .colab-df-quickchart:hover {\n",
              "    background-color: var(--hover-bg-color);\n",
              "    box-shadow: 0 1px 2px rgba(60, 64, 67, 0.3), 0 1px 3px 1px rgba(60, 64, 67, 0.15);\n",
              "    fill: var(--button-hover-fill-color);\n",
              "  }\n",
              "\n",
              "  .colab-df-quickchart-complete:disabled,\n",
              "  .colab-df-quickchart-complete:disabled:hover {\n",
              "    background-color: var(--disabled-bg-color);\n",
              "    fill: var(--disabled-fill-color);\n",
              "    box-shadow: none;\n",
              "  }\n",
              "\n",
              "  .colab-df-spinner {\n",
              "    border: 2px solid var(--fill-color);\n",
              "    border-color: transparent;\n",
              "    border-bottom-color: var(--fill-color);\n",
              "    animation:\n",
              "      spin 1s steps(1) infinite;\n",
              "  }\n",
              "\n",
              "  @keyframes spin {\n",
              "    0% {\n",
              "      border-color: transparent;\n",
              "      border-bottom-color: var(--fill-color);\n",
              "      border-left-color: var(--fill-color);\n",
              "    }\n",
              "    20% {\n",
              "      border-color: transparent;\n",
              "      border-left-color: var(--fill-color);\n",
              "      border-top-color: var(--fill-color);\n",
              "    }\n",
              "    30% {\n",
              "      border-color: transparent;\n",
              "      border-left-color: var(--fill-color);\n",
              "      border-top-color: var(--fill-color);\n",
              "      border-right-color: var(--fill-color);\n",
              "    }\n",
              "    40% {\n",
              "      border-color: transparent;\n",
              "      border-right-color: var(--fill-color);\n",
              "      border-top-color: var(--fill-color);\n",
              "    }\n",
              "    60% {\n",
              "      border-color: transparent;\n",
              "      border-right-color: var(--fill-color);\n",
              "    }\n",
              "    80% {\n",
              "      border-color: transparent;\n",
              "      border-right-color: var(--fill-color);\n",
              "      border-bottom-color: var(--fill-color);\n",
              "    }\n",
              "    90% {\n",
              "      border-color: transparent;\n",
              "      border-bottom-color: var(--fill-color);\n",
              "    }\n",
              "  }\n",
              "</style>\n",
              "\n",
              "  <script>\n",
              "    async function quickchart(key) {\n",
              "      const quickchartButtonEl =\n",
              "        document.querySelector('#' + key + ' button');\n",
              "      quickchartButtonEl.disabled = true;  // To prevent multiple clicks.\n",
              "      quickchartButtonEl.classList.add('colab-df-spinner');\n",
              "      try {\n",
              "        const charts = await google.colab.kernel.invokeFunction(\n",
              "            'suggestCharts', [key], {});\n",
              "      } catch (error) {\n",
              "        console.error('Error during call to suggestCharts:', error);\n",
              "      }\n",
              "      quickchartButtonEl.classList.remove('colab-df-spinner');\n",
              "      quickchartButtonEl.classList.add('colab-df-quickchart-complete');\n",
              "    }\n",
              "    (() => {\n",
              "      let quickchartButtonEl =\n",
              "        document.querySelector('#df-b800491a-e434-4248-83ca-eb44c2eae16c button');\n",
              "      quickchartButtonEl.style.display =\n",
              "        google.colab.kernel.accessAllowed ? 'block' : 'none';\n",
              "    })();\n",
              "  </script>\n",
              "</div>\n",
              "\n",
              "    </div>\n",
              "  </div>\n"
            ],
            "application/vnd.google.colaboratory.intrinsic+json": {
              "type": "dataframe",
              "summary": "{\n  \"name\": \"df\",\n  \"rows\": 3,\n  \"fields\": [\n    {\n      \"column\": \"animal\",\n      \"properties\": {\n        \"dtype\": \"category\",\n        \"num_unique_values\": 1,\n        \"samples\": [\n          \"dog\"\n        ],\n        \"semantic_type\": \"\",\n        \"description\": \"\"\n      }\n    },\n    {\n      \"column\": \"age\",\n      \"properties\": {\n        \"dtype\": \"number\",\n        \"std\": 1.4142135623730951,\n        \"min\": 5.0,\n        \"max\": 7.0,\n        \"num_unique_values\": 2,\n        \"samples\": [\n          7.0\n        ],\n        \"semantic_type\": \"\",\n        \"description\": \"\"\n      }\n    }\n  ]\n}"
            }
          },
          "metadata": {},
          "execution_count": 10
        }
      ],
      "source": [
        "# Memilih data di baris [3, 4, 8] dan kolom ['animal', 'age']\n",
        "df.loc[['d', 'e', 'i'], ['animal', 'age']]\n"
      ]
    },
    {
      "cell_type": "markdown",
      "metadata": {
        "id": "sXH08NPYUtqZ"
      },
      "source": [
        "**9.** Select only the rows where the number of visits is greater than 3."
      ]
    },
    {
      "cell_type": "code",
      "execution_count": 11,
      "metadata": {
        "collapsed": true,
        "colab": {
          "base_uri": "https://localhost:8080/",
          "height": 53
        },
        "id": "EWX9-Wl1UtqZ",
        "outputId": "180bf850-c871-45c0-c695-79f2367776f5"
      },
      "outputs": [
        {
          "output_type": "execute_result",
          "data": {
            "text/plain": [
              "Empty DataFrame\n",
              "Columns: [animal, age, visits, priority]\n",
              "Index: []"
            ],
            "text/html": [
              "\n",
              "  <div id=\"df-65af84b1-823c-4cfd-80a7-3b2c5109c285\" class=\"colab-df-container\">\n",
              "    <div>\n",
              "<style scoped>\n",
              "    .dataframe tbody tr th:only-of-type {\n",
              "        vertical-align: middle;\n",
              "    }\n",
              "\n",
              "    .dataframe tbody tr th {\n",
              "        vertical-align: top;\n",
              "    }\n",
              "\n",
              "    .dataframe thead th {\n",
              "        text-align: right;\n",
              "    }\n",
              "</style>\n",
              "<table border=\"1\" class=\"dataframe\">\n",
              "  <thead>\n",
              "    <tr style=\"text-align: right;\">\n",
              "      <th></th>\n",
              "      <th>animal</th>\n",
              "      <th>age</th>\n",
              "      <th>visits</th>\n",
              "      <th>priority</th>\n",
              "    </tr>\n",
              "  </thead>\n",
              "  <tbody>\n",
              "  </tbody>\n",
              "</table>\n",
              "</div>\n",
              "    <div class=\"colab-df-buttons\">\n",
              "\n",
              "  <div class=\"colab-df-container\">\n",
              "    <button class=\"colab-df-convert\" onclick=\"convertToInteractive('df-65af84b1-823c-4cfd-80a7-3b2c5109c285')\"\n",
              "            title=\"Convert this dataframe to an interactive table.\"\n",
              "            style=\"display:none;\">\n",
              "\n",
              "  <svg xmlns=\"http://www.w3.org/2000/svg\" height=\"24px\" viewBox=\"0 -960 960 960\">\n",
              "    <path d=\"M120-120v-720h720v720H120Zm60-500h600v-160H180v160Zm220 220h160v-160H400v160Zm0 220h160v-160H400v160ZM180-400h160v-160H180v160Zm440 0h160v-160H620v160ZM180-180h160v-160H180v160Zm440 0h160v-160H620v160Z\"/>\n",
              "  </svg>\n",
              "    </button>\n",
              "\n",
              "  <style>\n",
              "    .colab-df-container {\n",
              "      display:flex;\n",
              "      gap: 12px;\n",
              "    }\n",
              "\n",
              "    .colab-df-convert {\n",
              "      background-color: #E8F0FE;\n",
              "      border: none;\n",
              "      border-radius: 50%;\n",
              "      cursor: pointer;\n",
              "      display: none;\n",
              "      fill: #1967D2;\n",
              "      height: 32px;\n",
              "      padding: 0 0 0 0;\n",
              "      width: 32px;\n",
              "    }\n",
              "\n",
              "    .colab-df-convert:hover {\n",
              "      background-color: #E2EBFA;\n",
              "      box-shadow: 0px 1px 2px rgba(60, 64, 67, 0.3), 0px 1px 3px 1px rgba(60, 64, 67, 0.15);\n",
              "      fill: #174EA6;\n",
              "    }\n",
              "\n",
              "    .colab-df-buttons div {\n",
              "      margin-bottom: 4px;\n",
              "    }\n",
              "\n",
              "    [theme=dark] .colab-df-convert {\n",
              "      background-color: #3B4455;\n",
              "      fill: #D2E3FC;\n",
              "    }\n",
              "\n",
              "    [theme=dark] .colab-df-convert:hover {\n",
              "      background-color: #434B5C;\n",
              "      box-shadow: 0px 1px 3px 1px rgba(0, 0, 0, 0.15);\n",
              "      filter: drop-shadow(0px 1px 2px rgba(0, 0, 0, 0.3));\n",
              "      fill: #FFFFFF;\n",
              "    }\n",
              "  </style>\n",
              "\n",
              "    <script>\n",
              "      const buttonEl =\n",
              "        document.querySelector('#df-65af84b1-823c-4cfd-80a7-3b2c5109c285 button.colab-df-convert');\n",
              "      buttonEl.style.display =\n",
              "        google.colab.kernel.accessAllowed ? 'block' : 'none';\n",
              "\n",
              "      async function convertToInteractive(key) {\n",
              "        const element = document.querySelector('#df-65af84b1-823c-4cfd-80a7-3b2c5109c285');\n",
              "        const dataTable =\n",
              "          await google.colab.kernel.invokeFunction('convertToInteractive',\n",
              "                                                    [key], {});\n",
              "        if (!dataTable) return;\n",
              "\n",
              "        const docLinkHtml = 'Like what you see? Visit the ' +\n",
              "          '<a target=\"_blank\" href=https://colab.research.google.com/notebooks/data_table.ipynb>data table notebook</a>'\n",
              "          + ' to learn more about interactive tables.';\n",
              "        element.innerHTML = '';\n",
              "        dataTable['output_type'] = 'display_data';\n",
              "        await google.colab.output.renderOutput(dataTable, element);\n",
              "        const docLink = document.createElement('div');\n",
              "        docLink.innerHTML = docLinkHtml;\n",
              "        element.appendChild(docLink);\n",
              "      }\n",
              "    </script>\n",
              "  </div>\n",
              "\n",
              "\n",
              "    </div>\n",
              "  </div>\n"
            ],
            "application/vnd.google.colaboratory.intrinsic+json": {
              "type": "dataframe",
              "repr_error": "Out of range float values are not JSON compliant: nan"
            }
          },
          "metadata": {},
          "execution_count": 11
        }
      ],
      "source": [
        "# Memilih baris di mana jumlah kunjungan ('visits') lebih dari 3\n",
        "df[df['visits'] > 3]\n"
      ]
    },
    {
      "cell_type": "markdown",
      "metadata": {
        "id": "gJmOT4BPUtqa"
      },
      "source": [
        "**10.** Select the rows where the age is missing, i.e. it is `NaN`."
      ]
    },
    {
      "cell_type": "code",
      "execution_count": 12,
      "metadata": {
        "collapsed": true,
        "colab": {
          "base_uri": "https://localhost:8080/",
          "height": 112
        },
        "id": "8dTxMZBaUtqa",
        "outputId": "d7865aac-e15e-47dd-f447-416322997cee"
      },
      "outputs": [
        {
          "output_type": "execute_result",
          "data": {
            "text/plain": [
              "  animal  age  visits priority\n",
              "d    dog  NaN       3      yes\n",
              "h    cat  NaN       1      yes"
            ],
            "text/html": [
              "\n",
              "  <div id=\"df-310842dc-8fd7-40c8-a55e-e6f01f195213\" class=\"colab-df-container\">\n",
              "    <div>\n",
              "<style scoped>\n",
              "    .dataframe tbody tr th:only-of-type {\n",
              "        vertical-align: middle;\n",
              "    }\n",
              "\n",
              "    .dataframe tbody tr th {\n",
              "        vertical-align: top;\n",
              "    }\n",
              "\n",
              "    .dataframe thead th {\n",
              "        text-align: right;\n",
              "    }\n",
              "</style>\n",
              "<table border=\"1\" class=\"dataframe\">\n",
              "  <thead>\n",
              "    <tr style=\"text-align: right;\">\n",
              "      <th></th>\n",
              "      <th>animal</th>\n",
              "      <th>age</th>\n",
              "      <th>visits</th>\n",
              "      <th>priority</th>\n",
              "    </tr>\n",
              "  </thead>\n",
              "  <tbody>\n",
              "    <tr>\n",
              "      <th>d</th>\n",
              "      <td>dog</td>\n",
              "      <td>NaN</td>\n",
              "      <td>3</td>\n",
              "      <td>yes</td>\n",
              "    </tr>\n",
              "    <tr>\n",
              "      <th>h</th>\n",
              "      <td>cat</td>\n",
              "      <td>NaN</td>\n",
              "      <td>1</td>\n",
              "      <td>yes</td>\n",
              "    </tr>\n",
              "  </tbody>\n",
              "</table>\n",
              "</div>\n",
              "    <div class=\"colab-df-buttons\">\n",
              "\n",
              "  <div class=\"colab-df-container\">\n",
              "    <button class=\"colab-df-convert\" onclick=\"convertToInteractive('df-310842dc-8fd7-40c8-a55e-e6f01f195213')\"\n",
              "            title=\"Convert this dataframe to an interactive table.\"\n",
              "            style=\"display:none;\">\n",
              "\n",
              "  <svg xmlns=\"http://www.w3.org/2000/svg\" height=\"24px\" viewBox=\"0 -960 960 960\">\n",
              "    <path d=\"M120-120v-720h720v720H120Zm60-500h600v-160H180v160Zm220 220h160v-160H400v160Zm0 220h160v-160H400v160ZM180-400h160v-160H180v160Zm440 0h160v-160H620v160ZM180-180h160v-160H180v160Zm440 0h160v-160H620v160Z\"/>\n",
              "  </svg>\n",
              "    </button>\n",
              "\n",
              "  <style>\n",
              "    .colab-df-container {\n",
              "      display:flex;\n",
              "      gap: 12px;\n",
              "    }\n",
              "\n",
              "    .colab-df-convert {\n",
              "      background-color: #E8F0FE;\n",
              "      border: none;\n",
              "      border-radius: 50%;\n",
              "      cursor: pointer;\n",
              "      display: none;\n",
              "      fill: #1967D2;\n",
              "      height: 32px;\n",
              "      padding: 0 0 0 0;\n",
              "      width: 32px;\n",
              "    }\n",
              "\n",
              "    .colab-df-convert:hover {\n",
              "      background-color: #E2EBFA;\n",
              "      box-shadow: 0px 1px 2px rgba(60, 64, 67, 0.3), 0px 1px 3px 1px rgba(60, 64, 67, 0.15);\n",
              "      fill: #174EA6;\n",
              "    }\n",
              "\n",
              "    .colab-df-buttons div {\n",
              "      margin-bottom: 4px;\n",
              "    }\n",
              "\n",
              "    [theme=dark] .colab-df-convert {\n",
              "      background-color: #3B4455;\n",
              "      fill: #D2E3FC;\n",
              "    }\n",
              "\n",
              "    [theme=dark] .colab-df-convert:hover {\n",
              "      background-color: #434B5C;\n",
              "      box-shadow: 0px 1px 3px 1px rgba(0, 0, 0, 0.15);\n",
              "      filter: drop-shadow(0px 1px 2px rgba(0, 0, 0, 0.3));\n",
              "      fill: #FFFFFF;\n",
              "    }\n",
              "  </style>\n",
              "\n",
              "    <script>\n",
              "      const buttonEl =\n",
              "        document.querySelector('#df-310842dc-8fd7-40c8-a55e-e6f01f195213 button.colab-df-convert');\n",
              "      buttonEl.style.display =\n",
              "        google.colab.kernel.accessAllowed ? 'block' : 'none';\n",
              "\n",
              "      async function convertToInteractive(key) {\n",
              "        const element = document.querySelector('#df-310842dc-8fd7-40c8-a55e-e6f01f195213');\n",
              "        const dataTable =\n",
              "          await google.colab.kernel.invokeFunction('convertToInteractive',\n",
              "                                                    [key], {});\n",
              "        if (!dataTable) return;\n",
              "\n",
              "        const docLinkHtml = 'Like what you see? Visit the ' +\n",
              "          '<a target=\"_blank\" href=https://colab.research.google.com/notebooks/data_table.ipynb>data table notebook</a>'\n",
              "          + ' to learn more about interactive tables.';\n",
              "        element.innerHTML = '';\n",
              "        dataTable['output_type'] = 'display_data';\n",
              "        await google.colab.output.renderOutput(dataTable, element);\n",
              "        const docLink = document.createElement('div');\n",
              "        docLink.innerHTML = docLinkHtml;\n",
              "        element.appendChild(docLink);\n",
              "      }\n",
              "    </script>\n",
              "  </div>\n",
              "\n",
              "\n",
              "<div id=\"df-70fc3563-43d6-4db7-b095-8d9d4c0093a9\">\n",
              "  <button class=\"colab-df-quickchart\" onclick=\"quickchart('df-70fc3563-43d6-4db7-b095-8d9d4c0093a9')\"\n",
              "            title=\"Suggest charts\"\n",
              "            style=\"display:none;\">\n",
              "\n",
              "<svg xmlns=\"http://www.w3.org/2000/svg\" height=\"24px\"viewBox=\"0 0 24 24\"\n",
              "     width=\"24px\">\n",
              "    <g>\n",
              "        <path d=\"M19 3H5c-1.1 0-2 .9-2 2v14c0 1.1.9 2 2 2h14c1.1 0 2-.9 2-2V5c0-1.1-.9-2-2-2zM9 17H7v-7h2v7zm4 0h-2V7h2v10zm4 0h-2v-4h2v4z\"/>\n",
              "    </g>\n",
              "</svg>\n",
              "  </button>\n",
              "\n",
              "<style>\n",
              "  .colab-df-quickchart {\n",
              "      --bg-color: #E8F0FE;\n",
              "      --fill-color: #1967D2;\n",
              "      --hover-bg-color: #E2EBFA;\n",
              "      --hover-fill-color: #174EA6;\n",
              "      --disabled-fill-color: #AAA;\n",
              "      --disabled-bg-color: #DDD;\n",
              "  }\n",
              "\n",
              "  [theme=dark] .colab-df-quickchart {\n",
              "      --bg-color: #3B4455;\n",
              "      --fill-color: #D2E3FC;\n",
              "      --hover-bg-color: #434B5C;\n",
              "      --hover-fill-color: #FFFFFF;\n",
              "      --disabled-bg-color: #3B4455;\n",
              "      --disabled-fill-color: #666;\n",
              "  }\n",
              "\n",
              "  .colab-df-quickchart {\n",
              "    background-color: var(--bg-color);\n",
              "    border: none;\n",
              "    border-radius: 50%;\n",
              "    cursor: pointer;\n",
              "    display: none;\n",
              "    fill: var(--fill-color);\n",
              "    height: 32px;\n",
              "    padding: 0;\n",
              "    width: 32px;\n",
              "  }\n",
              "\n",
              "  .colab-df-quickchart:hover {\n",
              "    background-color: var(--hover-bg-color);\n",
              "    box-shadow: 0 1px 2px rgba(60, 64, 67, 0.3), 0 1px 3px 1px rgba(60, 64, 67, 0.15);\n",
              "    fill: var(--button-hover-fill-color);\n",
              "  }\n",
              "\n",
              "  .colab-df-quickchart-complete:disabled,\n",
              "  .colab-df-quickchart-complete:disabled:hover {\n",
              "    background-color: var(--disabled-bg-color);\n",
              "    fill: var(--disabled-fill-color);\n",
              "    box-shadow: none;\n",
              "  }\n",
              "\n",
              "  .colab-df-spinner {\n",
              "    border: 2px solid var(--fill-color);\n",
              "    border-color: transparent;\n",
              "    border-bottom-color: var(--fill-color);\n",
              "    animation:\n",
              "      spin 1s steps(1) infinite;\n",
              "  }\n",
              "\n",
              "  @keyframes spin {\n",
              "    0% {\n",
              "      border-color: transparent;\n",
              "      border-bottom-color: var(--fill-color);\n",
              "      border-left-color: var(--fill-color);\n",
              "    }\n",
              "    20% {\n",
              "      border-color: transparent;\n",
              "      border-left-color: var(--fill-color);\n",
              "      border-top-color: var(--fill-color);\n",
              "    }\n",
              "    30% {\n",
              "      border-color: transparent;\n",
              "      border-left-color: var(--fill-color);\n",
              "      border-top-color: var(--fill-color);\n",
              "      border-right-color: var(--fill-color);\n",
              "    }\n",
              "    40% {\n",
              "      border-color: transparent;\n",
              "      border-right-color: var(--fill-color);\n",
              "      border-top-color: var(--fill-color);\n",
              "    }\n",
              "    60% {\n",
              "      border-color: transparent;\n",
              "      border-right-color: var(--fill-color);\n",
              "    }\n",
              "    80% {\n",
              "      border-color: transparent;\n",
              "      border-right-color: var(--fill-color);\n",
              "      border-bottom-color: var(--fill-color);\n",
              "    }\n",
              "    90% {\n",
              "      border-color: transparent;\n",
              "      border-bottom-color: var(--fill-color);\n",
              "    }\n",
              "  }\n",
              "</style>\n",
              "\n",
              "  <script>\n",
              "    async function quickchart(key) {\n",
              "      const quickchartButtonEl =\n",
              "        document.querySelector('#' + key + ' button');\n",
              "      quickchartButtonEl.disabled = true;  // To prevent multiple clicks.\n",
              "      quickchartButtonEl.classList.add('colab-df-spinner');\n",
              "      try {\n",
              "        const charts = await google.colab.kernel.invokeFunction(\n",
              "            'suggestCharts', [key], {});\n",
              "      } catch (error) {\n",
              "        console.error('Error during call to suggestCharts:', error);\n",
              "      }\n",
              "      quickchartButtonEl.classList.remove('colab-df-spinner');\n",
              "      quickchartButtonEl.classList.add('colab-df-quickchart-complete');\n",
              "    }\n",
              "    (() => {\n",
              "      let quickchartButtonEl =\n",
              "        document.querySelector('#df-70fc3563-43d6-4db7-b095-8d9d4c0093a9 button');\n",
              "      quickchartButtonEl.style.display =\n",
              "        google.colab.kernel.accessAllowed ? 'block' : 'none';\n",
              "    })();\n",
              "  </script>\n",
              "</div>\n",
              "\n",
              "    </div>\n",
              "  </div>\n"
            ],
            "application/vnd.google.colaboratory.intrinsic+json": {
              "type": "dataframe",
              "summary": "{\n  \"name\": \"df[df['age']\",\n  \"rows\": 2,\n  \"fields\": [\n    {\n      \"column\": \"animal\",\n      \"properties\": {\n        \"dtype\": \"string\",\n        \"num_unique_values\": 2,\n        \"samples\": [\n          \"cat\",\n          \"dog\"\n        ],\n        \"semantic_type\": \"\",\n        \"description\": \"\"\n      }\n    },\n    {\n      \"column\": \"age\",\n      \"properties\": {\n        \"dtype\": \"number\",\n        \"std\": null,\n        \"min\": null,\n        \"max\": null,\n        \"num_unique_values\": 0,\n        \"samples\": [],\n        \"semantic_type\": \"\",\n        \"description\": \"\"\n      }\n    },\n    {\n      \"column\": \"visits\",\n      \"properties\": {\n        \"dtype\": \"number\",\n        \"std\": 1,\n        \"min\": 1,\n        \"max\": 3,\n        \"num_unique_values\": 2,\n        \"samples\": [],\n        \"semantic_type\": \"\",\n        \"description\": \"\"\n      }\n    },\n    {\n      \"column\": \"priority\",\n      \"properties\": {\n        \"dtype\": \"string\",\n        \"num_unique_values\": 1,\n        \"samples\": [],\n        \"semantic_type\": \"\",\n        \"description\": \"\"\n      }\n    }\n  ]\n}"
            }
          },
          "metadata": {},
          "execution_count": 12
        }
      ],
      "source": [
        "# Memilih baris di mana kolom 'age' bernilai NaN\n",
        "df[df['age'].isna()]\n"
      ]
    },
    {
      "cell_type": "markdown",
      "metadata": {
        "id": "uCBZEsidUtqa"
      },
      "source": [
        "**11.** Select the rows where the animal is a cat *and* the age is less than 3."
      ]
    },
    {
      "cell_type": "code",
      "execution_count": 13,
      "metadata": {
        "collapsed": true,
        "colab": {
          "base_uri": "https://localhost:8080/",
          "height": 112
        },
        "id": "2b_4s9Z7Utqa",
        "outputId": "3fc07016-33c9-4521-ad3b-03e8a151536e"
      },
      "outputs": [
        {
          "output_type": "execute_result",
          "data": {
            "text/plain": [
              "  animal  age  visits priority\n",
              "a    cat  2.5       1      yes\n",
              "f    cat  2.0       3       no"
            ],
            "text/html": [
              "\n",
              "  <div id=\"df-f43d9226-88c4-4c45-a9bf-e0992b6f224d\" class=\"colab-df-container\">\n",
              "    <div>\n",
              "<style scoped>\n",
              "    .dataframe tbody tr th:only-of-type {\n",
              "        vertical-align: middle;\n",
              "    }\n",
              "\n",
              "    .dataframe tbody tr th {\n",
              "        vertical-align: top;\n",
              "    }\n",
              "\n",
              "    .dataframe thead th {\n",
              "        text-align: right;\n",
              "    }\n",
              "</style>\n",
              "<table border=\"1\" class=\"dataframe\">\n",
              "  <thead>\n",
              "    <tr style=\"text-align: right;\">\n",
              "      <th></th>\n",
              "      <th>animal</th>\n",
              "      <th>age</th>\n",
              "      <th>visits</th>\n",
              "      <th>priority</th>\n",
              "    </tr>\n",
              "  </thead>\n",
              "  <tbody>\n",
              "    <tr>\n",
              "      <th>a</th>\n",
              "      <td>cat</td>\n",
              "      <td>2.5</td>\n",
              "      <td>1</td>\n",
              "      <td>yes</td>\n",
              "    </tr>\n",
              "    <tr>\n",
              "      <th>f</th>\n",
              "      <td>cat</td>\n",
              "      <td>2.0</td>\n",
              "      <td>3</td>\n",
              "      <td>no</td>\n",
              "    </tr>\n",
              "  </tbody>\n",
              "</table>\n",
              "</div>\n",
              "    <div class=\"colab-df-buttons\">\n",
              "\n",
              "  <div class=\"colab-df-container\">\n",
              "    <button class=\"colab-df-convert\" onclick=\"convertToInteractive('df-f43d9226-88c4-4c45-a9bf-e0992b6f224d')\"\n",
              "            title=\"Convert this dataframe to an interactive table.\"\n",
              "            style=\"display:none;\">\n",
              "\n",
              "  <svg xmlns=\"http://www.w3.org/2000/svg\" height=\"24px\" viewBox=\"0 -960 960 960\">\n",
              "    <path d=\"M120-120v-720h720v720H120Zm60-500h600v-160H180v160Zm220 220h160v-160H400v160Zm0 220h160v-160H400v160ZM180-400h160v-160H180v160Zm440 0h160v-160H620v160ZM180-180h160v-160H180v160Zm440 0h160v-160H620v160Z\"/>\n",
              "  </svg>\n",
              "    </button>\n",
              "\n",
              "  <style>\n",
              "    .colab-df-container {\n",
              "      display:flex;\n",
              "      gap: 12px;\n",
              "    }\n",
              "\n",
              "    .colab-df-convert {\n",
              "      background-color: #E8F0FE;\n",
              "      border: none;\n",
              "      border-radius: 50%;\n",
              "      cursor: pointer;\n",
              "      display: none;\n",
              "      fill: #1967D2;\n",
              "      height: 32px;\n",
              "      padding: 0 0 0 0;\n",
              "      width: 32px;\n",
              "    }\n",
              "\n",
              "    .colab-df-convert:hover {\n",
              "      background-color: #E2EBFA;\n",
              "      box-shadow: 0px 1px 2px rgba(60, 64, 67, 0.3), 0px 1px 3px 1px rgba(60, 64, 67, 0.15);\n",
              "      fill: #174EA6;\n",
              "    }\n",
              "\n",
              "    .colab-df-buttons div {\n",
              "      margin-bottom: 4px;\n",
              "    }\n",
              "\n",
              "    [theme=dark] .colab-df-convert {\n",
              "      background-color: #3B4455;\n",
              "      fill: #D2E3FC;\n",
              "    }\n",
              "\n",
              "    [theme=dark] .colab-df-convert:hover {\n",
              "      background-color: #434B5C;\n",
              "      box-shadow: 0px 1px 3px 1px rgba(0, 0, 0, 0.15);\n",
              "      filter: drop-shadow(0px 1px 2px rgba(0, 0, 0, 0.3));\n",
              "      fill: #FFFFFF;\n",
              "    }\n",
              "  </style>\n",
              "\n",
              "    <script>\n",
              "      const buttonEl =\n",
              "        document.querySelector('#df-f43d9226-88c4-4c45-a9bf-e0992b6f224d button.colab-df-convert');\n",
              "      buttonEl.style.display =\n",
              "        google.colab.kernel.accessAllowed ? 'block' : 'none';\n",
              "\n",
              "      async function convertToInteractive(key) {\n",
              "        const element = document.querySelector('#df-f43d9226-88c4-4c45-a9bf-e0992b6f224d');\n",
              "        const dataTable =\n",
              "          await google.colab.kernel.invokeFunction('convertToInteractive',\n",
              "                                                    [key], {});\n",
              "        if (!dataTable) return;\n",
              "\n",
              "        const docLinkHtml = 'Like what you see? Visit the ' +\n",
              "          '<a target=\"_blank\" href=https://colab.research.google.com/notebooks/data_table.ipynb>data table notebook</a>'\n",
              "          + ' to learn more about interactive tables.';\n",
              "        element.innerHTML = '';\n",
              "        dataTable['output_type'] = 'display_data';\n",
              "        await google.colab.output.renderOutput(dataTable, element);\n",
              "        const docLink = document.createElement('div');\n",
              "        docLink.innerHTML = docLinkHtml;\n",
              "        element.appendChild(docLink);\n",
              "      }\n",
              "    </script>\n",
              "  </div>\n",
              "\n",
              "\n",
              "<div id=\"df-af04f2bb-2943-4ced-86d6-3fac44b32541\">\n",
              "  <button class=\"colab-df-quickchart\" onclick=\"quickchart('df-af04f2bb-2943-4ced-86d6-3fac44b32541')\"\n",
              "            title=\"Suggest charts\"\n",
              "            style=\"display:none;\">\n",
              "\n",
              "<svg xmlns=\"http://www.w3.org/2000/svg\" height=\"24px\"viewBox=\"0 0 24 24\"\n",
              "     width=\"24px\">\n",
              "    <g>\n",
              "        <path d=\"M19 3H5c-1.1 0-2 .9-2 2v14c0 1.1.9 2 2 2h14c1.1 0 2-.9 2-2V5c0-1.1-.9-2-2-2zM9 17H7v-7h2v7zm4 0h-2V7h2v10zm4 0h-2v-4h2v4z\"/>\n",
              "    </g>\n",
              "</svg>\n",
              "  </button>\n",
              "\n",
              "<style>\n",
              "  .colab-df-quickchart {\n",
              "      --bg-color: #E8F0FE;\n",
              "      --fill-color: #1967D2;\n",
              "      --hover-bg-color: #E2EBFA;\n",
              "      --hover-fill-color: #174EA6;\n",
              "      --disabled-fill-color: #AAA;\n",
              "      --disabled-bg-color: #DDD;\n",
              "  }\n",
              "\n",
              "  [theme=dark] .colab-df-quickchart {\n",
              "      --bg-color: #3B4455;\n",
              "      --fill-color: #D2E3FC;\n",
              "      --hover-bg-color: #434B5C;\n",
              "      --hover-fill-color: #FFFFFF;\n",
              "      --disabled-bg-color: #3B4455;\n",
              "      --disabled-fill-color: #666;\n",
              "  }\n",
              "\n",
              "  .colab-df-quickchart {\n",
              "    background-color: var(--bg-color);\n",
              "    border: none;\n",
              "    border-radius: 50%;\n",
              "    cursor: pointer;\n",
              "    display: none;\n",
              "    fill: var(--fill-color);\n",
              "    height: 32px;\n",
              "    padding: 0;\n",
              "    width: 32px;\n",
              "  }\n",
              "\n",
              "  .colab-df-quickchart:hover {\n",
              "    background-color: var(--hover-bg-color);\n",
              "    box-shadow: 0 1px 2px rgba(60, 64, 67, 0.3), 0 1px 3px 1px rgba(60, 64, 67, 0.15);\n",
              "    fill: var(--button-hover-fill-color);\n",
              "  }\n",
              "\n",
              "  .colab-df-quickchart-complete:disabled,\n",
              "  .colab-df-quickchart-complete:disabled:hover {\n",
              "    background-color: var(--disabled-bg-color);\n",
              "    fill: var(--disabled-fill-color);\n",
              "    box-shadow: none;\n",
              "  }\n",
              "\n",
              "  .colab-df-spinner {\n",
              "    border: 2px solid var(--fill-color);\n",
              "    border-color: transparent;\n",
              "    border-bottom-color: var(--fill-color);\n",
              "    animation:\n",
              "      spin 1s steps(1) infinite;\n",
              "  }\n",
              "\n",
              "  @keyframes spin {\n",
              "    0% {\n",
              "      border-color: transparent;\n",
              "      border-bottom-color: var(--fill-color);\n",
              "      border-left-color: var(--fill-color);\n",
              "    }\n",
              "    20% {\n",
              "      border-color: transparent;\n",
              "      border-left-color: var(--fill-color);\n",
              "      border-top-color: var(--fill-color);\n",
              "    }\n",
              "    30% {\n",
              "      border-color: transparent;\n",
              "      border-left-color: var(--fill-color);\n",
              "      border-top-color: var(--fill-color);\n",
              "      border-right-color: var(--fill-color);\n",
              "    }\n",
              "    40% {\n",
              "      border-color: transparent;\n",
              "      border-right-color: var(--fill-color);\n",
              "      border-top-color: var(--fill-color);\n",
              "    }\n",
              "    60% {\n",
              "      border-color: transparent;\n",
              "      border-right-color: var(--fill-color);\n",
              "    }\n",
              "    80% {\n",
              "      border-color: transparent;\n",
              "      border-right-color: var(--fill-color);\n",
              "      border-bottom-color: var(--fill-color);\n",
              "    }\n",
              "    90% {\n",
              "      border-color: transparent;\n",
              "      border-bottom-color: var(--fill-color);\n",
              "    }\n",
              "  }\n",
              "</style>\n",
              "\n",
              "  <script>\n",
              "    async function quickchart(key) {\n",
              "      const quickchartButtonEl =\n",
              "        document.querySelector('#' + key + ' button');\n",
              "      quickchartButtonEl.disabled = true;  // To prevent multiple clicks.\n",
              "      quickchartButtonEl.classList.add('colab-df-spinner');\n",
              "      try {\n",
              "        const charts = await google.colab.kernel.invokeFunction(\n",
              "            'suggestCharts', [key], {});\n",
              "      } catch (error) {\n",
              "        console.error('Error during call to suggestCharts:', error);\n",
              "      }\n",
              "      quickchartButtonEl.classList.remove('colab-df-spinner');\n",
              "      quickchartButtonEl.classList.add('colab-df-quickchart-complete');\n",
              "    }\n",
              "    (() => {\n",
              "      let quickchartButtonEl =\n",
              "        document.querySelector('#df-af04f2bb-2943-4ced-86d6-3fac44b32541 button');\n",
              "      quickchartButtonEl.style.display =\n",
              "        google.colab.kernel.accessAllowed ? 'block' : 'none';\n",
              "    })();\n",
              "  </script>\n",
              "</div>\n",
              "\n",
              "    </div>\n",
              "  </div>\n"
            ],
            "application/vnd.google.colaboratory.intrinsic+json": {
              "type": "dataframe",
              "summary": "{\n  \"name\": \"df[(df['animal'] == 'cat') & (df['age'] < 3)]\",\n  \"rows\": 2,\n  \"fields\": [\n    {\n      \"column\": \"animal\",\n      \"properties\": {\n        \"dtype\": \"string\",\n        \"num_unique_values\": 1,\n        \"samples\": [\n          \"cat\"\n        ],\n        \"semantic_type\": \"\",\n        \"description\": \"\"\n      }\n    },\n    {\n      \"column\": \"age\",\n      \"properties\": {\n        \"dtype\": \"number\",\n        \"std\": 0.3535533905932738,\n        \"min\": 2.0,\n        \"max\": 2.5,\n        \"num_unique_values\": 2,\n        \"samples\": [\n          2.0\n        ],\n        \"semantic_type\": \"\",\n        \"description\": \"\"\n      }\n    },\n    {\n      \"column\": \"visits\",\n      \"properties\": {\n        \"dtype\": \"number\",\n        \"std\": 1,\n        \"min\": 1,\n        \"max\": 3,\n        \"num_unique_values\": 2,\n        \"samples\": [\n          3\n        ],\n        \"semantic_type\": \"\",\n        \"description\": \"\"\n      }\n    },\n    {\n      \"column\": \"priority\",\n      \"properties\": {\n        \"dtype\": \"string\",\n        \"num_unique_values\": 2,\n        \"samples\": [\n          \"no\"\n        ],\n        \"semantic_type\": \"\",\n        \"description\": \"\"\n      }\n    }\n  ]\n}"
            }
          },
          "metadata": {},
          "execution_count": 13
        }
      ],
      "source": [
        "# Memilih baris di mana hewan adalah 'cat' dan usia kurang dari 3\n",
        "df[(df['animal'] == 'cat') & (df['age'] < 3)]\n"
      ]
    },
    {
      "cell_type": "markdown",
      "metadata": {
        "id": "al3ncg2XUtqb"
      },
      "source": [
        "**12.** Select the rows the age is between 2 and 4 (inclusive)."
      ]
    },
    {
      "cell_type": "code",
      "execution_count": 14,
      "metadata": {
        "collapsed": true,
        "colab": {
          "base_uri": "https://localhost:8080/",
          "height": 174
        },
        "id": "fBoHI52GUtqb",
        "outputId": "d9bb4919-183c-407d-8c79-c9f9c25573f0"
      },
      "outputs": [
        {
          "output_type": "execute_result",
          "data": {
            "text/plain": [
              "  animal  age  visits priority\n",
              "a    cat  2.5       1      yes\n",
              "b    cat  3.0       3      yes\n",
              "f    cat  2.0       3       no\n",
              "j    dog  3.0       1       no"
            ],
            "text/html": [
              "\n",
              "  <div id=\"df-c2600190-6a5c-4f71-99d5-37b4861a62cb\" class=\"colab-df-container\">\n",
              "    <div>\n",
              "<style scoped>\n",
              "    .dataframe tbody tr th:only-of-type {\n",
              "        vertical-align: middle;\n",
              "    }\n",
              "\n",
              "    .dataframe tbody tr th {\n",
              "        vertical-align: top;\n",
              "    }\n",
              "\n",
              "    .dataframe thead th {\n",
              "        text-align: right;\n",
              "    }\n",
              "</style>\n",
              "<table border=\"1\" class=\"dataframe\">\n",
              "  <thead>\n",
              "    <tr style=\"text-align: right;\">\n",
              "      <th></th>\n",
              "      <th>animal</th>\n",
              "      <th>age</th>\n",
              "      <th>visits</th>\n",
              "      <th>priority</th>\n",
              "    </tr>\n",
              "  </thead>\n",
              "  <tbody>\n",
              "    <tr>\n",
              "      <th>a</th>\n",
              "      <td>cat</td>\n",
              "      <td>2.5</td>\n",
              "      <td>1</td>\n",
              "      <td>yes</td>\n",
              "    </tr>\n",
              "    <tr>\n",
              "      <th>b</th>\n",
              "      <td>cat</td>\n",
              "      <td>3.0</td>\n",
              "      <td>3</td>\n",
              "      <td>yes</td>\n",
              "    </tr>\n",
              "    <tr>\n",
              "      <th>f</th>\n",
              "      <td>cat</td>\n",
              "      <td>2.0</td>\n",
              "      <td>3</td>\n",
              "      <td>no</td>\n",
              "    </tr>\n",
              "    <tr>\n",
              "      <th>j</th>\n",
              "      <td>dog</td>\n",
              "      <td>3.0</td>\n",
              "      <td>1</td>\n",
              "      <td>no</td>\n",
              "    </tr>\n",
              "  </tbody>\n",
              "</table>\n",
              "</div>\n",
              "    <div class=\"colab-df-buttons\">\n",
              "\n",
              "  <div class=\"colab-df-container\">\n",
              "    <button class=\"colab-df-convert\" onclick=\"convertToInteractive('df-c2600190-6a5c-4f71-99d5-37b4861a62cb')\"\n",
              "            title=\"Convert this dataframe to an interactive table.\"\n",
              "            style=\"display:none;\">\n",
              "\n",
              "  <svg xmlns=\"http://www.w3.org/2000/svg\" height=\"24px\" viewBox=\"0 -960 960 960\">\n",
              "    <path d=\"M120-120v-720h720v720H120Zm60-500h600v-160H180v160Zm220 220h160v-160H400v160Zm0 220h160v-160H400v160ZM180-400h160v-160H180v160Zm440 0h160v-160H620v160ZM180-180h160v-160H180v160Zm440 0h160v-160H620v160Z\"/>\n",
              "  </svg>\n",
              "    </button>\n",
              "\n",
              "  <style>\n",
              "    .colab-df-container {\n",
              "      display:flex;\n",
              "      gap: 12px;\n",
              "    }\n",
              "\n",
              "    .colab-df-convert {\n",
              "      background-color: #E8F0FE;\n",
              "      border: none;\n",
              "      border-radius: 50%;\n",
              "      cursor: pointer;\n",
              "      display: none;\n",
              "      fill: #1967D2;\n",
              "      height: 32px;\n",
              "      padding: 0 0 0 0;\n",
              "      width: 32px;\n",
              "    }\n",
              "\n",
              "    .colab-df-convert:hover {\n",
              "      background-color: #E2EBFA;\n",
              "      box-shadow: 0px 1px 2px rgba(60, 64, 67, 0.3), 0px 1px 3px 1px rgba(60, 64, 67, 0.15);\n",
              "      fill: #174EA6;\n",
              "    }\n",
              "\n",
              "    .colab-df-buttons div {\n",
              "      margin-bottom: 4px;\n",
              "    }\n",
              "\n",
              "    [theme=dark] .colab-df-convert {\n",
              "      background-color: #3B4455;\n",
              "      fill: #D2E3FC;\n",
              "    }\n",
              "\n",
              "    [theme=dark] .colab-df-convert:hover {\n",
              "      background-color: #434B5C;\n",
              "      box-shadow: 0px 1px 3px 1px rgba(0, 0, 0, 0.15);\n",
              "      filter: drop-shadow(0px 1px 2px rgba(0, 0, 0, 0.3));\n",
              "      fill: #FFFFFF;\n",
              "    }\n",
              "  </style>\n",
              "\n",
              "    <script>\n",
              "      const buttonEl =\n",
              "        document.querySelector('#df-c2600190-6a5c-4f71-99d5-37b4861a62cb button.colab-df-convert');\n",
              "      buttonEl.style.display =\n",
              "        google.colab.kernel.accessAllowed ? 'block' : 'none';\n",
              "\n",
              "      async function convertToInteractive(key) {\n",
              "        const element = document.querySelector('#df-c2600190-6a5c-4f71-99d5-37b4861a62cb');\n",
              "        const dataTable =\n",
              "          await google.colab.kernel.invokeFunction('convertToInteractive',\n",
              "                                                    [key], {});\n",
              "        if (!dataTable) return;\n",
              "\n",
              "        const docLinkHtml = 'Like what you see? Visit the ' +\n",
              "          '<a target=\"_blank\" href=https://colab.research.google.com/notebooks/data_table.ipynb>data table notebook</a>'\n",
              "          + ' to learn more about interactive tables.';\n",
              "        element.innerHTML = '';\n",
              "        dataTable['output_type'] = 'display_data';\n",
              "        await google.colab.output.renderOutput(dataTable, element);\n",
              "        const docLink = document.createElement('div');\n",
              "        docLink.innerHTML = docLinkHtml;\n",
              "        element.appendChild(docLink);\n",
              "      }\n",
              "    </script>\n",
              "  </div>\n",
              "\n",
              "\n",
              "<div id=\"df-9ee343f9-45cf-4b74-9103-636c8ca3d145\">\n",
              "  <button class=\"colab-df-quickchart\" onclick=\"quickchart('df-9ee343f9-45cf-4b74-9103-636c8ca3d145')\"\n",
              "            title=\"Suggest charts\"\n",
              "            style=\"display:none;\">\n",
              "\n",
              "<svg xmlns=\"http://www.w3.org/2000/svg\" height=\"24px\"viewBox=\"0 0 24 24\"\n",
              "     width=\"24px\">\n",
              "    <g>\n",
              "        <path d=\"M19 3H5c-1.1 0-2 .9-2 2v14c0 1.1.9 2 2 2h14c1.1 0 2-.9 2-2V5c0-1.1-.9-2-2-2zM9 17H7v-7h2v7zm4 0h-2V7h2v10zm4 0h-2v-4h2v4z\"/>\n",
              "    </g>\n",
              "</svg>\n",
              "  </button>\n",
              "\n",
              "<style>\n",
              "  .colab-df-quickchart {\n",
              "      --bg-color: #E8F0FE;\n",
              "      --fill-color: #1967D2;\n",
              "      --hover-bg-color: #E2EBFA;\n",
              "      --hover-fill-color: #174EA6;\n",
              "      --disabled-fill-color: #AAA;\n",
              "      --disabled-bg-color: #DDD;\n",
              "  }\n",
              "\n",
              "  [theme=dark] .colab-df-quickchart {\n",
              "      --bg-color: #3B4455;\n",
              "      --fill-color: #D2E3FC;\n",
              "      --hover-bg-color: #434B5C;\n",
              "      --hover-fill-color: #FFFFFF;\n",
              "      --disabled-bg-color: #3B4455;\n",
              "      --disabled-fill-color: #666;\n",
              "  }\n",
              "\n",
              "  .colab-df-quickchart {\n",
              "    background-color: var(--bg-color);\n",
              "    border: none;\n",
              "    border-radius: 50%;\n",
              "    cursor: pointer;\n",
              "    display: none;\n",
              "    fill: var(--fill-color);\n",
              "    height: 32px;\n",
              "    padding: 0;\n",
              "    width: 32px;\n",
              "  }\n",
              "\n",
              "  .colab-df-quickchart:hover {\n",
              "    background-color: var(--hover-bg-color);\n",
              "    box-shadow: 0 1px 2px rgba(60, 64, 67, 0.3), 0 1px 3px 1px rgba(60, 64, 67, 0.15);\n",
              "    fill: var(--button-hover-fill-color);\n",
              "  }\n",
              "\n",
              "  .colab-df-quickchart-complete:disabled,\n",
              "  .colab-df-quickchart-complete:disabled:hover {\n",
              "    background-color: var(--disabled-bg-color);\n",
              "    fill: var(--disabled-fill-color);\n",
              "    box-shadow: none;\n",
              "  }\n",
              "\n",
              "  .colab-df-spinner {\n",
              "    border: 2px solid var(--fill-color);\n",
              "    border-color: transparent;\n",
              "    border-bottom-color: var(--fill-color);\n",
              "    animation:\n",
              "      spin 1s steps(1) infinite;\n",
              "  }\n",
              "\n",
              "  @keyframes spin {\n",
              "    0% {\n",
              "      border-color: transparent;\n",
              "      border-bottom-color: var(--fill-color);\n",
              "      border-left-color: var(--fill-color);\n",
              "    }\n",
              "    20% {\n",
              "      border-color: transparent;\n",
              "      border-left-color: var(--fill-color);\n",
              "      border-top-color: var(--fill-color);\n",
              "    }\n",
              "    30% {\n",
              "      border-color: transparent;\n",
              "      border-left-color: var(--fill-color);\n",
              "      border-top-color: var(--fill-color);\n",
              "      border-right-color: var(--fill-color);\n",
              "    }\n",
              "    40% {\n",
              "      border-color: transparent;\n",
              "      border-right-color: var(--fill-color);\n",
              "      border-top-color: var(--fill-color);\n",
              "    }\n",
              "    60% {\n",
              "      border-color: transparent;\n",
              "      border-right-color: var(--fill-color);\n",
              "    }\n",
              "    80% {\n",
              "      border-color: transparent;\n",
              "      border-right-color: var(--fill-color);\n",
              "      border-bottom-color: var(--fill-color);\n",
              "    }\n",
              "    90% {\n",
              "      border-color: transparent;\n",
              "      border-bottom-color: var(--fill-color);\n",
              "    }\n",
              "  }\n",
              "</style>\n",
              "\n",
              "  <script>\n",
              "    async function quickchart(key) {\n",
              "      const quickchartButtonEl =\n",
              "        document.querySelector('#' + key + ' button');\n",
              "      quickchartButtonEl.disabled = true;  // To prevent multiple clicks.\n",
              "      quickchartButtonEl.classList.add('colab-df-spinner');\n",
              "      try {\n",
              "        const charts = await google.colab.kernel.invokeFunction(\n",
              "            'suggestCharts', [key], {});\n",
              "      } catch (error) {\n",
              "        console.error('Error during call to suggestCharts:', error);\n",
              "      }\n",
              "      quickchartButtonEl.classList.remove('colab-df-spinner');\n",
              "      quickchartButtonEl.classList.add('colab-df-quickchart-complete');\n",
              "    }\n",
              "    (() => {\n",
              "      let quickchartButtonEl =\n",
              "        document.querySelector('#df-9ee343f9-45cf-4b74-9103-636c8ca3d145 button');\n",
              "      quickchartButtonEl.style.display =\n",
              "        google.colab.kernel.accessAllowed ? 'block' : 'none';\n",
              "    })();\n",
              "  </script>\n",
              "</div>\n",
              "\n",
              "    </div>\n",
              "  </div>\n"
            ],
            "application/vnd.google.colaboratory.intrinsic+json": {
              "type": "dataframe",
              "summary": "{\n  \"name\": \"df[(df['age'] >= 2) & (df['age'] <= 4)]\",\n  \"rows\": 4,\n  \"fields\": [\n    {\n      \"column\": \"animal\",\n      \"properties\": {\n        \"dtype\": \"string\",\n        \"num_unique_values\": 2,\n        \"samples\": [\n          \"dog\",\n          \"cat\"\n        ],\n        \"semantic_type\": \"\",\n        \"description\": \"\"\n      }\n    },\n    {\n      \"column\": \"age\",\n      \"properties\": {\n        \"dtype\": \"number\",\n        \"std\": 0.47871355387816905,\n        \"min\": 2.0,\n        \"max\": 3.0,\n        \"num_unique_values\": 3,\n        \"samples\": [\n          2.5,\n          3.0\n        ],\n        \"semantic_type\": \"\",\n        \"description\": \"\"\n      }\n    },\n    {\n      \"column\": \"visits\",\n      \"properties\": {\n        \"dtype\": \"number\",\n        \"std\": 1,\n        \"min\": 1,\n        \"max\": 3,\n        \"num_unique_values\": 2,\n        \"samples\": [\n          3,\n          1\n        ],\n        \"semantic_type\": \"\",\n        \"description\": \"\"\n      }\n    },\n    {\n      \"column\": \"priority\",\n      \"properties\": {\n        \"dtype\": \"string\",\n        \"num_unique_values\": 2,\n        \"samples\": [\n          \"no\",\n          \"yes\"\n        ],\n        \"semantic_type\": \"\",\n        \"description\": \"\"\n      }\n    }\n  ]\n}"
            }
          },
          "metadata": {},
          "execution_count": 14
        }
      ],
      "source": [
        "# Memilih baris di mana usia ('age') antara 2 dan 4 (termasuk)\n",
        "df[(df['age'] >= 2) & (df['age'] <= 4)]\n"
      ]
    },
    {
      "cell_type": "markdown",
      "metadata": {
        "id": "PYavoWpvUtqb"
      },
      "source": [
        "**13.** Change the age in row 'f' to 1.5."
      ]
    },
    {
      "cell_type": "code",
      "execution_count": 16,
      "metadata": {
        "collapsed": true,
        "id": "BTaMjuk-Utqc"
      },
      "outputs": [],
      "source": [
        "# Mengubah nilai 'age' pada baris 'f' menjadi 1.5\n",
        "df.at['f', 'age'] = 1.5\n"
      ]
    },
    {
      "cell_type": "markdown",
      "metadata": {
        "id": "zOS8kVG7Utqc"
      },
      "source": [
        "**14.** Calculate the sum of all visits in `df` (i.e. find the total number of visits)."
      ]
    },
    {
      "cell_type": "code",
      "execution_count": 17,
      "metadata": {
        "collapsed": true,
        "colab": {
          "base_uri": "https://localhost:8080/"
        },
        "id": "8jB6XF19Utqc",
        "outputId": "3b55c6be-a99c-4d27-f8dd-fd9c141e56d0"
      },
      "outputs": [
        {
          "output_type": "stream",
          "name": "stdout",
          "text": [
            "19\n"
          ]
        }
      ],
      "source": [
        "# Menghitung jumlah total kunjungan\n",
        "total_visits = df['visits'].sum()\n",
        "print(total_visits)\n"
      ]
    },
    {
      "cell_type": "markdown",
      "metadata": {
        "id": "qaOrvsM5Utqc"
      },
      "source": [
        "**15.** Calculate the mean age for each different animal in `df`."
      ]
    },
    {
      "cell_type": "code",
      "execution_count": 18,
      "metadata": {
        "collapsed": true,
        "colab": {
          "base_uri": "https://localhost:8080/"
        },
        "id": "wL1EO2jaUtqc",
        "outputId": "4dc42a47-ee8f-4710-abe2-463dc28bc4a2"
      },
      "outputs": [
        {
          "output_type": "stream",
          "name": "stdout",
          "text": [
            "animal\n",
            "cat      2.333333\n",
            "dog      5.000000\n",
            "snake    2.500000\n",
            "Name: age, dtype: float64\n"
          ]
        }
      ],
      "source": [
        "# Menghitung rata-rata usia untuk setiap jenis hewan\n",
        "mean_age_per_animal = df.groupby('animal')['age'].mean()\n",
        "print(mean_age_per_animal)\n"
      ]
    },
    {
      "cell_type": "markdown",
      "metadata": {
        "id": "nH_SqbFIUtqc"
      },
      "source": [
        "**16.** Append a new row 'k' to `df` with your choice of values for each column. Then delete that row to return the original DataFrame."
      ]
    },
    {
      "cell_type": "code",
      "execution_count": 19,
      "metadata": {
        "collapsed": true,
        "id": "xDzs3pqxUtqd"
      },
      "outputs": [],
      "source": [
        "# Menambahkan baris baru dengan label 'k'\n",
        "df.loc['k'] = ['dog', 4, 2, 'yes']\n",
        "\n",
        "# Menghapus baris 'k' untuk mengembalikan DataFrame ke keadaan semula\n",
        "df = df.drop('k')\n"
      ]
    },
    {
      "cell_type": "markdown",
      "metadata": {
        "id": "oo_JY1qVUtqd"
      },
      "source": [
        "**17.** Count the number of each type of animal in `df`."
      ]
    },
    {
      "cell_type": "code",
      "execution_count": 20,
      "metadata": {
        "collapsed": true,
        "colab": {
          "base_uri": "https://localhost:8080/"
        },
        "id": "eM300podUtqd",
        "outputId": "155df980-bb7e-43a3-a406-af82f013810e"
      },
      "outputs": [
        {
          "output_type": "stream",
          "name": "stdout",
          "text": [
            "animal\n",
            "cat      4\n",
            "dog      4\n",
            "snake    2\n",
            "Name: count, dtype: int64\n"
          ]
        }
      ],
      "source": [
        "# Menghitung jumlah masing-masing jenis hewan\n",
        "animal_counts = df['animal'].value_counts()\n",
        "print(animal_counts)\n"
      ]
    },
    {
      "cell_type": "markdown",
      "metadata": {
        "id": "7OYir_CUUtqd"
      },
      "source": [
        "**18.** Sort `df` first by the values in the 'age' in *decending* order, then by the value in the 'visits' column in *ascending* order (so row `i` should be first, and row `d` should be last)."
      ]
    },
    {
      "cell_type": "code",
      "execution_count": 21,
      "metadata": {
        "collapsed": true,
        "colab": {
          "base_uri": "https://localhost:8080/"
        },
        "id": "py4QnnoaUtqd",
        "outputId": "9fb056c8-b870-4661-8e9f-de88bccb252a"
      },
      "outputs": [
        {
          "output_type": "stream",
          "name": "stdout",
          "text": [
            "  animal  age  visits priority\n",
            "i    dog  7.0       2       no\n",
            "e    dog  5.0       2       no\n",
            "g  snake  4.5       1       no\n",
            "j    dog  3.0       1       no\n",
            "b    cat  3.0       3      yes\n",
            "a    cat  2.5       1      yes\n",
            "f    cat  1.5       3       no\n",
            "c  snake  0.5       2       no\n",
            "h    cat  NaN       1      yes\n",
            "d    dog  NaN       3      yes\n"
          ]
        }
      ],
      "source": [
        "# Mengurutkan DataFrame berdasarkan 'age' (descending) dan 'visits' (ascending)\n",
        "df_sorted = df.sort_values(by=['age', 'visits'], ascending=[False, True])\n",
        "print(df_sorted)\n"
      ]
    },
    {
      "cell_type": "markdown",
      "metadata": {
        "id": "LyURQY4oUtqe"
      },
      "source": [
        "**19.** The 'priority' column contains the values 'yes' and 'no'. Replace this column with a column of boolean values: 'yes' should be `True` and 'no' should be `False`."
      ]
    },
    {
      "cell_type": "code",
      "execution_count": 22,
      "metadata": {
        "collapsed": true,
        "colab": {
          "base_uri": "https://localhost:8080/"
        },
        "id": "g0tIlSvOUtqe",
        "outputId": "b02f56ee-9f06-46fb-bb25-9bd32e5c89f6"
      },
      "outputs": [
        {
          "output_type": "stream",
          "name": "stderr",
          "text": [
            "<ipython-input-22-59bd64550b34>:2: FutureWarning: Downcasting behavior in `replace` is deprecated and will be removed in a future version. To retain the old behavior, explicitly call `result.infer_objects(copy=False)`. To opt-in to the future behavior, set `pd.set_option('future.no_silent_downcasting', True)`\n",
            "  df['priority'] = df['priority'].replace({'yes': True, 'no': False})\n"
          ]
        }
      ],
      "source": [
        "# Mengganti nilai 'yes' dengan True dan 'no' dengan False pada kolom 'priority'\n",
        "df['priority'] = df['priority'].replace({'yes': True, 'no': False})\n"
      ]
    },
    {
      "cell_type": "markdown",
      "metadata": {
        "id": "l_5pkIniUtqk"
      },
      "source": [
        "**20.** In the 'animal' column, change the 'snake' entries to 'python'."
      ]
    },
    {
      "cell_type": "code",
      "execution_count": 23,
      "metadata": {
        "collapsed": true,
        "id": "ssJPqkj5Utqk"
      },
      "outputs": [],
      "source": [
        "# Mengganti nilai 'snake' dengan 'python' pada kolom 'animal'\n",
        "df['animal'] = df['animal'].replace('snake', 'python')\n"
      ]
    },
    {
      "cell_type": "markdown",
      "metadata": {
        "id": "YWkaiMIpUtqk"
      },
      "source": [
        "**21.** For each animal type and each number of visits, find the mean age. In other words, each row is an animal, each column is a number of visits and the values are the mean ages (*hint: use a pivot table*)."
      ]
    },
    {
      "cell_type": "code",
      "execution_count": 24,
      "metadata": {
        "collapsed": true,
        "colab": {
          "base_uri": "https://localhost:8080/"
        },
        "id": "aBXYYAkFUtql",
        "outputId": "27f8f8ab-efb9-405e-89e1-395c67b5a16b"
      },
      "outputs": [
        {
          "output_type": "stream",
          "name": "stdout",
          "text": [
            "visits    1    2     3\n",
            "animal                \n",
            "cat     2.5  NaN  2.25\n",
            "dog     3.0  6.0   NaN\n",
            "python  4.5  0.5   NaN\n"
          ]
        }
      ],
      "source": [
        "# Membuat tabel pivot untuk menghitung rata-rata usia berdasarkan jenis hewan dan jumlah kunjungan\n",
        "pivot_table = df.pivot_table(values='age', index='animal', columns='visits', aggfunc='mean')\n",
        "\n",
        "# Menampilkan hasil tabel pivot\n",
        "print(pivot_table)\n"
      ]
    },
    {
      "cell_type": "markdown",
      "metadata": {
        "id": "vzRVBOpiUtql"
      },
      "source": [
        "## DataFrames: beyond the basics\n",
        "\n",
        "### Slightly trickier: you may need to combine two or more methods to get the right answer\n",
        "\n",
        "Difficulty: *medium*\n",
        "\n",
        "The previous section was tour through some basic but essential DataFrame operations. Below are some ways that you might need to cut your data, but for which there is no single \"out of the box\" method."
      ]
    },
    {
      "cell_type": "markdown",
      "metadata": {
        "id": "xlS2WiLWUtql"
      },
      "source": [
        "**22.** You have a DataFrame `df` with a column 'A' of integers. For example:\n",
        "```python\n",
        "df = pd.DataFrame({'A': [1, 2, 2, 3, 4, 5, 5, 5, 6, 7, 7]})\n",
        "```\n",
        "\n",
        "How do you filter out rows which contain the same integer as the row immediately above?\n",
        "\n",
        "You should be left with a column containing the following values:\n",
        "\n",
        "```python\n",
        "1, 2, 3, 4, 5, 6, 7\n",
        "```"
      ]
    },
    {
      "cell_type": "code",
      "execution_count": 25,
      "metadata": {
        "colab": {
          "base_uri": "https://localhost:8080/"
        },
        "id": "7NF7IfewUtqm",
        "outputId": "d6add7ac-f31d-4a3f-bb0f-228f05cf3fc8"
      },
      "outputs": [
        {
          "output_type": "stream",
          "name": "stdout",
          "text": [
            "   A\n",
            "0  1\n",
            "1  2\n",
            "3  3\n",
            "4  4\n",
            "5  5\n",
            "8  6\n",
            "9  7\n"
          ]
        }
      ],
      "source": [
        "# Membuat DataFrame\n",
        "df = pd.DataFrame({'A': [1, 2, 2, 3, 4, 5, 5, 5, 6, 7, 7]})\n",
        "\n",
        "# Menyaring baris-baris yang memiliki nilai berbeda dari baris sebelumnya\n",
        "filtered_df = df[df['A'] != df['A'].shift()]\n",
        "\n",
        "print(filtered_df)"
      ]
    },
    {
      "cell_type": "markdown",
      "metadata": {
        "id": "fRH3Dzr5Utqm"
      },
      "source": [
        "**23.** Given a DataFrame of numeric values, say\n",
        "```python\n",
        "df = pd.DataFrame(np.random.random(size=(5, 3))) # a 5x3 frame of float values\n",
        "```\n",
        "\n",
        "how do you subtract the row mean from each element in the row?"
      ]
    },
    {
      "cell_type": "code",
      "execution_count": 26,
      "metadata": {
        "collapsed": true,
        "colab": {
          "base_uri": "https://localhost:8080/"
        },
        "id": "izSapDPRUtqm",
        "outputId": "0d216055-31af-4ade-d991-a0913b53597b"
      },
      "outputs": [
        {
          "output_type": "stream",
          "name": "stdout",
          "text": [
            "          0         1         2\n",
            "0 -0.504213  0.420785  0.083427\n",
            "1  0.085143 -0.081036 -0.004107\n",
            "2  0.244243 -0.149094 -0.095148\n",
            "3  0.144377 -0.236247  0.091871\n",
            "4 -0.200390  0.358250 -0.157860\n"
          ]
        }
      ],
      "source": [
        "# Membuat DataFrame dengan nilai acak\n",
        "df = pd.DataFrame(np.random.random(size=(5, 3)))\n",
        "\n",
        "# Mengurangi rata-rata setiap baris dari elemen-elemen pada baris tersebut\n",
        "df_subtracted = df.sub(df.mean(axis=1), axis=0)\n",
        "\n",
        "# Menampilkan hasil\n",
        "print(df_subtracted)"
      ]
    },
    {
      "cell_type": "markdown",
      "metadata": {
        "id": "dyCSEw6SUtqm"
      },
      "source": [
        "**24.** Suppose you have DataFrame with 10 columns of real numbers, for example:\n",
        "\n",
        "```python\n",
        "df = pd.DataFrame(np.random.random(size=(5, 10)), columns=list('abcdefghij'))\n",
        "```\n",
        "Which column of numbers has the smallest sum?  Return that column's label."
      ]
    },
    {
      "cell_type": "code",
      "execution_count": 27,
      "metadata": {
        "collapsed": true,
        "colab": {
          "base_uri": "https://localhost:8080/"
        },
        "id": "ApVfZvLaUtqm",
        "outputId": "08ff5ef7-9cec-46f2-d249-b0e5ddfdb1c1"
      },
      "outputs": [
        {
          "output_type": "stream",
          "name": "stdout",
          "text": [
            "f\n"
          ]
        }
      ],
      "source": [
        "# Membuat DataFrame dengan 10 kolom\n",
        "df = pd.DataFrame(np.random.random(size=(5, 10)), columns=list('abcdefghij'))\n",
        "\n",
        "# Menemukan kolom dengan jumlah terkecil\n",
        "column_with_smallest_sum = df.sum().idxmin()\n",
        "\n",
        "print(column_with_smallest_sum)"
      ]
    },
    {
      "cell_type": "markdown",
      "metadata": {
        "id": "Dw92lN08Utqn"
      },
      "source": [
        "**25.** How do you count how many unique rows a DataFrame has (i.e. ignore all rows that are duplicates)? As input, use a DataFrame of zeros and ones with 10 rows and 3 columns.\n",
        "\n",
        "```python\n",
        "df = pd.DataFrame(np.random.randint(0, 2, size=(10, 3)))\n",
        "```"
      ]
    },
    {
      "cell_type": "code",
      "execution_count": 28,
      "metadata": {
        "collapsed": true,
        "colab": {
          "base_uri": "https://localhost:8080/"
        },
        "id": "ifd15c7nUtqn",
        "outputId": "19f741ff-4e7c-4bbe-a457-c3bb4122cadd"
      },
      "outputs": [
        {
          "output_type": "stream",
          "name": "stdout",
          "text": [
            "6\n"
          ]
        }
      ],
      "source": [
        "# Membuat DataFrame dengan 10 baris dan 3 kolom (nilai 0 dan 1)\n",
        "df = pd.DataFrame(np.random.randint(0, 2, size=(10, 3)))\n",
        "\n",
        "# Menghitung jumlah baris unik\n",
        "unique_rows_count = df.drop_duplicates().shape[0]\n",
        "\n",
        "print(unique_rows_count)"
      ]
    },
    {
      "cell_type": "markdown",
      "metadata": {
        "id": "oNu76ETTUtqn"
      },
      "source": [
        "The next three puzzles are slightly harder.\n",
        "\n",
        "\n",
        "**26.** In the cell below, you have a DataFrame `df` that consists of 10 columns of floating-point numbers. Exactly 5 entries in each row are NaN values.\n",
        "\n",
        "For each row of the DataFrame, find the *column* which contains the *third* NaN value.\n",
        "\n",
        "You should return a Series of column labels: `e, c, d, h, d`"
      ]
    },
    {
      "cell_type": "code",
      "execution_count": 29,
      "metadata": {
        "id": "3oicu4iFUtqn"
      },
      "outputs": [],
      "source": [
        "nan = np.nan\n",
        "\n",
        "data = [[0.04,  nan,  nan, 0.25,  nan, 0.43, 0.71, 0.51,  nan,  nan],\n",
        "        [ nan,  nan,  nan, 0.04, 0.76,  nan,  nan, 0.67, 0.76, 0.16],\n",
        "        [ nan,  nan, 0.5 ,  nan, 0.31, 0.4 ,  nan,  nan, 0.24, 0.01],\n",
        "        [0.49,  nan,  nan, 0.62, 0.73, 0.26, 0.85,  nan,  nan,  nan],\n",
        "        [ nan,  nan, 0.41,  nan, 0.05,  nan, 0.61,  nan, 0.48, 0.68]]\n",
        "\n",
        "columns = list('abcdefghij')\n",
        "\n",
        "df = pd.DataFrame(data, columns=columns)\n",
        "\n",
        "# write a solution to the question here"
      ]
    },
    {
      "cell_type": "markdown",
      "metadata": {
        "id": "gMa0jE4CUtqo"
      },
      "source": [
        "**27.** A DataFrame has a column of groups 'grps' and and column of integer values 'vals':\n",
        "\n",
        "```python\n",
        "df = pd.DataFrame({'grps': list('aaabbcaabcccbbc'),\n",
        "                   'vals': [12,345,3,1,45,14,4,52,54,23,235,21,57,3,87]})\n",
        "```\n",
        "For each *group*, find the sum of the three greatest values. You should end up with the answer as follows:\n",
        "```\n",
        "grps\n",
        "a    409\n",
        "b    156\n",
        "c    345\n",
        "```"
      ]
    },
    {
      "cell_type": "code",
      "execution_count": 30,
      "metadata": {
        "collapsed": true,
        "id": "sx2VTSd8Utqo"
      },
      "outputs": [],
      "source": [
        "df = pd.DataFrame({'grps': list('aaabbcaabcccbbc'),\n",
        "                   'vals': [12,345,3,1,45,14,4,52,54,23,235,21,57,3,87]})\n",
        "\n",
        "# write a solution to the question here"
      ]
    },
    {
      "cell_type": "markdown",
      "metadata": {
        "id": "f2eqqq8FUtqo"
      },
      "source": [
        "**28.** The DataFrame `df` constructed below has two integer columns 'A' and 'B'. The values in 'A' are between 1 and 100 (inclusive).\n",
        "\n",
        "For each group of 10 consecutive integers in 'A' (i.e. `(0, 10]`, `(10, 20]`, ...), calculate the sum of the corresponding values in column 'B'.\n",
        "\n",
        "The answer should be a Series as follows:\n",
        "\n",
        "```\n",
        "A\n",
        "(0, 10]      635\n",
        "(10, 20]     360\n",
        "(20, 30]     315\n",
        "(30, 40]     306\n",
        "(40, 50]     750\n",
        "(50, 60]     284\n",
        "(60, 70]     424\n",
        "(70, 80]     526\n",
        "(80, 90]     835\n",
        "(90, 100]    852\n",
        "```"
      ]
    },
    {
      "cell_type": "code",
      "execution_count": 31,
      "metadata": {
        "collapsed": true,
        "id": "obpfhCrBUtqp"
      },
      "outputs": [],
      "source": [
        "df = pd.DataFrame(np.random.RandomState(8765).randint(1, 101, size=(100, 2)), columns = [\"A\", \"B\"])\n",
        "\n",
        "# write a solution to the question here"
      ]
    },
    {
      "cell_type": "markdown",
      "metadata": {
        "id": "3eljeLozUtqp"
      },
      "source": [
        "## DataFrames: harder problems\n",
        "\n",
        "### These might require a bit of thinking outside the box...\n",
        "\n",
        "...but all are solvable using just the usual pandas/NumPy methods (and so avoid using explicit `for` loops).\n",
        "\n",
        "Difficulty: *hard*"
      ]
    },
    {
      "cell_type": "markdown",
      "metadata": {
        "id": "Ar0Y0IhFUtqp"
      },
      "source": [
        "**29.** Consider a DataFrame `df` where there is an integer column 'X':\n",
        "```python\n",
        "df = pd.DataFrame({'X': [7, 2, 0, 3, 4, 2, 5, 0, 3, 4]})\n",
        "```\n",
        "For each value, count the difference back to the previous zero (or the start of the Series, whichever is closer). These values should therefore be\n",
        "\n",
        "```\n",
        "[1, 2, 0, 1, 2, 3, 4, 0, 1, 2]\n",
        "```\n",
        "\n",
        "Make this a new column 'Y'."
      ]
    },
    {
      "cell_type": "code",
      "execution_count": 32,
      "metadata": {
        "collapsed": true,
        "colab": {
          "base_uri": "https://localhost:8080/"
        },
        "id": "OqWYupIwUtqp",
        "outputId": "20695855-fde7-4b77-f695-53c42fc7f00d"
      },
      "outputs": [
        {
          "output_type": "stream",
          "name": "stdout",
          "text": [
            "   X  diff_to_previous_zero\n",
            "0  7                      1\n",
            "1  2                      2\n",
            "2  0                      0\n",
            "3  3                      1\n",
            "4  4                      2\n",
            "5  2                      3\n",
            "6  5                      4\n",
            "7  0                      0\n",
            "8  3                      1\n",
            "9  4                      2\n"
          ]
        }
      ],
      "source": [
        "# Membuat DataFrame\n",
        "df = pd.DataFrame({'X': [7, 2, 0, 3, 4, 2, 5, 0, 3, 4]})\n",
        "\n",
        "# Fungsi untuk menghitung perbedaan ke nol sebelumnya\n",
        "def count_back_to_zero(series):\n",
        "    count = 0\n",
        "    result = []\n",
        "\n",
        "    for value in series:\n",
        "        if value == 0:\n",
        "            count = 0\n",
        "            result.append(count)\n",
        "        else:\n",
        "            count += 1\n",
        "            result.append(count)\n",
        "\n",
        "    return result\n",
        "\n",
        "# Menambahkan hasil perhitungan sebagai kolom baru\n",
        "df['diff_to_previous_zero'] = count_back_to_zero(df['X'])\n",
        "\n",
        "print(df)"
      ]
    },
    {
      "cell_type": "markdown",
      "metadata": {
        "id": "icyaZk7gUtqq"
      },
      "source": [
        "**30.** Consider the DataFrame constructed below which contains rows and columns of numerical data.\n",
        "\n",
        "Create a list of the column-row index locations of the 3 largest values in this DataFrame. In this case, the answer should be:\n",
        "```\n",
        "[(5, 7), (6, 4), (2, 5)]\n",
        "```"
      ]
    },
    {
      "cell_type": "code",
      "execution_count": 33,
      "metadata": {
        "collapsed": true,
        "id": "YZyRmP2qUtqq"
      },
      "outputs": [],
      "source": [
        "df = pd.DataFrame(np.random.RandomState(30).randint(1, 101, size=(8, 8)))"
      ]
    },
    {
      "cell_type": "markdown",
      "metadata": {
        "id": "VxiiIjJfUtqq"
      },
      "source": [
        "**31.** You are given the DataFrame below with a column of group IDs, 'grps', and a column of corresponding integer values, 'vals'.\n",
        "\n",
        "```python\n",
        "df = pd.DataFrame({\"vals\": np.random.RandomState(31).randint(-30, 30, size=15),\n",
        "                   \"grps\": np.random.RandomState(31).choice([\"A\", \"B\"], 15)})\n",
        "```\n",
        "\n",
        "Create a new column 'patched_values' which contains the same values as the 'vals' any negative values in 'vals' with the group mean:\n",
        "\n",
        "```\n",
        "    vals grps  patched_vals\n",
        "0    -12    A          13.6\n",
        "1     -7    B          28.0\n",
        "2    -14    A          13.6\n",
        "3      4    A           4.0\n",
        "4     -7    A          13.6\n",
        "5     28    B          28.0\n",
        "6     -2    A          13.6\n",
        "7     -1    A          13.6\n",
        "8      8    A           8.0\n",
        "9     -2    B          28.0\n",
        "10    28    A          28.0\n",
        "11    12    A          12.0\n",
        "12    16    A          16.0\n",
        "13   -24    A          13.6\n",
        "14   -12    A          13.6\n",
        "```"
      ]
    },
    {
      "cell_type": "code",
      "execution_count": 34,
      "metadata": {
        "collapsed": true,
        "colab": {
          "base_uri": "https://localhost:8080/"
        },
        "id": "qIyhK9OXUtqr",
        "outputId": "c6cbcdc4-fe11-42eb-8017-9536d0a3b55d"
      },
      "outputs": [
        {
          "output_type": "stream",
          "name": "stdout",
          "text": [
            "    vals grps  patched_values\n",
            "0    -12    A       -0.333333\n",
            "1     -7    B        6.333333\n",
            "2    -14    A       -0.333333\n",
            "3      4    A        4.000000\n",
            "4     -7    A       -0.333333\n",
            "5     28    B       28.000000\n",
            "6     -2    A       -0.333333\n",
            "7     -1    A       -0.333333\n",
            "8      8    A        8.000000\n",
            "9     -2    B        6.333333\n",
            "10    28    A       28.000000\n",
            "11    12    A       12.000000\n",
            "12    16    A       16.000000\n",
            "13   -24    A       -0.333333\n",
            "14   -12    A       -0.333333\n"
          ]
        }
      ],
      "source": [
        "# Membuat DataFrame\n",
        "df = pd.DataFrame({\n",
        "    \"vals\": np.random.RandomState(31).randint(-30, 30, size=15),\n",
        "    \"grps\": np.random.RandomState(31).choice([\"A\", \"B\"], 15)\n",
        "})\n",
        "\n",
        "# Menghitung rata-rata 'vals' untuk setiap grup\n",
        "group_means = df.groupby('grps')['vals'].transform('mean')\n",
        "\n",
        "# Membuat kolom 'patched_values' dengan mengganti nilai negatif di 'vals' dengan rata-rata grup\n",
        "df['patched_values'] = df['vals'].where(df['vals'] >= 0, group_means)\n",
        "\n",
        "# Menampilkan hasil\n",
        "print(df)"
      ]
    },
    {
      "cell_type": "markdown",
      "metadata": {
        "id": "q038JFdQUtqr"
      },
      "source": [
        "**32.** Implement a rolling mean over groups with window size 3, which ignores NaN value. For example consider the following DataFrame:\n",
        "\n",
        "```python\n",
        ">>> df = pd.DataFrame({'group': list('aabbabbbabab'),\n",
        "                       'value': [1, 2, 3, np.nan, 2, 3, np.nan, 1, 7, 3, np.nan, 8]})\n",
        ">>> df\n",
        "   group  value\n",
        "0      a    1.0\n",
        "1      a    2.0\n",
        "2      b    3.0\n",
        "3      b    NaN\n",
        "4      a    2.0\n",
        "5      b    3.0\n",
        "6      b    NaN\n",
        "7      b    1.0\n",
        "8      a    7.0\n",
        "9      b    3.0\n",
        "10     a    NaN\n",
        "11     b    8.0\n",
        "```\n",
        "The goal is to compute the Series:\n",
        "\n",
        "```\n",
        "0     1.000000\n",
        "1     1.500000\n",
        "2     3.000000\n",
        "3     3.000000\n",
        "4     1.666667\n",
        "5     3.000000\n",
        "6     3.000000\n",
        "7     2.000000\n",
        "8     3.666667\n",
        "9     2.000000\n",
        "10    4.500000\n",
        "11    4.000000\n",
        "```\n",
        "E.g. the first window of size three for group 'b' has values 3.0, NaN and 3.0 and occurs at row index 5. Instead of being NaN the value in the new column at this row index should be 3.0 (just the two non-NaN values are used to compute the mean (3+3)/2)"
      ]
    },
    {
      "cell_type": "code",
      "execution_count": 35,
      "metadata": {
        "collapsed": true,
        "colab": {
          "base_uri": "https://localhost:8080/"
        },
        "id": "6xkhOa8ZUtqr",
        "outputId": "df8e4d48-392a-42fa-dc9f-5256ff8319a4"
      },
      "outputs": [
        {
          "output_type": "stream",
          "name": "stdout",
          "text": [
            "   group  value  rolling_mean\n",
            "0      a    1.0      1.000000\n",
            "1      a    2.0      1.500000\n",
            "2      b    3.0      3.000000\n",
            "3      b    NaN      3.000000\n",
            "4      a    2.0      1.666667\n",
            "5      b    3.0      3.000000\n",
            "6      b    NaN      3.000000\n",
            "7      b    1.0      2.000000\n",
            "8      a    7.0      3.666667\n",
            "9      b    3.0      2.000000\n",
            "10     a    NaN      4.500000\n",
            "11     b    8.0      4.000000\n"
          ]
        }
      ],
      "source": [
        "# Membuat DataFrame\n",
        "df = pd.DataFrame({\n",
        "    'group': list('aabbabbbabab'),\n",
        "    'value': [1, 2, 3, np.nan, 2, 3, np.nan, 1, 7, 3, np.nan, 8]\n",
        "})\n",
        "\n",
        "# Menghitung rolling mean per grup, mengabaikan nilai NaN\n",
        "df['rolling_mean'] = df.groupby('group')['value'].rolling(window=3, min_periods=1).mean().reset_index(level=0, drop=True)\n",
        "\n",
        "# Menampilkan hasil\n",
        "print(df)"
      ]
    },
    {
      "cell_type": "markdown",
      "metadata": {
        "id": "kdYESOEZUtqs"
      },
      "source": [
        "## Series and DatetimeIndex\n",
        "\n",
        "### Exercises for creating and manipulating Series with datetime data\n",
        "\n",
        "Difficulty: *easy/medium*\n",
        "\n",
        "pandas is fantastic for working with dates and times. These puzzles explore some of this functionality.\n"
      ]
    },
    {
      "cell_type": "markdown",
      "metadata": {
        "id": "bpDgFt7wUtqs"
      },
      "source": [
        "**33.** Create a DatetimeIndex that contains each business day of 2015 and use it to index a Series of random numbers. Let's call this Series `s`."
      ]
    },
    {
      "cell_type": "code",
      "execution_count": 36,
      "metadata": {
        "collapsed": true,
        "colab": {
          "base_uri": "https://localhost:8080/"
        },
        "id": "ZFhh6oTkUtqs",
        "outputId": "71e96074-78ff-4ea4-dba0-71c8a295a4fc"
      },
      "outputs": [
        {
          "output_type": "stream",
          "name": "stdout",
          "text": [
            "2015-01-01    0.662014\n",
            "2015-01-02    0.357090\n",
            "2015-01-05    0.298323\n",
            "2015-01-06    0.627047\n",
            "2015-01-07    0.037117\n",
            "                ...   \n",
            "2015-12-25    0.314793\n",
            "2015-12-28    0.049752\n",
            "2015-12-29    0.252069\n",
            "2015-12-30    0.538707\n",
            "2015-12-31    0.639112\n",
            "Freq: B, Length: 261, dtype: float64\n"
          ]
        }
      ],
      "source": [
        "# Membuat DatetimeIndex untuk setiap hari kerja di tahun 2015\n",
        "business_days_2015 = pd.date_range('2015-01-01', '2015-12-31', freq='B')\n",
        "\n",
        "# Membuat Series dengan angka acak dan menggunakan business_days_2015 sebagai indeks\n",
        "random_series = pd.Series(np.random.rand(len(business_days_2015)), index=business_days_2015)\n",
        "\n",
        "# Menampilkan hasil\n",
        "print(random_series)"
      ]
    },
    {
      "cell_type": "markdown",
      "metadata": {
        "id": "EnCs5cgEUtqt"
      },
      "source": [
        "**34.** Find the sum of the values in `s` for every Wednesday."
      ]
    },
    {
      "cell_type": "code",
      "execution_count": 37,
      "metadata": {
        "collapsed": true,
        "colab": {
          "base_uri": "https://localhost:8080/"
        },
        "id": "i02jSsxlUtqt",
        "outputId": "65354773-5074-48bd-a8fc-b3c765b76f96"
      },
      "outputs": [
        {
          "output_type": "stream",
          "name": "stdout",
          "text": [
            "25.132800306214648\n"
          ]
        }
      ],
      "source": [
        "# Filter untuk hari Rabu (weekday == 2)\n",
        "wednesday_sum = random_series[random_series.index.weekday == 2].sum()\n",
        "\n",
        "# Menampilkan hasil\n",
        "print(wednesday_sum)"
      ]
    },
    {
      "cell_type": "markdown",
      "metadata": {
        "id": "2ToDeGhNUtqt"
      },
      "source": [
        "**35.** For each calendar month in `s`, find the mean of values."
      ]
    },
    {
      "cell_type": "code",
      "execution_count": 38,
      "metadata": {
        "collapsed": true,
        "colab": {
          "base_uri": "https://localhost:8080/"
        },
        "id": "p2WKZLSNUtqt",
        "outputId": "188f0634-9294-4878-f1d5-7c90d5aa150d"
      },
      "outputs": [
        {
          "output_type": "stream",
          "name": "stdout",
          "text": [
            "2015-01-31    0.453390\n",
            "2015-02-28    0.572235\n",
            "2015-03-31    0.496547\n",
            "2015-04-30    0.489318\n",
            "2015-05-31    0.500192\n",
            "2015-06-30    0.444283\n",
            "2015-07-31    0.386788\n",
            "2015-08-31    0.474986\n",
            "2015-09-30    0.506553\n",
            "2015-10-31    0.557595\n",
            "2015-11-30    0.533439\n",
            "2015-12-31    0.501865\n",
            "Freq: ME, dtype: float64\n"
          ]
        },
        {
          "output_type": "stream",
          "name": "stderr",
          "text": [
            "<ipython-input-38-dcc6a279f831>:2: FutureWarning: 'M' is deprecated and will be removed in a future version, please use 'ME' instead.\n",
            "  monthly_mean = random_series.resample('M').mean()\n"
          ]
        }
      ],
      "source": [
        "# Menghitung rata-rata nilai untuk setiap bulan kalender\n",
        "monthly_mean = random_series.resample('M').mean()\n",
        "\n",
        "# Menampilkan hasil\n",
        "print(monthly_mean)\n"
      ]
    },
    {
      "cell_type": "markdown",
      "metadata": {
        "id": "BN2RgcDQUtqu"
      },
      "source": [
        "**36.** For each group of four consecutive calendar months in `s`, find the date on which the highest value occurred."
      ]
    },
    {
      "cell_type": "code",
      "execution_count": 43,
      "metadata": {
        "collapsed": true,
        "colab": {
          "base_uri": "https://localhost:8080/"
        },
        "id": "6Wd38HcfUtqu",
        "outputId": "54f5eef7-7642-4b70-e8be-b23e01dc8d87"
      },
      "outputs": [
        {
          "output_type": "stream",
          "name": "stdout",
          "text": [
            "2015-04-30   2015-04-30\n",
            "2015-05-31   2015-04-30\n",
            "2015-06-30   2015-04-30\n",
            "2015-07-31   2015-04-30\n",
            "2015-08-31   2015-08-31\n",
            "2015-09-30   2015-08-31\n",
            "2015-10-31   2015-08-31\n",
            "2015-11-30   2015-08-31\n",
            "2015-12-31   2015-12-31\n",
            "Freq: ME, dtype: datetime64[ns]\n"
          ]
        },
        {
          "output_type": "stream",
          "name": "stderr",
          "text": [
            "<ipython-input-43-bd5a3638a498>:6: FutureWarning: 'M' is deprecated and will be removed in a future version, please use 'ME' instead.\n",
            "  monthly_data = random_series.resample('M').mean()\n"
          ]
        }
      ],
      "source": [
        "# Membuat DataFrame dengan random values dan DatetimeIndex\n",
        "business_days_2015 = pd.date_range('2015-01-01', '2015-12-31', freq='B')\n",
        "random_series = pd.Series(np.random.rand(len(business_days_2015)), index=business_days_2015)\n",
        "\n",
        "# Resample data berdasarkan bulan untuk mendapatkan data bulanan\n",
        "monthly_data = random_series.resample('M').mean()\n",
        "\n",
        "# Membagi data menjadi kelompok 4 bulan berturut-turut\n",
        "# Kita bisa menggunakan iterasi manual untuk mengelompokkan 4 bulan berturut-turut\n",
        "dates_of_max_values = []\n",
        "\n",
        "for i in range(len(monthly_data) - 3):  # -3 untuk memastikan kita mendapatkan 4 bulan berturut-turut\n",
        "    window = monthly_data.iloc[i:i+4]\n",
        "    max_date = window.idxmax()  # Menemukan tanggal dengan nilai tertinggi di window\n",
        "    dates_of_max_values.append(max_date)\n",
        "\n",
        "# Membuat hasil sebagai Series dengan index mulai dari bulan pertama\n",
        "result = pd.Series(dates_of_max_values, index=monthly_data.index[3:])\n",
        "\n",
        "# Menampilkan hasil\n",
        "print(result)"
      ]
    },
    {
      "cell_type": "markdown",
      "metadata": {
        "id": "NrgdbtnPUtqu"
      },
      "source": [
        "**37.** Create a DateTimeIndex consisting of the third Thursday in each month for the years 2015 and 2016."
      ]
    },
    {
      "cell_type": "code",
      "execution_count": 49,
      "metadata": {
        "collapsed": true,
        "colab": {
          "base_uri": "https://localhost:8080/"
        },
        "id": "KLQJON_eUtqv",
        "outputId": "4c4e6b16-2e56-4ad5-cfb4-bbfdc0205f9c"
      },
      "outputs": [
        {
          "output_type": "stream",
          "name": "stdout",
          "text": [
            "         date  month  year\n",
            "2  2015-01-29      1  2015\n",
            "9  2015-04-30      4  2015\n",
            "16 2015-07-30      7  2015\n",
            "23 2015-10-29     10  2015\n",
            "28 2015-12-31     12  2015\n",
            "35 2016-03-31      3  2016\n",
            "42 2016-06-30      6  2016\n",
            "49 2016-09-29      9  2016\n",
            "56 2016-12-29     12  2016\n"
          ]
        }
      ],
      "source": [
        "# Membuat DateTimeIndex untuk setiap Kamis di tahun 2015 dan 2016\n",
        "date_range = pd.date_range('2015-01-01', '2016-12-31', freq='W-THU')\n",
        "\n",
        "# Menyaring Kamis yang jatuh pada atau setelah tanggal 15 (minggu ketiga)\n",
        "third_thursdays = date_range[date_range.day >= 15]\n",
        "\n",
        "# Mengonversi menjadi DataFrame untuk mempermudah pengelompokan\n",
        "third_thursdays_df = pd.DataFrame({'date': third_thursdays})\n",
        "\n",
        "# Menambahkan kolom bulan dan tahun\n",
        "third_thursdays_df['month'] = third_thursdays_df['date'].dt.month\n",
        "third_thursdays_df['year'] = third_thursdays_df['date'].dt.year\n",
        "\n",
        "# Mengelompokkan berdasarkan tahun dan bulan, kemudian memilih Kamis ketiga\n",
        "third_thursdays_grouped = third_thursdays_df.groupby(['year', 'month']).nth(2)\n",
        "\n",
        "# Menampilkan hasil\n",
        "print(third_thursdays_grouped)"
      ]
    },
    {
      "cell_type": "markdown",
      "metadata": {
        "id": "IXNOjchxUtqv"
      },
      "source": [
        "## Cleaning Data\n",
        "\n",
        "### Making a DataFrame easier to work with\n",
        "\n",
        "Difficulty: *easy/medium*\n",
        "\n",
        "It happens all the time: someone gives you data containing malformed strings, Python, lists and missing data. How do you tidy it up so you can get on with the analysis?\n",
        "\n",
        "Take this monstrosity as the DataFrame to use in the following puzzles:\n",
        "\n",
        "```python\n",
        "df = pd.DataFrame({'From_To': ['LoNDon_paris', 'MAdrid_miLAN', 'londON_StockhOlm',\n",
        "                               'Budapest_PaRis', 'Brussels_londOn'],\n",
        "              'FlightNumber': [10045, np.nan, 10065, np.nan, 10085],\n",
        "              'RecentDelays': [[23, 47], [], [24, 43, 87], [13], [67, 32]],\n",
        "                   'Airline': ['KLM(!)', '<Air France> (12)', '(British Airways. )',\n",
        "                               '12. Air France', '\"Swiss Air\"']})\n",
        "```\n",
        "Formatted, it looks like this:\n",
        "\n",
        "```\n",
        "            From_To  FlightNumber  RecentDelays              Airline\n",
        "0      LoNDon_paris       10045.0      [23, 47]               KLM(!)\n",
        "1      MAdrid_miLAN           NaN            []    <Air France> (12)\n",
        "2  londON_StockhOlm       10065.0  [24, 43, 87]  (British Airways. )\n",
        "3    Budapest_PaRis           NaN          [13]       12. Air France\n",
        "4   Brussels_londOn       10085.0      [67, 32]          \"Swiss Air\"\n",
        "```\n",
        "\n",
        "\n",
        "(It's some flight data I made up; it's not meant to be accurate in any way.)\n"
      ]
    },
    {
      "cell_type": "markdown",
      "metadata": {
        "id": "1sxaqMaaUtqv"
      },
      "source": [
        "**38.** Some values in the the **FlightNumber** column are missing (they are `NaN`). These numbers are meant to increase by 10 with each row so 10055 and 10075 need to be put in place. Modify `df` to fill in these missing numbers and make the column an integer column (instead of a float column)."
      ]
    },
    {
      "cell_type": "code",
      "execution_count": 50,
      "metadata": {
        "collapsed": true,
        "colab": {
          "base_uri": "https://localhost:8080/"
        },
        "id": "9aeSTbUXUtqv",
        "outputId": "d91837ef-d86f-44c7-bd4f-fbf303264980"
      },
      "outputs": [
        {
          "output_type": "stream",
          "name": "stdout",
          "text": [
            "            From_To  FlightNumber  RecentDelays              Airline\n",
            "0      LoNDon_paris         10045      [23, 47]               KLM(!)\n",
            "1      MAdrid_miLAN         10055            []    <Air France> (12)\n",
            "2  londON_StockhOlm         10075  [24, 43, 87]  (British Airways. )\n",
            "3    Budapest_PaRis         10085          [13]       12. Air France\n",
            "4   Brussels_londOn         10105      [67, 32]          \"Swiss Air\"\n"
          ]
        },
        {
          "output_type": "stream",
          "name": "stderr",
          "text": [
            "<ipython-input-50-1137e4514fab>:12: FutureWarning: Series.fillna with 'method' is deprecated and will raise in a future version. Use obj.ffill() or obj.bfill() instead.\n",
            "  df['FlightNumber'] = df['FlightNumber'].fillna(method='ffill') + (df['FlightNumber'].isna()).cumsum() * 10\n"
          ]
        }
      ],
      "source": [
        "# DataFrame yang diberikan\n",
        "df = pd.DataFrame({\n",
        "    'From_To': ['LoNDon_paris', 'MAdrid_miLAN', 'londON_StockhOlm',\n",
        "                'Budapest_PaRis', 'Brussels_londOn'],\n",
        "    'FlightNumber': [10045, np.nan, 10065, np.nan, 10085],\n",
        "    'RecentDelays': [[23, 47], [], [24, 43, 87], [13], [67, 32]],\n",
        "    'Airline': ['KLM(!)', '<Air France> (12)', '(British Airways. )',\n",
        "                '12. Air France', '\"Swiss Air\"']\n",
        "})\n",
        "\n",
        "# Isi nilai NaN pada kolom FlightNumber dengan bertambah 10 setiap baris\n",
        "df['FlightNumber'] = df['FlightNumber'].fillna(method='ffill') + (df['FlightNumber'].isna()).cumsum() * 10\n",
        "\n",
        "# Pastikan kolom FlightNumber menjadi integer\n",
        "df['FlightNumber'] = df['FlightNumber'].astype(int)\n",
        "\n",
        "# Menampilkan hasil\n",
        "print(df)"
      ]
    },
    {
      "cell_type": "markdown",
      "metadata": {
        "id": "XrN80Y8aUtqw"
      },
      "source": [
        "**39.** The **From\\_To** column would be better as two separate columns! Split each string on the underscore delimiter `_` to give a new temporary DataFrame called 'temp' with the correct values. Assign the correct column names 'From' and 'To' to this temporary DataFrame."
      ]
    },
    {
      "cell_type": "code",
      "execution_count": 51,
      "metadata": {
        "collapsed": true,
        "colab": {
          "base_uri": "https://localhost:8080/"
        },
        "id": "teFncsYUUtqw",
        "outputId": "5b9256da-8494-42bd-9d4d-5b551dae5a38"
      },
      "outputs": [
        {
          "output_type": "stream",
          "name": "stdout",
          "text": [
            "       From         To\n",
            "0    LoNDon      paris\n",
            "1    MAdrid      miLAN\n",
            "2    londON  StockhOlm\n",
            "3  Budapest      PaRis\n",
            "4  Brussels     londOn\n"
          ]
        }
      ],
      "source": [
        "# DataFrame yang diberikan\n",
        "df = pd.DataFrame({\n",
        "    'From_To': ['LoNDon_paris', 'MAdrid_miLAN', 'londON_StockhOlm',\n",
        "                'Budapest_PaRis', 'Brussels_londOn'],\n",
        "    'FlightNumber': [10045, np.nan, 10065, np.nan, 10085],\n",
        "    'RecentDelays': [[23, 47], [], [24, 43, 87], [13], [67, 32]],\n",
        "    'Airline': ['KLM(!)', '<Air France> (12)', '(British Airways. )',\n",
        "                '12. Air France', '\"Swiss Air\"']\n",
        "})\n",
        "\n",
        "# Membagi kolom 'From_To' menjadi dua kolom baru 'From' dan 'To'\n",
        "temp = df['From_To'].str.split('_', expand=True)\n",
        "temp.columns = ['From', 'To']\n",
        "\n",
        "# Menampilkan DataFrame sementara\n",
        "print(temp)"
      ]
    },
    {
      "cell_type": "markdown",
      "metadata": {
        "id": "5FXux_xsUtqw"
      },
      "source": [
        "**40.** Notice how the capitalisation of the city names is all mixed up in this temporary DataFrame 'temp'. Standardise the strings so that only the first letter is uppercase (e.g. \"londON\" should become \"London\".)"
      ]
    },
    {
      "cell_type": "code",
      "execution_count": 52,
      "metadata": {
        "collapsed": true,
        "colab": {
          "base_uri": "https://localhost:8080/"
        },
        "id": "eiCIqLXwUtqw",
        "outputId": "da3d3079-53fe-4a02-e27e-5d67af7e3df2"
      },
      "outputs": [
        {
          "output_type": "stream",
          "name": "stdout",
          "text": [
            "       From         To\n",
            "0    London      Paris\n",
            "1    Madrid      Milan\n",
            "2    London  Stockholm\n",
            "3  Budapest      Paris\n",
            "4  Brussels     London\n"
          ]
        }
      ],
      "source": [
        "# DataFrame yang diberikan\n",
        "df = pd.DataFrame({\n",
        "    'From_To': ['LoNDon_paris', 'MAdrid_miLAN', 'londON_StockhOlm',\n",
        "                'Budapest_PaRis', 'Brussels_londOn'],\n",
        "    'FlightNumber': [10045, np.nan, 10065, np.nan, 10085],\n",
        "    'RecentDelays': [[23, 47], [], [24, 43, 87], [13], [67, 32]],\n",
        "    'Airline': ['KLM(!)', '<Air France> (12)', '(British Airways. )',\n",
        "                '12. Air France', '\"Swiss Air\"']\n",
        "})\n",
        "\n",
        "# Membagi kolom 'From_To' menjadi dua kolom baru 'From' dan 'To'\n",
        "temp = df['From_To'].str.split('_', expand=True)\n",
        "temp.columns = ['From', 'To']\n",
        "\n",
        "# Menstandarkan kapitalisasi nama kota menjadi huruf pertama kapital\n",
        "temp['From'] = temp['From'].str.title()\n",
        "temp['To'] = temp['To'].str.title()\n",
        "\n",
        "# Menampilkan hasil\n",
        "print(temp)"
      ]
    },
    {
      "cell_type": "markdown",
      "metadata": {
        "id": "1MXq83rIUtqx"
      },
      "source": [
        "**41.** Delete the **From_To** column from `df` and attach the temporary DataFrame 'temp' from the previous questions."
      ]
    },
    {
      "cell_type": "code",
      "execution_count": 53,
      "metadata": {
        "collapsed": true,
        "colab": {
          "base_uri": "https://localhost:8080/"
        },
        "id": "4dRvdkA7Utqx",
        "outputId": "47206f1a-8ac3-4f03-dc39-ed9d61081973"
      },
      "outputs": [
        {
          "output_type": "stream",
          "name": "stdout",
          "text": [
            "   FlightNumber  RecentDelays              Airline      From         To\n",
            "0       10045.0      [23, 47]               KLM(!)    London      Paris\n",
            "1           NaN            []    <Air France> (12)    Madrid      Milan\n",
            "2       10065.0  [24, 43, 87]  (British Airways. )    London  Stockholm\n",
            "3           NaN          [13]       12. Air France  Budapest      Paris\n",
            "4       10085.0      [67, 32]          \"Swiss Air\"  Brussels     London\n"
          ]
        }
      ],
      "source": [
        "# DataFrame yang diberikan\n",
        "df = pd.DataFrame({\n",
        "    'From_To': ['LoNDon_paris', 'MAdrid_miLAN', 'londON_StockhOlm',\n",
        "                'Budapest_PaRis', 'Brussels_londOn'],\n",
        "    'FlightNumber': [10045, np.nan, 10065, np.nan, 10085],\n",
        "    'RecentDelays': [[23, 47], [], [24, 43, 87], [13], [67, 32]],\n",
        "    'Airline': ['KLM(!)', '<Air France> (12)', '(British Airways. )',\n",
        "                '12. Air France', '\"Swiss Air\"']\n",
        "})\n",
        "\n",
        "# Membagi kolom 'From_To' menjadi dua kolom baru 'From' dan 'To'\n",
        "temp = df['From_To'].str.split('_', expand=True)\n",
        "temp.columns = ['From', 'To']\n",
        "\n",
        "# Menstandarkan kapitalisasi nama kota menjadi huruf pertama kapital\n",
        "temp['From'] = temp['From'].str.title()\n",
        "temp['To'] = temp['To'].str.title()\n",
        "\n",
        "# Menghapus kolom 'From_To' dari df dan menambahkan DataFrame temp\n",
        "df = df.drop('From_To', axis=1)  # Menghapus kolom 'From_To'\n",
        "df = df.join(temp)  # Menambahkan kolom 'From' dan 'To' dari temp ke df\n",
        "\n",
        "# Menampilkan hasil\n",
        "print(df)"
      ]
    },
    {
      "cell_type": "markdown",
      "metadata": {
        "id": "4YxoNy74Utqx"
      },
      "source": [
        "**42**. In the **Airline** column, you can see some extra puctuation and symbols have appeared around the airline names. Pull out just the airline name. E.g. `'(British Airways. )'` should become `'British Airways'`."
      ]
    },
    {
      "cell_type": "code",
      "execution_count": 54,
      "metadata": {
        "collapsed": true,
        "colab": {
          "base_uri": "https://localhost:8080/"
        },
        "id": "bSiY0HbEUtqx",
        "outputId": "e1418df4-bb27-4584-9cf6-49f7d7b2114f"
      },
      "outputs": [
        {
          "output_type": "stream",
          "name": "stdout",
          "text": [
            "            From_To  FlightNumber  RecentDelays           Airline\n",
            "0      LoNDon_paris       10045.0      [23, 47]               KLM\n",
            "1      MAdrid_miLAN           NaN            []     Air France 12\n",
            "2  londON_StockhOlm       10065.0  [24, 43, 87]  British Airways \n",
            "3    Budapest_PaRis           NaN          [13]     12 Air France\n",
            "4   Brussels_londOn       10085.0      [67, 32]         Swiss Air\n"
          ]
        }
      ],
      "source": [
        "\n",
        "# DataFrame yang diberikan\n",
        "df = pd.DataFrame({\n",
        "    'From_To': ['LoNDon_paris', 'MAdrid_miLAN', 'londON_StockhOlm',\n",
        "                'Budapest_PaRis', 'Brussels_londOn'],\n",
        "    'FlightNumber': [10045, np.nan, 10065, np.nan, 10085],\n",
        "    'RecentDelays': [[23, 47], [], [24, 43, 87], [13], [67, 32]],\n",
        "    'Airline': ['KLM(!)', '<Air France> (12)', '(British Airways. )',\n",
        "                '12. Air France', '\"Swiss Air\"']\n",
        "})\n",
        "\n",
        "# Membersihkan kolom 'Airline' dengan menghapus tanda baca dan simbol yang tidak diinginkan\n",
        "df['Airline'] = df['Airline'].str.replace(r'[^\\w\\s]', '', regex=True)\n",
        "\n",
        "# Menampilkan hasil\n",
        "print(df)"
      ]
    },
    {
      "cell_type": "markdown",
      "metadata": {
        "id": "5DfGgLm2Utqx"
      },
      "source": [
        "**43**. In the RecentDelays column, the values have been entered into the DataFrame as a list. We would like each first value in its own column, each second value in its own column, and so on. If there isn't an Nth value, the value should be NaN.\n",
        "\n",
        "Expand the Series of lists into a DataFrame named `delays`, rename the columns `delay_1`, `delay_2`, etc. and replace the unwanted RecentDelays column in `df` with `delays`."
      ]
    },
    {
      "cell_type": "code",
      "execution_count": 55,
      "metadata": {
        "collapsed": true,
        "colab": {
          "base_uri": "https://localhost:8080/"
        },
        "id": "4X2hTn2xUtqy",
        "outputId": "79362b74-5815-4241-8851-3fad0d6534c5"
      },
      "outputs": [
        {
          "output_type": "stream",
          "name": "stdout",
          "text": [
            "            From_To  FlightNumber              Airline  delay_1  delay_2  \\\n",
            "0      LoNDon_paris       10045.0               KLM(!)     23.0     47.0   \n",
            "1      MAdrid_miLAN           NaN    <Air France> (12)      NaN      NaN   \n",
            "2  londON_StockhOlm       10065.0  (British Airways. )     24.0     43.0   \n",
            "3    Budapest_PaRis           NaN       12. Air France     13.0      NaN   \n",
            "4   Brussels_londOn       10085.0          \"Swiss Air\"     67.0     32.0   \n",
            "\n",
            "   delay_3  \n",
            "0      NaN  \n",
            "1      NaN  \n",
            "2     87.0  \n",
            "3      NaN  \n",
            "4      NaN  \n"
          ]
        }
      ],
      "source": [
        "# DataFrame yang diberikan\n",
        "df = pd.DataFrame({\n",
        "    'From_To': ['LoNDon_paris', 'MAdrid_miLAN', 'londON_StockhOlm',\n",
        "                'Budapest_PaRis', 'Brussels_londOn'],\n",
        "    'FlightNumber': [10045, np.nan, 10065, np.nan, 10085],\n",
        "    'RecentDelays': [[23, 47], [], [24, 43, 87], [13], [67, 32]],\n",
        "    'Airline': ['KLM(!)', '<Air France> (12)', '(British Airways. )',\n",
        "                '12. Air France', '\"Swiss Air\"']\n",
        "})\n",
        "\n",
        "# Mengubah kolom 'RecentDelays' yang berisi list menjadi DataFrame\n",
        "delays = pd.DataFrame(df['RecentDelays'].to_list())\n",
        "\n",
        "# Menamai kolom-kolom baru\n",
        "delays.columns = [f'delay_{i+1}' for i in range(delays.shape[1])]\n",
        "\n",
        "# Menambahkan kolom delays ke dalam df, menggantikan kolom 'RecentDelays'\n",
        "df = df.drop('RecentDelays', axis=1)  # Menghapus kolom 'RecentDelays'\n",
        "df = pd.concat([df, delays], axis=1)  # Menambahkan kolom delays ke df\n",
        "\n",
        "# Menampilkan hasil\n",
        "print(df)"
      ]
    },
    {
      "cell_type": "markdown",
      "metadata": {
        "id": "5Nzi_bJgUtqy"
      },
      "source": [
        "The DataFrame should look much better now.\n",
        "```\n",
        "   FlightNumber          Airline      From         To  delay_1  delay_2  delay_3\n",
        "0         10045              KLM    London      Paris     23.0     47.0      NaN\n",
        "1         10055       Air France    Madrid      Milan      NaN      NaN      NaN\n",
        "2         10065  British Airways    London  Stockholm     24.0     43.0     87.0\n",
        "3         10075       Air France  Budapest      Paris     13.0      NaN      NaN\n",
        "4         10085        Swiss Air  Brussels     London     67.0     32.0      NaN\n",
        "```"
      ]
    },
    {
      "cell_type": "markdown",
      "metadata": {
        "collapsed": true,
        "id": "7XvNpBvxUtqy"
      },
      "source": [
        "## Using MultiIndexes\n",
        "\n",
        "### Go beyond flat DataFrames with additional index levels\n",
        "\n",
        "Difficulty: *medium*\n",
        "\n",
        "Previous exercises have seen us analysing data from DataFrames equipped with a single index level. However, pandas also gives you the possibilty of indexing your data using *multiple* levels. This is very much like adding new dimensions to a Series or a DataFrame. For example, a Series is 1D, but by using a MultiIndex with 2 levels we gain of much the same functionality as a 2D DataFrame.\n",
        "\n",
        "The set of puzzles below explores how you might use multiple index levels to enhance data analysis.\n",
        "\n",
        "To warm up, we'll look make a Series with two index levels."
      ]
    },
    {
      "cell_type": "markdown",
      "metadata": {
        "id": "qG4xqemJUtqy"
      },
      "source": [
        "**44**. Given the lists `letters = ['A', 'B', 'C']` and `numbers = list(range(10))`, construct a MultiIndex object from the product of the two lists. Use it to index a Series of random numbers. Call this Series `s`."
      ]
    },
    {
      "cell_type": "code",
      "execution_count": 56,
      "metadata": {
        "collapsed": true,
        "colab": {
          "base_uri": "https://localhost:8080/"
        },
        "id": "tV1rK2JoUtqz",
        "outputId": "f99632c1-3027-47d8-d799-288a33d1855c"
      },
      "outputs": [
        {
          "output_type": "stream",
          "name": "stdout",
          "text": [
            "Letter  Number\n",
            "A       0         0.550160\n",
            "        1         0.005610\n",
            "        2         0.645463\n",
            "        3         0.807657\n",
            "        4         0.975099\n",
            "        5         0.339230\n",
            "        6         0.376741\n",
            "        7         0.870865\n",
            "        8         0.836609\n",
            "        9         0.766671\n",
            "B       0         0.279638\n",
            "        1         0.539435\n",
            "        2         0.713414\n",
            "        3         0.844375\n",
            "        4         0.546299\n",
            "        5         0.871079\n",
            "        6         0.331111\n",
            "        7         0.443131\n",
            "        8         0.970848\n",
            "        9         0.100307\n",
            "C       0         0.324816\n",
            "        1         0.662733\n",
            "        2         0.449827\n",
            "        3         0.533439\n",
            "        4         0.206199\n",
            "        5         0.606954\n",
            "        6         0.822385\n",
            "        7         0.224301\n",
            "        8         0.135606\n",
            "        9         0.230633\n",
            "dtype: float64\n"
          ]
        }
      ],
      "source": [
        "# Daftar yang diberikan\n",
        "letters = ['A', 'B', 'C']\n",
        "numbers = list(range(10))\n",
        "\n",
        "# Membuat produk dari kedua daftar\n",
        "multi_index = pd.MultiIndex.from_product([letters, numbers], names=['Letter', 'Number'])\n",
        "\n",
        "# Membuat Series dengan random numbers yang diindeks oleh MultiIndex\n",
        "s = pd.Series(np.random.random(len(multi_index)), index=multi_index)\n",
        "\n",
        "# Menampilkan hasil\n",
        "print(s)"
      ]
    },
    {
      "cell_type": "markdown",
      "metadata": {
        "id": "bCCNT5xYUtqz"
      },
      "source": [
        "**45.** Check the index of `s` is lexicographically sorted (this is a necessary proprty for indexing to work correctly with a MultiIndex)."
      ]
    },
    {
      "cell_type": "code",
      "execution_count": 59,
      "metadata": {
        "collapsed": true,
        "colab": {
          "base_uri": "https://localhost:8080/"
        },
        "id": "i6coBfbYUtqz",
        "outputId": "4bd3f60f-2dd6-4b7d-b710-5bfeb85958d2"
      },
      "outputs": [
        {
          "output_type": "stream",
          "name": "stdout",
          "text": [
            "Is the index lexicographically sorted? True\n",
            "Is the index lexicographically sorted now? True\n"
          ]
        }
      ],
      "source": [
        "# Daftar yang diberikan\n",
        "letters = ['A', 'B', 'C']\n",
        "numbers = list(range(10))\n",
        "\n",
        "# Membuat produk dari kedua daftar\n",
        "multi_index = pd.MultiIndex.from_product([letters, numbers], names=['Letter', 'Number'])\n",
        "\n",
        "# Membuat Series dengan random numbers yang diindeks oleh MultiIndex\n",
        "s = pd.Series(np.random.random(len(multi_index)), index=multi_index)\n",
        "\n",
        "# Memeriksa apakah indeks MultiIndex sudah terurut secara lexicographically\n",
        "is_sorted = s.index.equals(s.index.sort_values())\n",
        "\n",
        "# Menampilkan hasil awal\n",
        "print(f\"Is the index lexicographically sorted? {is_sorted}\")\n",
        "\n",
        "# Jika indeks belum terurut, urutkan indeks\n",
        "if not is_sorted:\n",
        "    s = s.sort_index()\n",
        "\n",
        "    # Memeriksa kembali apakah sudah terurut\n",
        "    is_sorted = s.index.equals(s.index.sort_values())\n",
        "    print(\"Index was not sorted, now it has been sorted.\")\n",
        "\n",
        "# Menampilkan hasil akhir\n",
        "print(f\"Is the index lexicographically sorted now? {is_sorted}\")"
      ]
    },
    {
      "cell_type": "markdown",
      "metadata": {
        "id": "Zw7ymjfDUtqz"
      },
      "source": [
        "**46**. Select the labels `1`, `3` and `6` from the second level of the MultiIndexed Series."
      ]
    },
    {
      "cell_type": "code",
      "execution_count": 62,
      "metadata": {
        "collapsed": true,
        "colab": {
          "base_uri": "https://localhost:8080/"
        },
        "id": "LEPZOQHFUtqz",
        "outputId": "2f0a8839-17fc-44ce-abdc-20d614b46ea3"
      },
      "outputs": [
        {
          "output_type": "stream",
          "name": "stdout",
          "text": [
            "Letter  Number\n",
            "A       1         0.843897\n",
            "        3         0.238692\n",
            "        6         0.391325\n",
            "B       1         0.755451\n",
            "        3         0.155452\n",
            "        6         0.219529\n",
            "C       1         0.995309\n",
            "        3         0.108963\n",
            "        6         0.181976\n",
            "dtype: float64\n"
          ]
        }
      ],
      "source": [
        "# Membuat MultiIndex dari produk dua daftar\n",
        "letters = ['A', 'B', 'C']\n",
        "numbers = list(range(10))\n",
        "\n",
        "# Membuat MultiIndex\n",
        "index = pd.MultiIndex.from_product([letters, numbers], names=['Letter', 'Number'])\n",
        "\n",
        "# Membuat Series dengan indeks MultiIndex\n",
        "s = pd.Series(np.random.random(len(index)), index=index)\n",
        "\n",
        "# Memilih label 1, 3, dan 6 dari level kedua ('Number') pada MultiIndex\n",
        "selected_values = s[s.index.get_level_values('Number').isin([1, 3, 6])]\n",
        "\n",
        "# Menampilkan hasil\n",
        "print(selected_values)"
      ]
    },
    {
      "cell_type": "markdown",
      "metadata": {
        "id": "sSo3svFVUtq0"
      },
      "source": [
        "**47**. Slice the Series `s`; slice up to label 'B' for the first level and from label 5 onwards for the second level."
      ]
    },
    {
      "cell_type": "code",
      "execution_count": 63,
      "metadata": {
        "collapsed": true,
        "colab": {
          "base_uri": "https://localhost:8080/"
        },
        "id": "VC2vzQYvUtq0",
        "outputId": "a4fb5e63-8d7e-4327-9551-b43caa65cdd6"
      },
      "outputs": [
        {
          "output_type": "stream",
          "name": "stdout",
          "text": [
            "Letter  Number\n",
            "A       5         0.474020\n",
            "        6         0.120036\n",
            "        7         0.620624\n",
            "        8         0.179098\n",
            "        9         0.306416\n",
            "B       5         0.639302\n",
            "        6         0.626882\n",
            "        7         0.393023\n",
            "        8         0.608216\n",
            "        9         0.637006\n",
            "dtype: float64\n"
          ]
        }
      ],
      "source": [
        "# Membuat MultiIndex dari produk dua daftar\n",
        "letters = ['A', 'B', 'C']\n",
        "numbers = list(range(10))\n",
        "\n",
        "# Membuat MultiIndex\n",
        "index = pd.MultiIndex.from_product([letters, numbers], names=['Letter', 'Number'])\n",
        "\n",
        "# Membuat Series dengan indeks MultiIndex\n",
        "s = pd.Series(np.random.random(len(index)), index=index)\n",
        "\n",
        "# Melakukan slicing hingga label 'B' pada level pertama dan mulai dari label 5 pada level kedua\n",
        "sliced_values = s.loc[slice(None, 'B'), slice(5, None)]\n",
        "\n",
        "# Menampilkan hasil\n",
        "print(sliced_values)"
      ]
    },
    {
      "cell_type": "markdown",
      "metadata": {
        "id": "J9pItzNxUtq0"
      },
      "source": [
        "**48**. Sum the values in `s` for each label in the first level (you should have Series giving you a total for labels A, B and C)."
      ]
    },
    {
      "cell_type": "code",
      "execution_count": 64,
      "metadata": {
        "collapsed": true,
        "colab": {
          "base_uri": "https://localhost:8080/"
        },
        "id": "kD2uLI7YUtq0",
        "outputId": "404ae67f-17ed-40b4-9656-81aba4504a70"
      },
      "outputs": [
        {
          "output_type": "stream",
          "name": "stdout",
          "text": [
            "Letter\n",
            "A    4.646974\n",
            "B    6.782453\n",
            "C    6.374592\n",
            "dtype: float64\n"
          ]
        }
      ],
      "source": [
        "# Membuat MultiIndex dari produk dua daftar\n",
        "letters = ['A', 'B', 'C']\n",
        "numbers = list(range(10))\n",
        "\n",
        "# Membuat MultiIndex\n",
        "index = pd.MultiIndex.from_product([letters, numbers], names=['Letter', 'Number'])\n",
        "\n",
        "# Membuat Series dengan indeks MultiIndex\n",
        "s = pd.Series(np.random.random(len(index)), index=index)\n",
        "\n",
        "# Menghitung jumlah nilai untuk setiap label di level pertama (Letter)\n",
        "sum_per_letter = s.groupby('Letter').sum()\n",
        "\n",
        "# Menampilkan hasil\n",
        "print(sum_per_letter)"
      ]
    },
    {
      "cell_type": "markdown",
      "metadata": {
        "id": "s4K-qylZUtq0"
      },
      "source": [
        "**49**. Suppose that `sum()` (and other methods) did not accept a `level` keyword argument. How else could you perform the equivalent of `s.sum(level=1)`?"
      ]
    },
    {
      "cell_type": "code",
      "execution_count": 65,
      "metadata": {
        "collapsed": true,
        "colab": {
          "base_uri": "https://localhost:8080/"
        },
        "id": "KEbETd2QUtq1",
        "outputId": "2ef3c0c3-5f68-4b50-ca49-04499b5edd05"
      },
      "outputs": [
        {
          "output_type": "stream",
          "name": "stdout",
          "text": [
            "Number\n",
            "0    1.520963\n",
            "1    1.524109\n",
            "2    1.255030\n",
            "3    2.103216\n",
            "4    1.308158\n",
            "5    1.043059\n",
            "6    1.264655\n",
            "7    0.996805\n",
            "8    1.566018\n",
            "9    0.853188\n",
            "dtype: float64\n"
          ]
        }
      ],
      "source": [
        "# Membuat MultiIndex dari produk dua daftar\n",
        "letters = ['A', 'B', 'C']\n",
        "numbers = list(range(10))\n",
        "\n",
        "# Membuat MultiIndex\n",
        "index = pd.MultiIndex.from_product([letters, numbers], names=['Letter', 'Number'])\n",
        "\n",
        "# Membuat Series dengan indeks MultiIndex\n",
        "s = pd.Series(np.random.random(len(index)), index=index)\n",
        "\n",
        "# Mengelompokkan berdasarkan level 1 (Number) dan menjumlahkan\n",
        "sum_level_1 = s.groupby(level=1).sum()\n",
        "\n",
        "# Menampilkan hasil\n",
        "print(sum_level_1)"
      ]
    },
    {
      "cell_type": "markdown",
      "metadata": {
        "id": "tndlRjlcUtq1"
      },
      "source": [
        "**50**. Exchange the levels of the MultiIndex so we have an index of the form (letters, numbers). Is this new Series properly lexsorted? If not, sort it."
      ]
    },
    {
      "cell_type": "code",
      "execution_count": 66,
      "metadata": {
        "colab": {
          "base_uri": "https://localhost:8080/"
        },
        "id": "APiqWeIOUtq1",
        "outputId": "a14cdf90-8b00-4e84-92ce-e893b0437362"
      },
      "outputs": [
        {
          "output_type": "stream",
          "name": "stdout",
          "text": [
            "Number  Letter\n",
            "0       A         0.430191\n",
            "        B         0.837602\n",
            "        C         0.202176\n",
            "1       A         0.774055\n",
            "        B         0.396020\n",
            "        C         0.423700\n",
            "2       A         0.797541\n",
            "        B         0.181912\n",
            "        C         0.812517\n",
            "3       A         0.093609\n",
            "        B         0.898474\n",
            "        C         0.685541\n",
            "4       A         0.851429\n",
            "        B         0.845670\n",
            "        C         0.780091\n",
            "5       A         0.289502\n",
            "        B         0.104289\n",
            "        C         0.069734\n",
            "6       A         0.811261\n",
            "        B         0.181575\n",
            "        C         0.619425\n",
            "7       A         0.864165\n",
            "        B         0.444392\n",
            "        C         0.959597\n",
            "8       A         0.307880\n",
            "        B         0.870027\n",
            "        C         0.928734\n",
            "9       A         0.845433\n",
            "        B         0.567171\n",
            "        C         0.243937\n",
            "dtype: float64\n"
          ]
        }
      ],
      "source": [
        "# Membuat MultiIndex dari produk dua daftar\n",
        "letters = ['A', 'B', 'C']\n",
        "numbers = list(range(10))\n",
        "\n",
        "# Membuat MultiIndex\n",
        "index = pd.MultiIndex.from_product([letters, numbers], names=['Letter', 'Number'])\n",
        "\n",
        "# Membuat Series dengan indeks MultiIndex\n",
        "s = pd.Series(np.random.random(len(index)), index=index)\n",
        "\n",
        "# Menukar level pada MultiIndex\n",
        "s_swapped = s.swaplevel()\n",
        "\n",
        "# Memeriksa apakah indeks sudah terurut secara lexicographically\n",
        "if not s_swapped.index.is_monotonic_increasing:\n",
        "    # Jika tidak terurut, urutkan berdasarkan indeks\n",
        "    s_swapped = s_swapped.sort_index()\n",
        "\n",
        "# Menampilkan hasil\n",
        "print(s_swapped)"
      ]
    },
    {
      "cell_type": "markdown",
      "metadata": {
        "id": "UMaK5XUYUtq1"
      },
      "source": [
        "## Minesweeper\n",
        "\n",
        "### Generate the numbers for safe squares in a Minesweeper grid\n",
        "\n",
        "Difficulty: *medium* to *hard*\n",
        "\n",
        "If you've ever used an older version of Windows, there's a good chance you've played with Minesweeper:\n",
        "- https://en.wikipedia.org/wiki/Minesweeper_(video_game)\n",
        "\n",
        "\n",
        "If you're not familiar with the game, imagine a grid of squares: some of these squares conceal a mine. If you click on a mine, you lose instantly. If you click on a safe square, you reveal a number telling you how many mines are found in the squares that are immediately adjacent. The aim of the game is to uncover all squares in the grid that do not contain a mine.\n",
        "\n",
        "In this section, we'll make a DataFrame that contains the necessary data for a game of Minesweeper: coordinates of the squares, whether the square contains a mine and the number of mines found on adjacent squares."
      ]
    },
    {
      "cell_type": "markdown",
      "metadata": {
        "id": "cjzwPzsqUtq1"
      },
      "source": [
        "**51**. Let's suppose we're playing Minesweeper on a 5 by 4 grid, i.e.\n",
        "```\n",
        "X = 5\n",
        "Y = 4\n",
        "```\n",
        "To begin, generate a DataFrame `df` with two columns, `'x'` and `'y'` containing every coordinate for this grid. That is, the DataFrame should start:\n",
        "```\n",
        "   x  y\n",
        "0  0  0\n",
        "1  0  1\n",
        "2  0  2\n",
        "```"
      ]
    },
    {
      "cell_type": "code",
      "execution_count": 67,
      "metadata": {
        "collapsed": true,
        "colab": {
          "base_uri": "https://localhost:8080/"
        },
        "id": "W5e1ICOjUtq2",
        "outputId": "ba39d09c-8be4-4559-d046-c23e8daf2b5a"
      },
      "outputs": [
        {
          "output_type": "stream",
          "name": "stdout",
          "text": [
            "    x  y\n",
            "0   0  0\n",
            "1   1  0\n",
            "2   2  0\n",
            "3   3  0\n",
            "4   4  0\n",
            "5   0  1\n",
            "6   1  1\n",
            "7   2  1\n",
            "8   3  1\n",
            "9   4  1\n",
            "10  0  2\n",
            "11  1  2\n",
            "12  2  2\n",
            "13  3  2\n",
            "14  4  2\n",
            "15  0  3\n",
            "16  1  3\n",
            "17  2  3\n",
            "18  3  3\n",
            "19  4  3\n"
          ]
        }
      ],
      "source": [
        "# Menentukan dimensi grid\n",
        "X = 5\n",
        "Y = 4\n",
        "\n",
        "# Membuat grid koordinat menggunakan np.meshgrid\n",
        "x_coords, y_coords = np.meshgrid(range(X), range(Y))\n",
        "\n",
        "# Meratakan array dan membuat DataFrame\n",
        "df = pd.DataFrame({\n",
        "    'x': x_coords.flatten(),\n",
        "    'y': y_coords.flatten()\n",
        "})\n",
        "\n",
        "# Menampilkan DataFrame\n",
        "print(df)"
      ]
    },
    {
      "cell_type": "markdown",
      "metadata": {
        "id": "SAuPPR3aUtq2"
      },
      "source": [
        "**52**. For this DataFrame `df`, create a new column of zeros (safe) and ones (mine). The probability of a mine occuring at each location should be 0.4."
      ]
    },
    {
      "cell_type": "code",
      "execution_count": 68,
      "metadata": {
        "collapsed": true,
        "colab": {
          "base_uri": "https://localhost:8080/"
        },
        "id": "ddJON0dPUtq2",
        "outputId": "d8f2094f-cdd5-42e7-c6ae-f290ea9e693a"
      },
      "outputs": [
        {
          "output_type": "stream",
          "name": "stdout",
          "text": [
            "    x  y  mine\n",
            "0   0  0     0\n",
            "1   1  0     0\n",
            "2   2  0     0\n",
            "3   3  0     0\n",
            "4   4  0     0\n",
            "5   0  1     1\n",
            "6   1  1     0\n",
            "7   2  1     0\n",
            "8   3  1     1\n",
            "9   4  1     0\n",
            "10  0  2     1\n",
            "11  1  2     1\n",
            "12  2  2     0\n",
            "13  3  2     1\n",
            "14  4  2     1\n",
            "15  0  3     0\n",
            "16  1  3     0\n",
            "17  2  3     0\n",
            "18  3  3     0\n",
            "19  4  3     0\n"
          ]
        }
      ],
      "source": [
        "# Menentukan dimensi grid\n",
        "X = 5\n",
        "Y = 4\n",
        "\n",
        "# Membuat grid koordinat menggunakan np.meshgrid\n",
        "x_coords, y_coords = np.meshgrid(range(X), range(Y))\n",
        "\n",
        "# Meratakan array dan membuat DataFrame\n",
        "df = pd.DataFrame({\n",
        "    'x': x_coords.flatten(),\n",
        "    'y': y_coords.flatten()\n",
        "})\n",
        "\n",
        "# Menambahkan kolom baru 'mine' dengan probabilitas ranjau (mine) sebesar 0.4\n",
        "df['mine'] = np.random.choice([0, 1], size=df.shape[0], p=[0.6, 0.4])\n",
        "\n",
        "# Menampilkan DataFrame\n",
        "print(df)"
      ]
    },
    {
      "cell_type": "markdown",
      "metadata": {
        "id": "gkaAZwzNUtq2"
      },
      "source": [
        "**53**. Now create a new column for this DataFrame called `'adjacent'`. This column should contain the number of mines found on adjacent squares in the grid.\n",
        "\n",
        "(E.g. for the first row, which is the entry for the coordinate `(0, 0)`, count how many mines are found on the coordinates `(0, 1)`, `(1, 0)` and `(1, 1)`.)"
      ]
    },
    {
      "cell_type": "code",
      "execution_count": 69,
      "metadata": {
        "collapsed": true,
        "colab": {
          "base_uri": "https://localhost:8080/"
        },
        "id": "fnKfNLqIUtq2",
        "outputId": "2b332931-23cd-4619-eeb9-669b82b94470"
      },
      "outputs": [
        {
          "output_type": "stream",
          "name": "stdout",
          "text": [
            "    x  y  mine  adjacent\n",
            "0   0  0     1         1\n",
            "1   1  0     0         3\n",
            "2   2  0     1         2\n",
            "3   3  0     1         2\n",
            "4   4  0     1         1\n",
            "5   0  1     0         3\n",
            "6   1  1     1         4\n",
            "7   2  1     0         5\n",
            "8   3  1     0         4\n",
            "9   4  1     0         2\n",
            "10  0  2     0         3\n",
            "11  1  2     1         3\n",
            "12  2  2     1         3\n",
            "13  3  2     0         1\n",
            "14  4  2     0         0\n",
            "15  0  3     0         2\n",
            "16  1  3     1         2\n",
            "17  2  3     0         3\n",
            "18  3  3     0         1\n",
            "19  4  3     0         0\n"
          ]
        }
      ],
      "source": [
        "# Menentukan dimensi grid\n",
        "X = 5\n",
        "Y = 4\n",
        "\n",
        "# Membuat grid koordinat menggunakan np.meshgrid\n",
        "x_coords, y_coords = np.meshgrid(range(X), range(Y))\n",
        "\n",
        "# Meratakan array dan membuat DataFrame\n",
        "df = pd.DataFrame({\n",
        "    'x': x_coords.flatten(),\n",
        "    'y': y_coords.flatten()\n",
        "})\n",
        "\n",
        "# Menambahkan kolom baru 'mine' dengan probabilitas ranjau (mine) sebesar 0.4\n",
        "df['mine'] = np.random.choice([0, 1], size=df.shape[0], p=[0.6, 0.4])\n",
        "\n",
        "# Fungsi untuk menghitung jumlah ranjau di petak-petak tetangga\n",
        "def count_adjacent_mines(x, y, mine_column, X, Y):\n",
        "    # Menentukan koordinat petak-petak tetangga yang valid\n",
        "    adjacent_coords = [\n",
        "        (x-1, y-1), (x-1, y), (x-1, y+1),\n",
        "        (x, y-1), (x, y+1),\n",
        "        (x+1, y-1), (x+1, y), (x+1, y+1)\n",
        "    ]\n",
        "\n",
        "    # Menghitung jumlah ranjau (mine) di petak-petak yang valid\n",
        "    mine_count = 0\n",
        "    for nx, ny in adjacent_coords:\n",
        "        # Memastikan koordinat tetangga tetap berada di dalam grid\n",
        "        if 0 <= nx < X and 0 <= ny < Y:\n",
        "            mine_count += mine_column[(mine_column['x'] == nx) & (mine_column['y'] == ny)]['mine'].values[0]\n",
        "\n",
        "    return mine_count\n",
        "\n",
        "# Menambahkan kolom 'adjacent' dengan menghitung jumlah ranjau pada petak-petak tetangga\n",
        "df['adjacent'] = df.apply(lambda row: count_adjacent_mines(row['x'], row['y'], df, X, Y), axis=1)\n",
        "\n",
        "# Menampilkan DataFrame\n",
        "print(df)"
      ]
    },
    {
      "cell_type": "markdown",
      "metadata": {
        "id": "X10TkQYKUtq3"
      },
      "source": [
        "**54**. For rows of the DataFrame that contain a mine, set the value in the `'adjacent'` column to NaN."
      ]
    },
    {
      "cell_type": "code",
      "execution_count": 70,
      "metadata": {
        "collapsed": true,
        "colab": {
          "base_uri": "https://localhost:8080/"
        },
        "id": "ZJNFoyCAUtq3",
        "outputId": "fe13f00d-45e1-4b46-c181-3385d4f7873e"
      },
      "outputs": [
        {
          "output_type": "stream",
          "name": "stdout",
          "text": [
            "    x  y  mine  adjacent\n",
            "0   0  0     0       0.0\n",
            "1   1  0     0       1.0\n",
            "2   2  0     0       3.0\n",
            "3   3  0     1       NaN\n",
            "4   4  0     0       2.0\n",
            "5   0  1     0       0.0\n",
            "6   1  1     0       2.0\n",
            "7   2  1     1       NaN\n",
            "8   3  1     1       NaN\n",
            "9   4  1     0       2.0\n",
            "10  0  2     0       1.0\n",
            "11  1  2     0       3.0\n",
            "12  2  2     1       NaN\n",
            "13  3  2     0       4.0\n",
            "14  4  2     0       2.0\n",
            "15  0  3     0       1.0\n",
            "16  1  3     1       NaN\n",
            "17  2  3     0       2.0\n",
            "18  3  3     0       2.0\n",
            "19  4  3     1       NaN\n"
          ]
        }
      ],
      "source": [
        "# Menentukan dimensi grid\n",
        "X = 5\n",
        "Y = 4\n",
        "\n",
        "# Membuat grid koordinat menggunakan np.meshgrid\n",
        "x_coords, y_coords = np.meshgrid(range(X), range(Y))\n",
        "\n",
        "# Meratakan array dan membuat DataFrame\n",
        "df = pd.DataFrame({\n",
        "    'x': x_coords.flatten(),\n",
        "    'y': y_coords.flatten()\n",
        "})\n",
        "\n",
        "# Menambahkan kolom baru 'mine' dengan probabilitas ranjau (mine) sebesar 0.4\n",
        "df['mine'] = np.random.choice([0, 1], size=df.shape[0], p=[0.6, 0.4])\n",
        "\n",
        "# Fungsi untuk menghitung jumlah ranjau di petak-petak tetangga\n",
        "def count_adjacent_mines(x, y, mine_column, X, Y):\n",
        "    # Menentukan koordinat petak-petak tetangga yang valid\n",
        "    adjacent_coords = [\n",
        "        (x-1, y-1), (x-1, y), (x-1, y+1),\n",
        "        (x, y-1), (x, y+1),\n",
        "        (x+1, y-1), (x+1, y), (x+1, y+1)\n",
        "    ]\n",
        "\n",
        "    # Menyaring koordinat yang berada dalam batas grid\n",
        "    valid_coords = [\n",
        "        (i, j) for i, j in adjacent_coords if 0 <= i < X and 0 <= j < Y\n",
        "    ]\n",
        "\n",
        "    # Menghitung jumlah ranjau di petak-petak tetangga\n",
        "    mine_count = 0\n",
        "    for i, j in valid_coords:\n",
        "        index = (df['x'] == i) & (df['y'] == j)\n",
        "        if mine_column[index].iloc[0] == 1:  # Cek apakah ada ranjau\n",
        "            mine_count += 1\n",
        "\n",
        "    return mine_count\n",
        "\n",
        "# Menghitung jumlah ranjau tetangga untuk setiap baris (selain yang mengandung ranjau)\n",
        "df['adjacent'] = df.apply(lambda row: count_adjacent_mines(row['x'], row['y'], df['mine'], X, Y)\n",
        "                          if row['mine'] == 0 else np.nan, axis=1)\n",
        "\n",
        "# Menampilkan DataFrame dengan kolom 'adjacent' yang sudah diperbarui\n",
        "print(df)"
      ]
    },
    {
      "cell_type": "markdown",
      "metadata": {
        "id": "LtAskqIFUtq3"
      },
      "source": [
        "**55**. Finally, convert the DataFrame to grid of the adjacent mine counts: columns are the `x` coordinate, rows are the `y` coordinate."
      ]
    },
    {
      "cell_type": "code",
      "execution_count": 72,
      "metadata": {
        "collapsed": true,
        "colab": {
          "base_uri": "https://localhost:8080/"
        },
        "id": "s6jUHlV8Utq3",
        "outputId": "46726130-b2f2-432e-c0de-b16c3f316360"
      },
      "outputs": [
        {
          "output_type": "stream",
          "name": "stdout",
          "text": [
            "x    0    1    2    3    4\n",
            "y                         \n",
            "0  NaN  NaN  3.0  2.0  2.0\n",
            "1  4.0  NaN  6.0  NaN  NaN\n",
            "2  2.0  NaN  NaN  NaN  NaN\n",
            "3  1.0  3.0  NaN  NaN  NaN\n"
          ]
        }
      ],
      "source": [
        "# Menentukan dimensi grid\n",
        "X = 5\n",
        "Y = 4\n",
        "\n",
        "# Membuat grid koordinat menggunakan np.meshgrid\n",
        "x_coords, y_coords = np.meshgrid(range(X), range(Y))\n",
        "\n",
        "# Meratakan array dan membuat DataFrame\n",
        "df = pd.DataFrame({\n",
        "    'x': x_coords.flatten(),\n",
        "    'y': y_coords.flatten()\n",
        "})\n",
        "\n",
        "# Menambahkan kolom baru 'mine' dengan probabilitas ranjau (mine) sebesar 0.4\n",
        "df['mine'] = np.random.choice([0, 1], size=df.shape[0], p=[0.6, 0.4])\n",
        "\n",
        "# Fungsi untuk menghitung jumlah ranjau di petak-petak tetangga\n",
        "def count_adjacent_mines(x, y, mine_column, X, Y):\n",
        "    # Daftar koordinat tetangga yang mungkin (di dalam batas grid)\n",
        "    adjacent_coords = [\n",
        "        (x-1, y-1), (x-1, y), (x-1, y+1),\n",
        "        (x, y-1),           (x, y+1),\n",
        "        (x+1, y-1), (x+1, y), (x+1, y+1)\n",
        "    ]\n",
        "\n",
        "    # Menghitung jumlah ranjau di petak-petak tetangga yang valid\n",
        "    count = 0\n",
        "    for (i, j) in adjacent_coords:\n",
        "        # Memastikan koordinat berada dalam batas grid\n",
        "        if 0 <= i < X and 0 <= j < Y:\n",
        "            count += mine_column[(mine_column['x'] == i) & (mine_column['y'] == j)]['mine'].values[0]\n",
        "    return count\n",
        "\n",
        "# Menghitung nilai 'adjacent' untuk setiap koordinat yang aman (bukan ranjau)\n",
        "df['adjacent'] = df.apply(lambda row: count_adjacent_mines(row['x'], row['y'], df, X, Y)\n",
        "                          if row['mine'] == 0 else np.nan, axis=1)\n",
        "\n",
        "# Mengonversi DataFrame ke dalam format grid (pivot table)\n",
        "grid_adjacent = df.pivot(index='y', columns='x', values='adjacent')\n",
        "\n",
        "# Menampilkan hasil grid\n",
        "print(grid_adjacent)"
      ]
    },
    {
      "cell_type": "markdown",
      "metadata": {
        "id": "2FBR19LYUtq3"
      },
      "source": [
        "## Plotting\n",
        "\n",
        "### Visualize trends and patterns in data\n",
        "\n",
        "Difficulty: *medium*\n",
        "\n",
        "To really get a good understanding of the data contained in your DataFrame, it is often essential to create plots: if you're lucky, trends and anomalies will jump right out at you. This functionality is baked into pandas and the puzzles below explore some of what's possible with the library.\n",
        "\n",
        "**56.** Pandas is highly integrated with the plotting library matplotlib, and makes plotting DataFrames very user-friendly! Plotting in a notebook environment usually makes use of the following boilerplate:\n",
        "\n",
        "```python\n",
        "import matplotlib.pyplot as plt\n",
        "%matplotlib inline\n",
        "plt.style.use('ggplot')\n",
        "```\n",
        "\n",
        "matplotlib is the plotting library which pandas' plotting functionality is built upon, and it is usually aliased to ```plt```.\n",
        "\n",
        "```%matplotlib inline``` tells the notebook to show plots inline, instead of creating them in a separate window.  \n",
        "\n",
        "```plt.style.use('ggplot')``` is a style theme that most people find agreeable, based upon the styling of R's ggplot package.\n",
        "\n",
        "For starters, make a scatter plot of this random data, but use black X's instead of the default markers.\n",
        "\n",
        "```df = pd.DataFrame({\"xs\":[1,5,2,8,1], \"ys\":[4,2,1,9,6]})```\n",
        "\n",
        "Consult the [documentation](https://pandas.pydata.org/pandas-docs/stable/generated/pandas.DataFrame.plot.html) if you get stuck!"
      ]
    },
    {
      "cell_type": "code",
      "execution_count": 73,
      "metadata": {
        "collapsed": true,
        "colab": {
          "base_uri": "https://localhost:8080/",
          "height": 477
        },
        "id": "vwYorFg7Utq4",
        "outputId": "d479d3d2-e841-4636-8d4c-8cfb4ed88edd"
      },
      "outputs": [
        {
          "output_type": "display_data",
          "data": {
            "text/plain": [
              "<Figure size 640x480 with 1 Axes>"
            ],
            "image/png": "[encoded data removed]"
          },
          "metadata": {}
        }
      ],
      "source": [
        "import matplotlib.pyplot as plt\n",
        "import pandas as pd\n",
        "\n",
        "# Setup for inline plotting and style\n",
        "%matplotlib inline\n",
        "plt.style.use('ggplot')\n",
        "\n",
        "# Create the DataFrame\n",
        "df = pd.DataFrame({\"xs\": [1, 5, 2, 8, 1], \"ys\": [4, 2, 1, 9, 6]})\n",
        "\n",
        "# Scatter plot with black X's as markers\n",
        "plt.scatter(df['xs'], df['ys'], color='black', marker='x')\n",
        "\n",
        "# Add labels for clarity\n",
        "plt.xlabel('X values')\n",
        "plt.ylabel('Y values')\n",
        "plt.title('Scatter Plot with Black X Markers')\n",
        "\n",
        "# Show the plot\n",
        "plt.show()"
      ]
    },
    {
      "cell_type": "markdown",
      "metadata": {
        "id": "9dp89w3SUtq4"
      },
      "source": [
        "**57.** Columns in your DataFrame can also be used to modify colors and sizes.  Bill has been keeping track of his performance at work over time, as well as how good he was feeling that day, and whether he had a cup of coffee in the morning.  Make a plot which incorporates all four features of this DataFrame.\n",
        "\n",
        "(Hint:  If you're having trouble seeing the plot, try multiplying the Series which you choose to represent size by 10 or more)\n",
        "\n",
        "*The chart doesn't have to be pretty: this isn't a course in data viz!*\n",
        "\n",
        "```\n",
        "df = pd.DataFrame({\"productivity\":[5,2,3,1,4,5,6,7,8,3,4,8,9],\n",
        "                   \"hours_in\"    :[1,9,6,5,3,9,2,9,1,7,4,2,2],\n",
        "                   \"happiness\"   :[2,1,3,2,3,1,2,3,1,2,2,1,3],\n",
        "                   \"caffienated\" :[0,0,1,1,0,0,0,0,1,1,0,1,0]})\n",
        "```"
      ]
    },
    {
      "cell_type": "code",
      "execution_count": 74,
      "metadata": {
        "collapsed": true,
        "colab": {
          "base_uri": "https://localhost:8080/",
          "height": 477
        },
        "id": "Yr7K9zYnUtq5",
        "outputId": "4b3b389d-3f11-45b3-c999-31262825a77c"
      },
      "outputs": [
        {
          "output_type": "display_data",
          "data": {
            "text/plain": [
              "<Figure size 640x480 with 2 Axes>"
            ],
            "image/png": "[encoded data removed]"
          },
          "metadata": {}
        }
      ],
      "source": [
        "# Membuat DataFrame\n",
        "df = pd.DataFrame({\n",
        "    \"productivity\": [5, 2, 3, 1, 4, 5, 6, 7, 8, 3, 4, 8, 9],\n",
        "    \"hours_in\": [1, 9, 6, 5, 3, 9, 2, 9, 1, 7, 4, 2, 2],\n",
        "    \"happiness\": [2, 1, 3, 2, 3, 1, 2, 3, 1, 2, 2, 1, 3],\n",
        "    \"caffienated\": [0, 0, 1, 1, 0, 0, 0, 0, 1, 1, 0, 1, 0]\n",
        "})\n",
        "\n",
        "# Membuat plot scatter dengan ukuran dan warna yang disesuaikan\n",
        "plt.scatter(\n",
        "    df['productivity'],  # sumbu x: productivity\n",
        "    df['happiness'],     # sumbu y: happiness\n",
        "    s=df['hours_in']*10, # ukuran marker berdasarkan hours_in (dikali 10 agar lebih jelas)\n",
        "    c=df['caffienated'], # warna marker berdasarkan caffienated (0 atau 1)\n",
        "    cmap='viridis',      # Pilihan skema warna\n",
        "    alpha=0.7           # Transparansi\n",
        ")\n",
        "\n",
        "# Memberi label pada sumbu\n",
        "plt.xlabel('Produktivitas')\n",
        "plt.ylabel('Kebahagiaan')\n",
        "\n",
        "# Menampilkan plot\n",
        "plt.title('Plot Produktivitas vs Kebahagiaan')\n",
        "plt.colorbar(label='Kopi Pagi (0 = Tidak, 1 = Ya)')  # Menambahkan colorbar untuk 'caffienated'\n",
        "plt.show()"
      ]
    },
    {
      "cell_type": "markdown",
      "metadata": {
        "id": "33XSKhYJUtq5"
      },
      "source": [
        "**58.**  What if we want to plot multiple things?  Pandas allows you to pass in a matplotlib *Axis* object for plots, and plots will also return an Axis object.\n",
        "\n",
        "Make a bar plot of monthly revenue with a line plot of monthly advertising spending (numbers in millions)\n",
        "\n",
        "```\n",
        "df = pd.DataFrame({\"revenue\":[57,68,63,71,72,90,80,62,59,51,47,52],\n",
        "                   \"advertising\":[2.1,1.9,2.7,3.0,3.6,3.2,2.7,2.4,1.8,1.6,1.3,1.9],\n",
        "                   \"month\":range(12)\n",
        "                  })\n",
        "```"
      ]
    },
    {
      "cell_type": "code",
      "execution_count": 75,
      "metadata": {
        "collapsed": true,
        "colab": {
          "base_uri": "https://localhost:8080/",
          "height": 477
        },
        "id": "8pbcq7ltUtq5",
        "outputId": "009c8ffe-ea77-4ae2-991f-e0e13407af0a"
      },
      "outputs": [
        {
          "output_type": "display_data",
          "data": {
            "text/plain": [
              "<Figure size 640x480 with 2 Axes>"
            ],
            "image/png": "[encoded data removed]"
          },
          "metadata": {}
        }
      ],
      "source": [
        "# Membuat DataFrame\n",
        "df = pd.DataFrame({\n",
        "    \"revenue\": [57, 68, 63, 71, 72, 90, 80, 62, 59, 51, 47, 52],\n",
        "    \"advertising\": [2.1, 1.9, 2.7, 3.0, 3.6, 3.2, 2.7, 2.4, 1.8, 1.6, 1.3, 1.9],\n",
        "    \"month\": range(12)\n",
        "})\n",
        "\n",
        "# Membuat figure dan axis\n",
        "fig, ax1 = plt.subplots()\n",
        "\n",
        "# Membuat bar plot untuk revenue\n",
        "ax1.bar(df['month'], df['revenue'], color='b', alpha=0.6, label='Revenue', width=0.4)\n",
        "\n",
        "# Membuat axis kedua untuk plot garis\n",
        "ax2 = ax1.twinx()\n",
        "\n",
        "# Membuat line plot untuk advertising\n",
        "ax2.plot(df['month'], df['advertising'], color='r', marker='o', label='Advertising', linestyle='-', linewidth=2)\n",
        "\n",
        "# Menambahkan label dan judul\n",
        "ax1.set_xlabel('Month')\n",
        "ax1.set_ylabel('Revenue (Millions)', color='b')\n",
        "ax2.set_ylabel('Advertising Spending (Millions)', color='r')\n",
        "plt.title('Monthly Revenue and Advertising Spending')\n",
        "\n",
        "# Menampilkan plot\n",
        "plt.show()"
      ]
    },
    {
      "cell_type": "markdown",
      "metadata": {
        "id": "SH75IoZEUtq5"
      },
      "source": [
        "Now we're finally ready to create a candlestick chart, which is a very common tool used to analyze stock price data.  A candlestick chart shows the opening, closing, highest, and lowest price for a stock during a time window.  The color of the \"candle\" (the thick part of the bar) is green if the stock closed above its opening price, or red if below.\n",
        "\n",
        "![Candlestick Example](img/candle.jpg)\n",
        "\n",
        "This was initially designed to be a pandas plotting challenge, but it just so happens that this type of plot is just not feasible using pandas' methods.  If you are unfamiliar with matplotlib, we have provided a function that will plot the chart for you so long as you can use pandas to get the data into the correct format.\n",
        "\n",
        "Your first step should be to get the data in the correct format using pandas' time-series grouping function.  We would like each candle to represent an hour's worth of data.  You can write your own aggregation function which returns the open/high/low/close, but pandas has a built-in which also does this."
      ]
    },
    {
      "cell_type": "markdown",
      "metadata": {
        "id": "txpgwNZnUtq5"
      },
      "source": [
        "The below cell contains helper functions.  Call ```day_stock_data()``` to generate a DataFrame containing the prices a hypothetical stock sold for, and the time the sale occurred.  Call ```plot_candlestick(df)``` on your properly aggregated and formatted stock data to print the candlestick chart."
      ]
    },
    {
      "cell_type": "code",
      "execution_count": 76,
      "metadata": {
        "collapsed": true,
        "id": "irm-qe8RUtq6"
      },
      "outputs": [],
      "source": [
        "import numpy as np\n",
        "def float_to_time(x):\n",
        "    return str(int(x)) + \":\" + str(int(x%1 * 60)).zfill(2) + \":\" + str(int(x*60 % 1 * 60)).zfill(2)\n",
        "\n",
        "def day_stock_data():\n",
        "    #NYSE is open from 9:30 to 4:00\n",
        "    time = 9.5\n",
        "    price = 100\n",
        "    results = [(float_to_time(time), price)]\n",
        "    while time < 16:\n",
        "        elapsed = np.random.exponential(.001)\n",
        "        time += elapsed\n",
        "        if time > 16:\n",
        "            break\n",
        "        price_diff = np.random.uniform(.999, 1.001)\n",
        "        price *= price_diff\n",
        "        results.append((float_to_time(time), price))\n",
        "\n",
        "\n",
        "    df = pd.DataFrame(results, columns = ['time','price'])\n",
        "    df.time = pd.to_datetime(df.time)\n",
        "    return df\n",
        "\n",
        "#Don't read me unless you get stuck!\n",
        "def plot_candlestick(agg):\n",
        "    \"\"\"\n",
        "    agg is a DataFrame which has a DatetimeIndex and five columns: [\"open\",\"high\",\"low\",\"close\",\"color\"]\n",
        "    \"\"\"\n",
        "    fig, ax = plt.subplots()\n",
        "    for time in agg.index:\n",
        "        ax.plot([time.hour] * 2, agg.loc[time, [\"high\",\"low\"]].values, color = \"black\")\n",
        "        ax.plot([time.hour] * 2, agg.loc[time, [\"open\",\"close\"]].values, color = agg.loc[time, \"color\"], linewidth = 10)\n",
        "\n",
        "    ax.set_xlim((8,16))\n",
        "    ax.set_ylabel(\"Price\")\n",
        "    ax.set_xlabel(\"Hour\")\n",
        "    ax.set_title(\"OHLC of Stock Value During Trading Day\")\n",
        "    plt.show()"
      ]
    },
    {
      "cell_type": "markdown",
      "metadata": {
        "id": "GKk9YC_uUtq6"
      },
      "source": [
        "**59.** Generate a day's worth of random stock data, and aggregate / reformat it so that it has hourly summaries of the opening, highest, lowest, and closing prices"
      ]
    },
    {
      "cell_type": "code",
      "execution_count": 77,
      "metadata": {
        "collapsed": true,
        "colab": {
          "base_uri": "https://localhost:8080/",
          "height": 723
        },
        "id": "etB5naGQUtq6",
        "outputId": "1d7866d3-2726-455e-9ee6-bcac45a993d3"
      },
      "outputs": [
        {
          "output_type": "stream",
          "name": "stderr",
          "text": [
            "<ipython-input-77-580a6d87cd82>:22: UserWarning: Could not infer format, so each element will be parsed individually, falling back to `dateutil`. To ensure parsing is consistent and as-expected, please specify a format.\n",
            "  df.time = pd.to_datetime(df.time)  # mengonversi waktu menjadi tipe datetime\n",
            "<ipython-input-77-580a6d87cd82>:31: FutureWarning: 'H' is deprecated and will be removed in a future version, please use 'h' instead.\n",
            "  agg = df.resample('H').agg(\n"
          ]
        },
        {
          "output_type": "stream",
          "name": "stdout",
          "text": [
            "                           open        high         low       close  color\n",
            "time                                                                      \n",
            "2024-12-05 09:00:00  100.000000  100.071460   98.773542   99.335852    red\n",
            "2024-12-05 10:00:00   99.308068  100.010416   98.159931   99.434117  green\n",
            "2024-12-05 11:00:00   99.453265  102.063782   99.366357  101.217032  green\n",
            "2024-12-05 12:00:00  101.262176  103.294861  100.053108  102.961719  green\n",
            "2024-12-05 13:00:00  103.034268  105.174937  101.741861  101.754361    red\n",
            "2024-12-05 14:00:00  101.834773  103.075088   99.860088  101.541661    red\n",
            "2024-12-05 15:00:00  101.604387  102.115858   97.405174   98.388104    red\n"
          ]
        },
        {
          "output_type": "display_data",
          "data": {
            "text/plain": [
              "<Figure size 640x480 with 1 Axes>"
            ],
            "image/png": "[encoded data removed]"
          },
          "metadata": {}
        }
      ],
      "source": [
        "# Fungsi untuk mengonversi waktu ke format jam:menit:detik\n",
        "def float_to_time(x):\n",
        "    return str(int(x)) + \":\" + str(int(x%1 * 60)).zfill(2) + \":\" + str(int(x*60 % 1 * 60)).zfill(2)\n",
        "\n",
        "# Fungsi untuk menghasilkan data saham acak dalam satu hari\n",
        "def day_stock_data():\n",
        "    # NYSE buka dari jam 9:30 hingga 4:00\n",
        "    time = 9.5  # jam 9:30\n",
        "    price = 100  # harga awal\n",
        "    results = [(float_to_time(time), price)]  # daftar untuk menyimpan hasil\n",
        "    while time < 16:  # selama waktu masih di bawah 16:00\n",
        "        elapsed = np.random.exponential(.001)  # waktu yang berlalu secara acak\n",
        "        time += elapsed\n",
        "        if time > 16:  # jika waktu melebihi 16:00, keluar dari loop\n",
        "            break\n",
        "        price_diff = np.random.uniform(.999, 1.001)  # perubahan harga secara acak\n",
        "        price *= price_diff  # update harga\n",
        "        results.append((float_to_time(time), price))  # simpan waktu dan harga\n",
        "\n",
        "    # Membuat DataFrame dengan hasil yang telah terkumpul\n",
        "    df = pd.DataFrame(results, columns = ['time','price'])\n",
        "    df.time = pd.to_datetime(df.time)  # mengonversi waktu menjadi tipe datetime\n",
        "    return df\n",
        "\n",
        "# Fungsi untuk mengagregasi data saham dan membuat summary per jam\n",
        "def aggregate_stock_data(df):\n",
        "    # Mengatur waktu sebagai index\n",
        "    df.set_index('time', inplace=True)\n",
        "\n",
        "    # Resampling per jam dan menghitung open, high, low, close\n",
        "    agg = df.resample('H').agg(\n",
        "        open=('price', 'first'),\n",
        "        high=('price', 'max'),\n",
        "        low=('price', 'min'),\n",
        "        close=('price', 'last')\n",
        "    )\n",
        "\n",
        "    # Menambahkan kolom 'color' untuk menunjukkan naik/turun harga\n",
        "    agg['color'] = np.where(agg['close'] > agg['open'], 'green', 'red')\n",
        "\n",
        "    return agg\n",
        "\n",
        "# Menghasilkan data saham acak untuk satu hari\n",
        "df = day_stock_data()\n",
        "\n",
        "# Mengagregasi data saham menjadi summary per jam\n",
        "agg = aggregate_stock_data(df)\n",
        "\n",
        "# Menampilkan hasil agregasi\n",
        "print(agg)\n",
        "\n",
        "# Fungsi untuk memplot grafik candlestick\n",
        "def plot_candlestick(agg):\n",
        "    fig, ax = plt.subplots()\n",
        "    for time in agg.index:\n",
        "        ax.plot([time.hour] * 2, agg.loc[time, [\"high\",\"low\"]].values, color = \"black\")\n",
        "        ax.plot([time.hour] * 2, agg.loc[time, [\"open\",\"close\"]].values, color = agg.loc[time, \"color\"], linewidth = 10)\n",
        "\n",
        "    ax.set_xlim((8,16))\n",
        "    ax.set_ylabel(\"Harga\")\n",
        "    ax.set_xlabel(\"Jam\")\n",
        "    ax.set_title(\"OHLC Harga Saham Selama Hari Perdagangan\")\n",
        "    plt.show()\n",
        "\n",
        "# Menampilkan grafik candlestick\n",
        "plot_candlestick(agg)"
      ]
    },
    {
      "cell_type": "markdown",
      "metadata": {
        "id": "X835K4M2Utq7"
      },
      "source": [
        "**60.** Now that you have your properly-formatted data, try to plot it yourself as a candlestick chart.  Use the ```plot_candlestick(df)``` function above, or matplotlib's [```plot``` documentation](https://matplotlib.org/api/_as_gen/matplotlib.axes.Axes.plot.html) if you get stuck."
      ]
    },
    {
      "cell_type": "code",
      "execution_count": 78,
      "metadata": {
        "collapsed": true,
        "colab": {
          "base_uri": "https://localhost:8080/",
          "height": 532
        },
        "id": "8-u33DGEUtq7",
        "outputId": "a85ceaf9-9826-454f-d8db-e8c154ff3256"
      },
      "outputs": [
        {
          "output_type": "stream",
          "name": "stderr",
          "text": [
            "<ipython-input-78-9ab68d615771>:22: UserWarning: Could not infer format, so each element will be parsed individually, falling back to `dateutil`. To ensure parsing is consistent and as-expected, please specify a format.\n",
            "  df.time = pd.to_datetime(df.time)  # mengonversi waktu menjadi tipe datetime\n"
          ]
        },
        {
          "output_type": "display_data",
          "data": {
            "text/plain": [
              "<Figure size 640x480 with 1 Axes>"
            ],
            "image/png": "[encoded data removed]"
          },
          "metadata": {}
        }
      ],
      "source": [
        "# Fungsi untuk mengonversi waktu ke format jam:menit:detik\n",
        "def float_to_time(x):\n",
        "    return str(int(x)) + \":\" + str(int(x%1 * 60)).zfill(2) + \":\" + str(int(x*60 % 1 * 60)).zfill(2)\n",
        "\n",
        "# Fungsi untuk menghasilkan data saham acak dalam satu hari\n",
        "def day_stock_data():\n",
        "    # NYSE buka dari jam 9:30 hingga 4:00\n",
        "    time = 9.5  # jam 9:30\n",
        "    price = 100  # harga awal\n",
        "    results = [(float_to_time(time), price)]  # daftar untuk menyimpan hasil\n",
        "    while time < 16:  # selama waktu masih di bawah 16:00\n",
        "        elapsed = np.random.exponential(.001)  # waktu yang berlalu secara acak\n",
        "        time += elapsed\n",
        "        if time > 16:  # jika waktu melebihi 16:00, keluar dari loop\n",
        "            break\n",
        "        price_diff = np.random.uniform(.999, 1.001)  # perubahan harga secara acak\n",
        "        price *= price_diff  # update harga\n",
        "        results.append((float_to_time(time), price))  # simpan waktu dan harga\n",
        "\n",
        "    # Membuat DataFrame dengan hasil yang telah terkumpul\n",
        "    df = pd.DataFrame(results, columns = ['time','price'])\n",
        "    df.time = pd.to_datetime(df.time)  # mengonversi waktu menjadi tipe datetime\n",
        "    return df\n",
        "\n",
        "# Fungsi untuk mengagregasi data saham dan membuat summary per jam\n",
        "def aggregate_stock_data(df):\n",
        "    # Menambahkan kolom yang berisi jam (hanya untuk pengelompokkan)\n",
        "    df['hour'] = df['time'].dt.hour\n",
        "    # Mengagregasi berdasarkan jam\n",
        "    agg = df.groupby('hour').agg(\n",
        "        open=('price', 'first'),  # Harga pertama dalam jam tersebut\n",
        "        high=('price', 'max'),    # Harga tertinggi dalam jam tersebut\n",
        "        low=('price', 'min'),     # Harga terendah dalam jam tersebut\n",
        "        close=('price', 'last')   # Harga terakhir dalam jam tersebut\n",
        "    )\n",
        "\n",
        "    # Menambahkan warna untuk harga naik (green) atau turun (red)\n",
        "    agg['color'] = np.where(agg['close'] > agg['open'], 'green', 'red')\n",
        "    return agg\n",
        "\n",
        "# Fungsi untuk memplot data candlestick\n",
        "def plot_candlestick(agg):\n",
        "    \"\"\"\n",
        "    agg adalah DataFrame yang memiliki index Datetime dan lima kolom: [\"open\",\"high\",\"low\",\"close\",\"color\"]\n",
        "    \"\"\"\n",
        "    fig, ax = plt.subplots()\n",
        "    for time in agg.index:\n",
        "        ax.plot([time] * 2, agg.loc[time, [\"high\", \"low\"]].values, color=\"black\")\n",
        "        ax.plot([time] * 2, agg.loc[time, [\"open\", \"close\"]].values, color=agg.loc[time, \"color\"], linewidth=10)\n",
        "\n",
        "    ax.set_xlim((8, 16))  # Rentang waktu dari 8 hingga 16\n",
        "    ax.set_ylabel(\"Price\")\n",
        "    ax.set_xlabel(\"Hour\")\n",
        "    ax.set_title(\"OHLC of Stock Value During Trading Day\")\n",
        "    plt.show()\n",
        "\n",
        "# Generate data saham untuk satu hari\n",
        "df = day_stock_data()\n",
        "\n",
        "# Agregasi data saham per jam\n",
        "agg = aggregate_stock_data(df)\n",
        "\n",
        "# Plot data saham menggunakan candlestick\n",
        "plot_candlestick(agg)"
      ]
    },
    {
      "cell_type": "markdown",
      "metadata": {
        "id": "OLOzqjTHUtq7"
      },
      "source": [
        "*More exercises to follow soon...*"
      ]
    }
  ],
  "metadata": {
    "kernelspec": {
      "display_name": "Python 3 (ipykernel)",
      "language": "python",
      "name": "python3"
    },
    "language_info": {
      "codemirror_mode": {
        "name": "ipython",
        "version": 3
      },
      "file_extension": ".py",
      "mimetype": "text/x-python",
      "name": "python",
      "nbconvert_exporter": "python",
      "pygments_lexer": "ipython3",
      "version": "3.11.4"
    },
    "colab": {
      "provenance": []
    }
  },
  "nbformat": 4,
  "nbformat_minor": 0
}